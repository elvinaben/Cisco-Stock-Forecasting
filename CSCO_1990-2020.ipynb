{
  "cells": [
    {
      "cell_type": "code",
      "execution_count": 7,
      "metadata": {
        "id": "-HVcsN5a-osR"
      },
      "outputs": [],
      "source": [
        "import pandas as pd\n",
        "import numpy as np\n",
        "import seaborn as sns\n",
        "import matplotlib.pyplot as plt\n",
        "from sklearn.metrics import mean_squared_error, mean_absolute_error, r2_score, mean_absolute_percentage_error\n",
        "import numpy as np\n",
        "from sklearn.preprocessing import StandardScaler\n",
        "\n",
        "import keras\n",
        "import keras_tuner as kt\n",
        "\n",
        "import tensorflow as tf\n",
        "from tensorflow.keras.callbacks import EarlyStopping, ModelCheckpoint\n",
        "from tensorflow.keras.models import Sequential\n",
        "from tensorflow.keras.layers import LSTM, Dense, Dropout\n",
        "\n",
        "import warnings\n",
        "warnings.filterwarnings('ignore')"
      ]
    },
    {
      "cell_type": "markdown",
      "metadata": {
        "id": "qXpVMV-Wfiao"
      },
      "source": [
        "# Import Dataset"
      ]
    },
    {
      "cell_type": "code",
      "execution_count": 13,
      "metadata": {
        "colab": {
          "base_uri": "https://localhost:8080/"
        },
        "id": "01UR4e8x_dIS",
        "outputId": "6ec7a6ad-4d5c-449e-e13a-62b0adff2e80"
      },
      "outputs": [
        {
          "data": {
            "text/html": [
              "<div>\n",
              "<style scoped>\n",
              "    .dataframe tbody tr th:only-of-type {\n",
              "        vertical-align: middle;\n",
              "    }\n",
              "\n",
              "    .dataframe tbody tr th {\n",
              "        vertical-align: top;\n",
              "    }\n",
              "\n",
              "    .dataframe thead th {\n",
              "        text-align: right;\n",
              "    }\n",
              "</style>\n",
              "<table border=\"1\" class=\"dataframe\">\n",
              "  <thead>\n",
              "    <tr style=\"text-align: right;\">\n",
              "      <th></th>\n",
              "      <th>Date</th>\n",
              "      <th>Open</th>\n",
              "      <th>High</th>\n",
              "      <th>Low</th>\n",
              "      <th>Close</th>\n",
              "      <th>Adj Close</th>\n",
              "      <th>Volume</th>\n",
              "    </tr>\n",
              "  </thead>\n",
              "  <tbody>\n",
              "    <tr>\n",
              "      <th>0</th>\n",
              "      <td>1990-02-16</td>\n",
              "      <td>0.0</td>\n",
              "      <td>0.079861</td>\n",
              "      <td>0.073785</td>\n",
              "      <td>0.077257</td>\n",
              "      <td>0.059806</td>\n",
              "      <td>940636800</td>\n",
              "    </tr>\n",
              "    <tr>\n",
              "      <th>1</th>\n",
              "      <td>1990-02-20</td>\n",
              "      <td>0.0</td>\n",
              "      <td>0.079861</td>\n",
              "      <td>0.074653</td>\n",
              "      <td>0.079861</td>\n",
              "      <td>0.061822</td>\n",
              "      <td>151862400</td>\n",
              "    </tr>\n",
              "    <tr>\n",
              "      <th>2</th>\n",
              "      <td>1990-02-21</td>\n",
              "      <td>0.0</td>\n",
              "      <td>0.078993</td>\n",
              "      <td>0.075521</td>\n",
              "      <td>0.078125</td>\n",
              "      <td>0.060478</td>\n",
              "      <td>70531200</td>\n",
              "    </tr>\n",
              "    <tr>\n",
              "      <th>3</th>\n",
              "      <td>1990-02-22</td>\n",
              "      <td>0.0</td>\n",
              "      <td>0.081597</td>\n",
              "      <td>0.078993</td>\n",
              "      <td>0.078993</td>\n",
              "      <td>0.061150</td>\n",
              "      <td>45216000</td>\n",
              "    </tr>\n",
              "    <tr>\n",
              "      <th>4</th>\n",
              "      <td>1990-02-23</td>\n",
              "      <td>0.0</td>\n",
              "      <td>0.079861</td>\n",
              "      <td>0.078125</td>\n",
              "      <td>0.078559</td>\n",
              "      <td>0.060814</td>\n",
              "      <td>44697600</td>\n",
              "    </tr>\n",
              "    <tr>\n",
              "      <th>5</th>\n",
              "      <td>1990-02-26</td>\n",
              "      <td>0.0</td>\n",
              "      <td>0.079861</td>\n",
              "      <td>0.076389</td>\n",
              "      <td>0.076389</td>\n",
              "      <td>0.059134</td>\n",
              "      <td>26928000</td>\n",
              "    </tr>\n",
              "    <tr>\n",
              "      <th>6</th>\n",
              "      <td>1990-02-27</td>\n",
              "      <td>0.0</td>\n",
              "      <td>0.079427</td>\n",
              "      <td>0.076389</td>\n",
              "      <td>0.078125</td>\n",
              "      <td>0.060478</td>\n",
              "      <td>25574400</td>\n",
              "    </tr>\n",
              "    <tr>\n",
              "      <th>7</th>\n",
              "      <td>1990-02-28</td>\n",
              "      <td>0.0</td>\n",
              "      <td>0.082465</td>\n",
              "      <td>0.078125</td>\n",
              "      <td>0.080729</td>\n",
              "      <td>0.062494</td>\n",
              "      <td>67968000</td>\n",
              "    </tr>\n",
              "    <tr>\n",
              "      <th>8</th>\n",
              "      <td>1990-03-01</td>\n",
              "      <td>0.0</td>\n",
              "      <td>0.081597</td>\n",
              "      <td>0.079861</td>\n",
              "      <td>0.079861</td>\n",
              "      <td>0.061822</td>\n",
              "      <td>28425600</td>\n",
              "    </tr>\n",
              "    <tr>\n",
              "      <th>9</th>\n",
              "      <td>1990-03-02</td>\n",
              "      <td>0.0</td>\n",
              "      <td>0.081597</td>\n",
              "      <td>0.079861</td>\n",
              "      <td>0.080729</td>\n",
              "      <td>0.062494</td>\n",
              "      <td>8438400</td>\n",
              "    </tr>\n",
              "  </tbody>\n",
              "</table>\n",
              "</div>"
            ],
            "text/plain": [
              "         Date  Open      High       Low     Close  Adj Close     Volume\n",
              "0  1990-02-16   0.0  0.079861  0.073785  0.077257   0.059806  940636800\n",
              "1  1990-02-20   0.0  0.079861  0.074653  0.079861   0.061822  151862400\n",
              "2  1990-02-21   0.0  0.078993  0.075521  0.078125   0.060478   70531200\n",
              "3  1990-02-22   0.0  0.081597  0.078993  0.078993   0.061150   45216000\n",
              "4  1990-02-23   0.0  0.079861  0.078125  0.078559   0.060814   44697600\n",
              "5  1990-02-26   0.0  0.079861  0.076389  0.076389   0.059134   26928000\n",
              "6  1990-02-27   0.0  0.079427  0.076389  0.078125   0.060478   25574400\n",
              "7  1990-02-28   0.0  0.082465  0.078125  0.080729   0.062494   67968000\n",
              "8  1990-03-01   0.0  0.081597  0.079861  0.079861   0.061822   28425600\n",
              "9  1990-03-02   0.0  0.081597  0.079861  0.080729   0.062494    8438400"
            ]
          },
          "execution_count": 13,
          "metadata": {},
          "output_type": "execute_result"
        }
      ],
      "source": [
        "df = pd.read_csv(\"CSCO.csv\")\n",
        "df.head(10)"
      ]
    },
    {
      "cell_type": "code",
      "execution_count": 14,
      "metadata": {
        "colab": {
          "base_uri": "https://localhost:8080/"
        },
        "id": "SvSqBA2mK2xF",
        "outputId": "2677ffb2-b8a6-4623-d715-eb3ac940d082"
      },
      "outputs": [
        {
          "data": {
            "text/html": [
              "<div>\n",
              "<style scoped>\n",
              "    .dataframe tbody tr th:only-of-type {\n",
              "        vertical-align: middle;\n",
              "    }\n",
              "\n",
              "    .dataframe tbody tr th {\n",
              "        vertical-align: top;\n",
              "    }\n",
              "\n",
              "    .dataframe thead th {\n",
              "        text-align: right;\n",
              "    }\n",
              "</style>\n",
              "<table border=\"1\" class=\"dataframe\">\n",
              "  <thead>\n",
              "    <tr style=\"text-align: right;\">\n",
              "      <th></th>\n",
              "      <th>Date</th>\n",
              "      <th>Open</th>\n",
              "      <th>High</th>\n",
              "      <th>Low</th>\n",
              "      <th>Close</th>\n",
              "      <th>Adj Close</th>\n",
              "      <th>Volume</th>\n",
              "    </tr>\n",
              "  </thead>\n",
              "  <tbody>\n",
              "    <tr>\n",
              "      <th>7579</th>\n",
              "      <td>2020-03-19</td>\n",
              "      <td>37.049999</td>\n",
              "      <td>39.320000</td>\n",
              "      <td>36.150002</td>\n",
              "      <td>37.709999</td>\n",
              "      <td>37.709999</td>\n",
              "      <td>58319700</td>\n",
              "    </tr>\n",
              "    <tr>\n",
              "      <th>7580</th>\n",
              "      <td>2020-03-20</td>\n",
              "      <td>38.270000</td>\n",
              "      <td>38.470001</td>\n",
              "      <td>35.400002</td>\n",
              "      <td>35.599998</td>\n",
              "      <td>35.599998</td>\n",
              "      <td>48582500</td>\n",
              "    </tr>\n",
              "    <tr>\n",
              "      <th>7581</th>\n",
              "      <td>2020-03-23</td>\n",
              "      <td>35.509998</td>\n",
              "      <td>35.820000</td>\n",
              "      <td>33.740002</td>\n",
              "      <td>34.599998</td>\n",
              "      <td>34.599998</td>\n",
              "      <td>39823400</td>\n",
              "    </tr>\n",
              "    <tr>\n",
              "      <th>7582</th>\n",
              "      <td>2020-03-24</td>\n",
              "      <td>36.410000</td>\n",
              "      <td>38.680000</td>\n",
              "      <td>35.540001</td>\n",
              "      <td>38.599998</td>\n",
              "      <td>38.599998</td>\n",
              "      <td>48235600</td>\n",
              "    </tr>\n",
              "    <tr>\n",
              "      <th>7583</th>\n",
              "      <td>2020-03-25</td>\n",
              "      <td>38.650002</td>\n",
              "      <td>39.950001</td>\n",
              "      <td>37.500000</td>\n",
              "      <td>37.669998</td>\n",
              "      <td>37.669998</td>\n",
              "      <td>42873900</td>\n",
              "    </tr>\n",
              "    <tr>\n",
              "      <th>7584</th>\n",
              "      <td>2020-03-26</td>\n",
              "      <td>37.970001</td>\n",
              "      <td>40.919998</td>\n",
              "      <td>37.369999</td>\n",
              "      <td>40.580002</td>\n",
              "      <td>40.580002</td>\n",
              "      <td>38473300</td>\n",
              "    </tr>\n",
              "    <tr>\n",
              "      <th>7585</th>\n",
              "      <td>2020-03-27</td>\n",
              "      <td>39.209999</td>\n",
              "      <td>40.150002</td>\n",
              "      <td>38.410000</td>\n",
              "      <td>38.820000</td>\n",
              "      <td>38.820000</td>\n",
              "      <td>31278600</td>\n",
              "    </tr>\n",
              "    <tr>\n",
              "      <th>7586</th>\n",
              "      <td>2020-03-30</td>\n",
              "      <td>39.450001</td>\n",
              "      <td>40.490002</td>\n",
              "      <td>38.959999</td>\n",
              "      <td>40.320000</td>\n",
              "      <td>40.320000</td>\n",
              "      <td>27120300</td>\n",
              "    </tr>\n",
              "    <tr>\n",
              "      <th>7587</th>\n",
              "      <td>2020-03-31</td>\n",
              "      <td>40.130001</td>\n",
              "      <td>40.419998</td>\n",
              "      <td>39.110001</td>\n",
              "      <td>39.310001</td>\n",
              "      <td>39.310001</td>\n",
              "      <td>26014200</td>\n",
              "    </tr>\n",
              "    <tr>\n",
              "      <th>7588</th>\n",
              "      <td>2020-04-01</td>\n",
              "      <td>38.169998</td>\n",
              "      <td>38.860001</td>\n",
              "      <td>37.869999</td>\n",
              "      <td>38.330002</td>\n",
              "      <td>38.330002</td>\n",
              "      <td>26773900</td>\n",
              "    </tr>\n",
              "  </tbody>\n",
              "</table>\n",
              "</div>"
            ],
            "text/plain": [
              "            Date       Open       High        Low      Close  Adj Close  \\\n",
              "7579  2020-03-19  37.049999  39.320000  36.150002  37.709999  37.709999   \n",
              "7580  2020-03-20  38.270000  38.470001  35.400002  35.599998  35.599998   \n",
              "7581  2020-03-23  35.509998  35.820000  33.740002  34.599998  34.599998   \n",
              "7582  2020-03-24  36.410000  38.680000  35.540001  38.599998  38.599998   \n",
              "7583  2020-03-25  38.650002  39.950001  37.500000  37.669998  37.669998   \n",
              "7584  2020-03-26  37.970001  40.919998  37.369999  40.580002  40.580002   \n",
              "7585  2020-03-27  39.209999  40.150002  38.410000  38.820000  38.820000   \n",
              "7586  2020-03-30  39.450001  40.490002  38.959999  40.320000  40.320000   \n",
              "7587  2020-03-31  40.130001  40.419998  39.110001  39.310001  39.310001   \n",
              "7588  2020-04-01  38.169998  38.860001  37.869999  38.330002  38.330002   \n",
              "\n",
              "        Volume  \n",
              "7579  58319700  \n",
              "7580  48582500  \n",
              "7581  39823400  \n",
              "7582  48235600  \n",
              "7583  42873900  \n",
              "7584  38473300  \n",
              "7585  31278600  \n",
              "7586  27120300  \n",
              "7587  26014200  \n",
              "7588  26773900  "
            ]
          },
          "execution_count": 14,
          "metadata": {},
          "output_type": "execute_result"
        }
      ],
      "source": [
        "df.tail(10)"
      ]
    },
    {
      "cell_type": "markdown",
      "metadata": {
        "id": "LZEy_tLMfmeL"
      },
      "source": [
        "# EDA"
      ]
    },
    {
      "cell_type": "code",
      "execution_count": 15,
      "metadata": {
        "colab": {
          "base_uri": "https://localhost:8080/"
        },
        "id": "nZf24HFUApNM",
        "outputId": "34b54c04-1534-427f-f60f-0bf0e776f03b"
      },
      "outputs": [
        {
          "data": {
            "text/plain": [
              "(7589, 7)"
            ]
          },
          "execution_count": 15,
          "metadata": {},
          "output_type": "execute_result"
        }
      ],
      "source": [
        "df.shape"
      ]
    },
    {
      "cell_type": "markdown",
      "metadata": {
        "id": "TrXcedRXf7zj"
      },
      "source": [
        "The dataset consist of 7 columns and 7,589 records"
      ]
    },
    {
      "cell_type": "code",
      "execution_count": 16,
      "metadata": {
        "colab": {
          "base_uri": "https://localhost:8080/"
        },
        "id": "f612O-YeAuQG",
        "outputId": "c703bdfa-bb87-453b-bf75-486595f19aae"
      },
      "outputs": [
        {
          "name": "stdout",
          "output_type": "stream",
          "text": [
            "<class 'pandas.core.frame.DataFrame'>\n",
            "RangeIndex: 7589 entries, 0 to 7588\n",
            "Data columns (total 7 columns):\n",
            " #   Column     Non-Null Count  Dtype  \n",
            "---  ------     --------------  -----  \n",
            " 0   Date       7589 non-null   object \n",
            " 1   Open       7589 non-null   float64\n",
            " 2   High       7589 non-null   float64\n",
            " 3   Low        7589 non-null   float64\n",
            " 4   Close      7589 non-null   float64\n",
            " 5   Adj Close  7589 non-null   float64\n",
            " 6   Volume     7589 non-null   int64  \n",
            "dtypes: float64(5), int64(1), object(1)\n",
            "memory usage: 415.2+ KB\n"
          ]
        }
      ],
      "source": [
        "df.info()"
      ]
    },
    {
      "cell_type": "markdown",
      "metadata": {
        "id": "MmE98qL0gkYd"
      },
      "source": [
        "All variables, except for Date, have numeric data types. The Date variable has a data type of object (string)."
      ]
    },
    {
      "cell_type": "markdown",
      "metadata": {
        "id": "HJcBMD-RAxcP"
      },
      "source": [
        "### Data Preprocessing"
      ]
    },
    {
      "cell_type": "markdown",
      "metadata": {
        "id": "1owcLr3Wg6-C"
      },
      "source": [
        "I will do univariate time series prediction using only the Date and Close columns."
      ]
    },
    {
      "cell_type": "code",
      "execution_count": 17,
      "metadata": {
        "colab": {
          "base_uri": "https://localhost:8080/"
        },
        "id": "KlW2TPfAABjQ",
        "outputId": "b8ce9526-fb17-40bc-a9e2-8fbb5410a143"
      },
      "outputs": [
        {
          "data": {
            "text/html": [
              "<div>\n",
              "<style scoped>\n",
              "    .dataframe tbody tr th:only-of-type {\n",
              "        vertical-align: middle;\n",
              "    }\n",
              "\n",
              "    .dataframe tbody tr th {\n",
              "        vertical-align: top;\n",
              "    }\n",
              "\n",
              "    .dataframe thead th {\n",
              "        text-align: right;\n",
              "    }\n",
              "</style>\n",
              "<table border=\"1\" class=\"dataframe\">\n",
              "  <thead>\n",
              "    <tr style=\"text-align: right;\">\n",
              "      <th></th>\n",
              "      <th>Date</th>\n",
              "      <th>Close</th>\n",
              "    </tr>\n",
              "  </thead>\n",
              "  <tbody>\n",
              "    <tr>\n",
              "      <th>0</th>\n",
              "      <td>1990-02-16</td>\n",
              "      <td>0.077257</td>\n",
              "    </tr>\n",
              "    <tr>\n",
              "      <th>1</th>\n",
              "      <td>1990-02-20</td>\n",
              "      <td>0.079861</td>\n",
              "    </tr>\n",
              "    <tr>\n",
              "      <th>2</th>\n",
              "      <td>1990-02-21</td>\n",
              "      <td>0.078125</td>\n",
              "    </tr>\n",
              "    <tr>\n",
              "      <th>3</th>\n",
              "      <td>1990-02-22</td>\n",
              "      <td>0.078993</td>\n",
              "    </tr>\n",
              "    <tr>\n",
              "      <th>4</th>\n",
              "      <td>1990-02-23</td>\n",
              "      <td>0.078559</td>\n",
              "    </tr>\n",
              "  </tbody>\n",
              "</table>\n",
              "</div>"
            ],
            "text/plain": [
              "         Date     Close\n",
              "0  1990-02-16  0.077257\n",
              "1  1990-02-20  0.079861\n",
              "2  1990-02-21  0.078125\n",
              "3  1990-02-22  0.078993\n",
              "4  1990-02-23  0.078559"
            ]
          },
          "execution_count": 17,
          "metadata": {},
          "output_type": "execute_result"
        }
      ],
      "source": [
        "df = df[['Date', 'Close']]\n",
        "df.head()"
      ]
    },
    {
      "cell_type": "code",
      "execution_count": 18,
      "metadata": {
        "colab": {
          "base_uri": "https://localhost:8080/"
        },
        "id": "oiWtxtZVBG59",
        "outputId": "bd07d102-3364-4547-c948-dc010b2fcb3a"
      },
      "outputs": [
        {
          "data": {
            "text/html": [
              "<div>\n",
              "<style scoped>\n",
              "    .dataframe tbody tr th:only-of-type {\n",
              "        vertical-align: middle;\n",
              "    }\n",
              "\n",
              "    .dataframe tbody tr th {\n",
              "        vertical-align: top;\n",
              "    }\n",
              "\n",
              "    .dataframe thead th {\n",
              "        text-align: right;\n",
              "    }\n",
              "</style>\n",
              "<table border=\"1\" class=\"dataframe\">\n",
              "  <thead>\n",
              "    <tr style=\"text-align: right;\">\n",
              "      <th></th>\n",
              "      <th>Close</th>\n",
              "    </tr>\n",
              "    <tr>\n",
              "      <th>Date</th>\n",
              "      <th></th>\n",
              "    </tr>\n",
              "  </thead>\n",
              "  <tbody>\n",
              "    <tr>\n",
              "      <th>1990-02-16</th>\n",
              "      <td>0.077257</td>\n",
              "    </tr>\n",
              "    <tr>\n",
              "      <th>1990-02-20</th>\n",
              "      <td>0.079861</td>\n",
              "    </tr>\n",
              "    <tr>\n",
              "      <th>1990-02-21</th>\n",
              "      <td>0.078125</td>\n",
              "    </tr>\n",
              "    <tr>\n",
              "      <th>1990-02-22</th>\n",
              "      <td>0.078993</td>\n",
              "    </tr>\n",
              "    <tr>\n",
              "      <th>1990-02-23</th>\n",
              "      <td>0.078559</td>\n",
              "    </tr>\n",
              "    <tr>\n",
              "      <th>1990-02-26</th>\n",
              "      <td>0.076389</td>\n",
              "    </tr>\n",
              "    <tr>\n",
              "      <th>1990-02-27</th>\n",
              "      <td>0.078125</td>\n",
              "    </tr>\n",
              "    <tr>\n",
              "      <th>1990-02-28</th>\n",
              "      <td>0.080729</td>\n",
              "    </tr>\n",
              "    <tr>\n",
              "      <th>1990-03-01</th>\n",
              "      <td>0.079861</td>\n",
              "    </tr>\n",
              "    <tr>\n",
              "      <th>1990-03-02</th>\n",
              "      <td>0.080729</td>\n",
              "    </tr>\n",
              "  </tbody>\n",
              "</table>\n",
              "</div>"
            ],
            "text/plain": [
              "               Close\n",
              "Date                \n",
              "1990-02-16  0.077257\n",
              "1990-02-20  0.079861\n",
              "1990-02-21  0.078125\n",
              "1990-02-22  0.078993\n",
              "1990-02-23  0.078559\n",
              "1990-02-26  0.076389\n",
              "1990-02-27  0.078125\n",
              "1990-02-28  0.080729\n",
              "1990-03-01  0.079861\n",
              "1990-03-02  0.080729"
            ]
          },
          "execution_count": 18,
          "metadata": {},
          "output_type": "execute_result"
        }
      ],
      "source": [
        "df['Date'] = pd.to_datetime(df['Date'])\n",
        "df.set_index('Date', inplace=True)\n",
        "\n",
        "df.head(10)"
      ]
    },
    {
      "cell_type": "markdown",
      "metadata": {
        "id": "LBGTNPH8iJ1t"
      },
      "source": [
        "Above, I changed the Date datatype to datetime and then set it as the index."
      ]
    },
    {
      "cell_type": "code",
      "execution_count": 19,
      "metadata": {
        "colab": {
          "base_uri": "https://localhost:8080/"
        },
        "id": "kindu0anAMJg",
        "outputId": "824624c1-81a8-43f1-dd29-417e65da00c0"
      },
      "outputs": [
        {
          "data": {
            "image/png": "[encoded data removed]",
            "text/plain": [
              "<Figure size 1000x600 with 1 Axes>"
            ]
          },
          "metadata": {},
          "output_type": "display_data"
        }
      ],
      "source": [
        "plt.figure(figsize=(10, 6))\n",
        "plt.plot(df.index, df['Close'], color='b')\n",
        "plt.xlabel('Date')\n",
        "plt.ylabel('Close Price')\n",
        "plt.title('Time Series of Close Prices')\n",
        "plt.grid(True)\n",
        "plt.show()"
      ]
    },
    {
      "cell_type": "markdown",
      "metadata": {
        "id": "lXiIIUlXhefs"
      },
      "source": [
        "The image above shows a graph of the close price over time. It can be seen that the highest close price occurred around the year 2000."
      ]
    },
    {
      "cell_type": "code",
      "execution_count": 20,
      "metadata": {
        "colab": {
          "base_uri": "https://localhost:8080/"
        },
        "id": "DRR356x3EGEf",
        "outputId": "14e11b20-dee5-487e-c9f2-d601bddf5082"
      },
      "outputs": [
        {
          "name": "stdout",
          "output_type": "stream",
          "text": [
            "<class 'pandas.core.frame.DataFrame'>\n",
            "DatetimeIndex: 7589 entries, 1990-02-16 to 2020-04-01\n",
            "Data columns (total 1 columns):\n",
            " #   Column  Non-Null Count  Dtype  \n",
            "---  ------  --------------  -----  \n",
            " 0   Close   7589 non-null   float64\n",
            "dtypes: float64(1)\n",
            "memory usage: 118.6 KB\n"
          ]
        }
      ],
      "source": [
        "df.info()"
      ]
    },
    {
      "cell_type": "markdown",
      "metadata": {
        "id": "PQ8UZOohibDg"
      },
      "source": [
        "The data is now univariate, focusing on the single variable \"Close.\""
      ]
    },
    {
      "cell_type": "code",
      "execution_count": 21,
      "metadata": {
        "colab": {
          "base_uri": "https://localhost:8080/"
        },
        "id": "gbfRncRGHgkP",
        "outputId": "79f7cc11-1960-4a5c-8a12-71276cb8e00c"
      },
      "outputs": [
        {
          "name": "stdout",
          "output_type": "stream",
          "text": [
            "Tanggal 1990-02-16 = Friday\n",
            "Tanggal 1990-02-20 = Tuesday\n",
            "Tanggal 1990-02-21 = Wednesday\n",
            "Tanggal 1990-02-22 = Thursday\n",
            "Tanggal 1990-02-23 = Friday\n",
            "Tanggal 1990-02-26 = Monday\n",
            "Tanggal 1990-02-27 = Tuesday\n",
            "Tanggal 1990-02-28 = Wednesday\n",
            "Tanggal 1990-03-01 = Thursday\n",
            "Tanggal 1990-03-02 = Friday\n",
            "Tanggal 1990-03-05 = Monday\n",
            "Tanggal 1990-03-06 = Tuesday\n",
            "Tanggal 1990-03-07 = Wednesday\n",
            "Tanggal 1990-03-08 = Thursday\n",
            "Tanggal 1990-03-09 = Friday\n",
            "Tanggal 1990-03-12 = Monday\n",
            "Tanggal 1990-03-13 = Tuesday\n",
            "Tanggal 1990-03-14 = Wednesday\n",
            "Tanggal 1990-03-15 = Thursday\n",
            "Tanggal 1990-03-16 = Friday\n",
            "Tanggal 1990-03-19 = Monday\n",
            "Tanggal 1990-03-20 = Tuesday\n",
            "Tanggal 1990-03-21 = Wednesday\n",
            "Tanggal 1990-03-22 = Thursday\n",
            "Tanggal 1990-03-23 = Friday\n",
            "Tanggal 1990-03-26 = Monday\n",
            "Tanggal 1990-03-27 = Tuesday\n",
            "Tanggal 1990-03-28 = Wednesday\n",
            "Tanggal 1990-03-29 = Thursday\n",
            "Tanggal 1990-03-30 = Friday\n"
          ]
        }
      ],
      "source": [
        "days = [\"Monday\", \"Tuesday\", \"Wednesday\", \"Thursday\", \"Friday\", \"Saturday\", \"Sunday\"]\n",
        "\n",
        "for i in range (0, 30):\n",
        "    day_name = days[df.index[i].weekday()]\n",
        "    print(f\"Tanggal {df.index[i].date()} = {day_name}\")"
      ]
    },
    {
      "cell_type": "markdown",
      "metadata": {
        "id": "7KpaAgBUi6v6"
      },
      "source": [
        "From the top 30 data points, it can be observed that there are some incomplete weeks where data is missing for one or more weekdays (Monday to Friday). For example, in one week, there is no data for Monday, such as the date 1990-02-19, which is not present in the dataset."
      ]
    },
    {
      "cell_type": "code",
      "execution_count": 22,
      "metadata": {
        "colab": {
          "base_uri": "https://localhost:8080/"
        },
        "id": "E1Wbh4YdLyJo",
        "outputId": "9fba6c5f-0495-4265-a9ce-f7f40acb79b7"
      },
      "outputs": [
        {
          "name": "stdout",
          "output_type": "stream",
          "text": [
            "Tanggal 2020-04-01 = Wednesday\n"
          ]
        }
      ],
      "source": [
        "day_name = days[df.index[-1].weekday()]\n",
        "print(f\"Tanggal {df.index[-1].date()} = {day_name}\")"
      ]
    },
    {
      "cell_type": "markdown",
      "metadata": {
        "id": "VTYJAmqtIvWL"
      },
      "source": [
        "The data that starts with Monday is the 6th data point."
      ]
    },
    {
      "cell_type": "code",
      "execution_count": 23,
      "metadata": {
        "colab": {
          "base_uri": "https://localhost:8080/"
        },
        "id": "o2DonnehN1jR",
        "outputId": "cbccc1f7-6166-4fa6-aef4-0ea0b674f1bf"
      },
      "outputs": [
        {
          "data": {
            "text/html": [
              "<div>\n",
              "<style scoped>\n",
              "    .dataframe tbody tr th:only-of-type {\n",
              "        vertical-align: middle;\n",
              "    }\n",
              "\n",
              "    .dataframe tbody tr th {\n",
              "        vertical-align: top;\n",
              "    }\n",
              "\n",
              "    .dataframe thead th {\n",
              "        text-align: right;\n",
              "    }\n",
              "</style>\n",
              "<table border=\"1\" class=\"dataframe\">\n",
              "  <thead>\n",
              "    <tr style=\"text-align: right;\">\n",
              "      <th></th>\n",
              "      <th>Close</th>\n",
              "      <th>Day</th>\n",
              "    </tr>\n",
              "    <tr>\n",
              "      <th>Date</th>\n",
              "      <th></th>\n",
              "      <th></th>\n",
              "    </tr>\n",
              "  </thead>\n",
              "  <tbody>\n",
              "    <tr>\n",
              "      <th>1990-02-16</th>\n",
              "      <td>0.077257</td>\n",
              "      <td>Friday</td>\n",
              "    </tr>\n",
              "    <tr>\n",
              "      <th>1990-02-20</th>\n",
              "      <td>0.079861</td>\n",
              "      <td>Tuesday</td>\n",
              "    </tr>\n",
              "    <tr>\n",
              "      <th>1990-02-21</th>\n",
              "      <td>0.078125</td>\n",
              "      <td>Wednesday</td>\n",
              "    </tr>\n",
              "    <tr>\n",
              "      <th>1990-02-22</th>\n",
              "      <td>0.078993</td>\n",
              "      <td>Thursday</td>\n",
              "    </tr>\n",
              "    <tr>\n",
              "      <th>1990-02-23</th>\n",
              "      <td>0.078559</td>\n",
              "      <td>Friday</td>\n",
              "    </tr>\n",
              "    <tr>\n",
              "      <th>1990-02-26</th>\n",
              "      <td>0.076389</td>\n",
              "      <td>Monday</td>\n",
              "    </tr>\n",
              "    <tr>\n",
              "      <th>1990-02-27</th>\n",
              "      <td>0.078125</td>\n",
              "      <td>Tuesday</td>\n",
              "    </tr>\n",
              "    <tr>\n",
              "      <th>1990-02-28</th>\n",
              "      <td>0.080729</td>\n",
              "      <td>Wednesday</td>\n",
              "    </tr>\n",
              "    <tr>\n",
              "      <th>1990-03-01</th>\n",
              "      <td>0.079861</td>\n",
              "      <td>Thursday</td>\n",
              "    </tr>\n",
              "    <tr>\n",
              "      <th>1990-03-02</th>\n",
              "      <td>0.080729</td>\n",
              "      <td>Friday</td>\n",
              "    </tr>\n",
              "  </tbody>\n",
              "</table>\n",
              "</div>"
            ],
            "text/plain": [
              "               Close        Day\n",
              "Date                           \n",
              "1990-02-16  0.077257     Friday\n",
              "1990-02-20  0.079861    Tuesday\n",
              "1990-02-21  0.078125  Wednesday\n",
              "1990-02-22  0.078993   Thursday\n",
              "1990-02-23  0.078559     Friday\n",
              "1990-02-26  0.076389     Monday\n",
              "1990-02-27  0.078125    Tuesday\n",
              "1990-02-28  0.080729  Wednesday\n",
              "1990-03-01  0.079861   Thursday\n",
              "1990-03-02  0.080729     Friday"
            ]
          },
          "execution_count": 23,
          "metadata": {},
          "output_type": "execute_result"
        }
      ],
      "source": [
        "df_day = df.copy()\n",
        "df_day['Day'] = df.index.day_name()\n",
        "df_day.head(10)"
      ]
    },
    {
      "cell_type": "code",
      "execution_count": 24,
      "metadata": {
        "colab": {
          "base_uri": "https://localhost:8080/"
        },
        "id": "ZmnkMovnN-Jx",
        "outputId": "56a3dcce-9576-44a8-b01b-dd723b38baa1"
      },
      "outputs": [
        {
          "data": {
            "text/html": [
              "<div>\n",
              "<style scoped>\n",
              "    .dataframe tbody tr th:only-of-type {\n",
              "        vertical-align: middle;\n",
              "    }\n",
              "\n",
              "    .dataframe tbody tr th {\n",
              "        vertical-align: top;\n",
              "    }\n",
              "\n",
              "    .dataframe thead th {\n",
              "        text-align: right;\n",
              "    }\n",
              "</style>\n",
              "<table border=\"1\" class=\"dataframe\">\n",
              "  <thead>\n",
              "    <tr style=\"text-align: right;\">\n",
              "      <th></th>\n",
              "      <th>Close</th>\n",
              "      <th>Day</th>\n",
              "    </tr>\n",
              "    <tr>\n",
              "      <th>Date</th>\n",
              "      <th></th>\n",
              "      <th></th>\n",
              "    </tr>\n",
              "  </thead>\n",
              "  <tbody>\n",
              "    <tr>\n",
              "      <th>2020-03-19</th>\n",
              "      <td>37.709999</td>\n",
              "      <td>Thursday</td>\n",
              "    </tr>\n",
              "    <tr>\n",
              "      <th>2020-03-20</th>\n",
              "      <td>35.599998</td>\n",
              "      <td>Friday</td>\n",
              "    </tr>\n",
              "    <tr>\n",
              "      <th>2020-03-23</th>\n",
              "      <td>34.599998</td>\n",
              "      <td>Monday</td>\n",
              "    </tr>\n",
              "    <tr>\n",
              "      <th>2020-03-24</th>\n",
              "      <td>38.599998</td>\n",
              "      <td>Tuesday</td>\n",
              "    </tr>\n",
              "    <tr>\n",
              "      <th>2020-03-25</th>\n",
              "      <td>37.669998</td>\n",
              "      <td>Wednesday</td>\n",
              "    </tr>\n",
              "    <tr>\n",
              "      <th>2020-03-26</th>\n",
              "      <td>40.580002</td>\n",
              "      <td>Thursday</td>\n",
              "    </tr>\n",
              "    <tr>\n",
              "      <th>2020-03-27</th>\n",
              "      <td>38.820000</td>\n",
              "      <td>Friday</td>\n",
              "    </tr>\n",
              "    <tr>\n",
              "      <th>2020-03-30</th>\n",
              "      <td>40.320000</td>\n",
              "      <td>Monday</td>\n",
              "    </tr>\n",
              "    <tr>\n",
              "      <th>2020-03-31</th>\n",
              "      <td>39.310001</td>\n",
              "      <td>Tuesday</td>\n",
              "    </tr>\n",
              "    <tr>\n",
              "      <th>2020-04-01</th>\n",
              "      <td>38.330002</td>\n",
              "      <td>Wednesday</td>\n",
              "    </tr>\n",
              "  </tbody>\n",
              "</table>\n",
              "</div>"
            ],
            "text/plain": [
              "                Close        Day\n",
              "Date                            \n",
              "2020-03-19  37.709999   Thursday\n",
              "2020-03-20  35.599998     Friday\n",
              "2020-03-23  34.599998     Monday\n",
              "2020-03-24  38.599998    Tuesday\n",
              "2020-03-25  37.669998  Wednesday\n",
              "2020-03-26  40.580002   Thursday\n",
              "2020-03-27  38.820000     Friday\n",
              "2020-03-30  40.320000     Monday\n",
              "2020-03-31  39.310001    Tuesday\n",
              "2020-04-01  38.330002  Wednesday"
            ]
          },
          "execution_count": 24,
          "metadata": {},
          "output_type": "execute_result"
        }
      ],
      "source": [
        "df_day.tail(10)"
      ]
    },
    {
      "cell_type": "code",
      "execution_count": 25,
      "metadata": {
        "colab": {
          "base_uri": "https://localhost:8080/"
        },
        "id": "IEQoNmH-OFic",
        "outputId": "445e7f6e-9f07-41fe-90c9-ff8f46100325"
      },
      "outputs": [
        {
          "name": "stdout",
          "output_type": "stream",
          "text": [
            "Index: 1990-04-16 00:00:00, The day in the dataset is 'Monday', but according to the pattern, it should be 'Friday'.\n",
            "Index: 1990-04-17 00:00:00, The day in the dataset is 'Tuesday', but according to the pattern, it should be 'Monday'.\n",
            "Index: 1990-04-18 00:00:00, The day in the dataset is 'Wednesday', but according to the pattern, it should be 'Tuesday'.\n",
            "Index: 1990-04-19 00:00:00, The day in the dataset is 'Thursday', but according to the pattern, it should be 'Wednesday'.\n",
            "Index: 1990-04-20 00:00:00, The day in the dataset is 'Friday', but according to the pattern, it should be 'Thursday'.\n",
            "Index: 1990-04-23 00:00:00, The day in the dataset is 'Monday', but according to the pattern, it should be 'Friday'.\n",
            "Index: 1990-04-24 00:00:00, The day in the dataset is 'Tuesday', but according to the pattern, it should be 'Monday'.\n",
            "Index: 1990-04-25 00:00:00, The day in the dataset is 'Wednesday', but according to the pattern, it should be 'Tuesday'.\n",
            "Index: 1990-04-26 00:00:00, The day in the dataset is 'Thursday', but according to the pattern, it should be 'Wednesday'.\n",
            "Index: 1990-04-27 00:00:00, The day in the dataset is 'Friday', but according to the pattern, it should be 'Thursday'.\n",
            "Index: 1990-04-30 00:00:00, The day in the dataset is 'Monday', but according to the pattern, it should be 'Friday'.\n"
          ]
        }
      ],
      "source": [
        "days_of_week = ['Monday', 'Tuesday', 'Wednesday', 'Thursday', 'Friday']\n",
        "\n",
        "days = df_day['Day'].tolist()\n",
        "\n",
        "for i in range(5, 50):\n",
        "  day_correct_pattern = days_of_week[(i % len(days_of_week)) - 5]\n",
        "  if days[i] != day_correct_pattern:\n",
        "    print(f\"Index: {df_day.index[i]}, The day in the dataset is '{df_day['Day'].iloc[i]}', but according to the pattern, it should be '{day_correct_pattern}'.\")"
      ]
    },
    {
      "cell_type": "markdown",
      "metadata": {
        "id": "KJDRJz-5XHIV"
      },
      "source": [
        "By examining the data above, aside from the first 5 data points, there are additional entries where the weekly data does not cover all 5 weekdays (Monday to Friday). Therefore, adjustments are needed to make the data consistent, allowing for easier windowing."
      ]
    },
    {
      "cell_type": "markdown",
      "metadata": {
        "id": "1F-8Ht32O_Ty"
      },
      "source": [
        "The data to be dropped will have a value of \"False\" for the pattern. So, each time Monday is found, it will check Tuesday through Friday. If the check confirms that Monday to Friday is complete in sequence, then the value in the index column will be set to \"True.\""
      ]
    },
    {
      "cell_type": "code",
      "execution_count": 26,
      "metadata": {
        "colab": {
          "base_uri": "https://localhost:8080/"
        },
        "id": "DUyE8lUeanHz",
        "outputId": "30a35a2c-d73d-4f84-f18b-44115f6bdb8e"
      },
      "outputs": [
        {
          "name": "stdout",
          "output_type": "stream",
          "text": [
            "Index out of range. Stopping iteration.\n",
            "               Close        Day  Pattern\n",
            "Date                                    \n",
            "1990-02-16  0.077257     Friday    False\n",
            "1990-02-20  0.079861    Tuesday    False\n",
            "1990-02-21  0.078125  Wednesday    False\n",
            "1990-02-22  0.078993   Thursday    False\n",
            "1990-02-23  0.078559     Friday    False\n",
            "1990-02-26  0.076389     Monday     True\n",
            "1990-02-27  0.078125    Tuesday     True\n",
            "1990-02-28  0.080729  Wednesday     True\n",
            "1990-03-01  0.079861   Thursday     True\n",
            "1990-03-02  0.080729     Friday     True\n",
            "1990-03-05  0.079861     Monday     True\n",
            "1990-03-06  0.079861    Tuesday     True\n",
            "1990-03-07  0.078125  Wednesday     True\n",
            "1990-03-08  0.077257   Thursday     True\n",
            "1990-03-09  0.077257     Friday     True\n",
            "1990-03-12  0.078993     Monday     True\n",
            "1990-03-13  0.081597    Tuesday     True\n",
            "1990-03-14  0.090278  Wednesday     True\n",
            "1990-03-15  0.085938   Thursday     True\n",
            "1990-03-16  0.087674     Friday     True\n",
            "1990-03-19  0.090278     Monday     True\n",
            "1990-03-20  0.082465    Tuesday     True\n",
            "1990-03-21  0.083333  Wednesday     True\n",
            "1990-03-22  0.078125   Thursday     True\n",
            "1990-03-23  0.080729     Friday     True\n"
          ]
        }
      ],
      "source": [
        "df_day['Pattern'] = False\n",
        "\n",
        "try:\n",
        "    for i in range(2, len(df_day)):\n",
        "        if (df_day['Day'].iloc[i] == 'Monday' and\n",
        "            df_day['Day'].iloc[i+1] == 'Tuesday' and\n",
        "            df_day['Day'].iloc[i+2] == 'Wednesday' and\n",
        "            df_day['Day'].iloc[i+3] == 'Thursday' and\n",
        "            df_day['Day'].iloc[i+4] == 'Friday'):\n",
        "            df_day.loc[df_day.index[i], 'Pattern'] = True\n",
        "            df_day.loc[df_day.index[i+1], 'Pattern'] = True\n",
        "            df_day.loc[df_day.index[i+2], 'Pattern'] = True\n",
        "            df_day.loc[df_day.index[i+3], 'Pattern'] = True\n",
        "            df_day.loc[df_day.index[i+4], 'Pattern'] = True\n",
        "\n",
        "except IndexError:\n",
        "    print(\"Index out of range. Stopping iteration.\")\n",
        "\n",
        "print(df_day.head(25))"
      ]
    },
    {
      "cell_type": "code",
      "execution_count": 27,
      "metadata": {
        "colab": {
          "base_uri": "https://localhost:8080/"
        },
        "id": "xj5VVBxGngpd",
        "outputId": "7661bef1-5db5-4de4-be1e-1461d28074fa"
      },
      "outputs": [
        {
          "data": {
            "text/html": [
              "<div>\n",
              "<style scoped>\n",
              "    .dataframe tbody tr th:only-of-type {\n",
              "        vertical-align: middle;\n",
              "    }\n",
              "\n",
              "    .dataframe tbody tr th {\n",
              "        vertical-align: top;\n",
              "    }\n",
              "\n",
              "    .dataframe thead th {\n",
              "        text-align: right;\n",
              "    }\n",
              "</style>\n",
              "<table border=\"1\" class=\"dataframe\">\n",
              "  <thead>\n",
              "    <tr style=\"text-align: right;\">\n",
              "      <th></th>\n",
              "      <th>Close</th>\n",
              "      <th>Day</th>\n",
              "      <th>Pattern</th>\n",
              "    </tr>\n",
              "    <tr>\n",
              "      <th>Date</th>\n",
              "      <th></th>\n",
              "      <th></th>\n",
              "      <th></th>\n",
              "    </tr>\n",
              "  </thead>\n",
              "  <tbody>\n",
              "    <tr>\n",
              "      <th>2020-03-26</th>\n",
              "      <td>40.580002</td>\n",
              "      <td>Thursday</td>\n",
              "      <td>True</td>\n",
              "    </tr>\n",
              "    <tr>\n",
              "      <th>2020-03-27</th>\n",
              "      <td>38.820000</td>\n",
              "      <td>Friday</td>\n",
              "      <td>True</td>\n",
              "    </tr>\n",
              "    <tr>\n",
              "      <th>2020-03-30</th>\n",
              "      <td>40.320000</td>\n",
              "      <td>Monday</td>\n",
              "      <td>False</td>\n",
              "    </tr>\n",
              "    <tr>\n",
              "      <th>2020-03-31</th>\n",
              "      <td>39.310001</td>\n",
              "      <td>Tuesday</td>\n",
              "      <td>False</td>\n",
              "    </tr>\n",
              "    <tr>\n",
              "      <th>2020-04-01</th>\n",
              "      <td>38.330002</td>\n",
              "      <td>Wednesday</td>\n",
              "      <td>False</td>\n",
              "    </tr>\n",
              "  </tbody>\n",
              "</table>\n",
              "</div>"
            ],
            "text/plain": [
              "                Close        Day  Pattern\n",
              "Date                                     \n",
              "2020-03-26  40.580002   Thursday     True\n",
              "2020-03-27  38.820000     Friday     True\n",
              "2020-03-30  40.320000     Monday    False\n",
              "2020-03-31  39.310001    Tuesday    False\n",
              "2020-04-01  38.330002  Wednesday    False"
            ]
          },
          "execution_count": 27,
          "metadata": {},
          "output_type": "execute_result"
        }
      ],
      "source": [
        "df_day.tail()"
      ]
    },
    {
      "cell_type": "markdown",
      "metadata": {
        "id": "FcKKh6jwq_PN"
      },
      "source": [
        "The data to be dropped will have a value of \"False\" for the pattern. Whenever Monday is found, it will check Tuesday through Friday. If the check confirms that Monday to Friday is complete in sequence, the value in the index column will be set to \"True.\""
      ]
    },
    {
      "cell_type": "code",
      "execution_count": 28,
      "metadata": {
        "id": "dEbyuPZKq9iX"
      },
      "outputs": [],
      "source": [
        "df_day.loc[df_day.index[-3], 'Pattern'] = True"
      ]
    },
    {
      "cell_type": "code",
      "execution_count": 29,
      "metadata": {
        "colab": {
          "base_uri": "https://localhost:8080/"
        },
        "id": "lwkPKhXoow5O",
        "outputId": "445b410e-812c-4ded-ec3b-f16e6f5e6c0b"
      },
      "outputs": [
        {
          "data": {
            "text/plain": [
              "Pattern\n",
              "True     6531\n",
              "False    1058\n",
              "Name: count, dtype: int64"
            ]
          },
          "execution_count": 29,
          "metadata": {},
          "output_type": "execute_result"
        }
      ],
      "source": [
        "df_day['Pattern'].value_counts()"
      ]
    },
    {
      "cell_type": "markdown",
      "metadata": {
        "id": "_7PIdf1DoQqN"
      },
      "source": [
        "The task requires separating the time series data into two parts: input and output, with a window size of 5 (from Monday to Friday) and a horizon of 1 (only Monday).\n",
        "\n",
        "This means that the data used for prediction consists of the Monday to Friday data to predict the stock price for the following Monday.\n",
        "\n",
        "However, there are instances where data is missing. For example, if a Monday is absent, there will only be 4 days available, while 5 days are needed for prediction. In this dataset, it has been found that 1,058 entries do not meet the pattern requirement (not all weekdays from Monday to Friday are present within a week).\n",
        "\n",
        "Therefore, such data will be dropped."
      ]
    },
    {
      "cell_type": "code",
      "execution_count": 30,
      "metadata": {
        "colab": {
          "base_uri": "https://localhost:8080/"
        },
        "id": "ef0MJ0WFqhCp",
        "outputId": "d9bd1124-ff78-4de6-9b5b-953c9de76057"
      },
      "outputs": [
        {
          "data": {
            "text/html": [
              "<div>\n",
              "<style scoped>\n",
              "    .dataframe tbody tr th:only-of-type {\n",
              "        vertical-align: middle;\n",
              "    }\n",
              "\n",
              "    .dataframe tbody tr th {\n",
              "        vertical-align: top;\n",
              "    }\n",
              "\n",
              "    .dataframe thead th {\n",
              "        text-align: right;\n",
              "    }\n",
              "</style>\n",
              "<table border=\"1\" class=\"dataframe\">\n",
              "  <thead>\n",
              "    <tr style=\"text-align: right;\">\n",
              "      <th></th>\n",
              "      <th>Close</th>\n",
              "    </tr>\n",
              "    <tr>\n",
              "      <th>Date</th>\n",
              "      <th></th>\n",
              "    </tr>\n",
              "  </thead>\n",
              "  <tbody>\n",
              "    <tr>\n",
              "      <th>1990-02-26</th>\n",
              "      <td>0.076389</td>\n",
              "    </tr>\n",
              "    <tr>\n",
              "      <th>1990-02-27</th>\n",
              "      <td>0.078125</td>\n",
              "    </tr>\n",
              "    <tr>\n",
              "      <th>1990-02-28</th>\n",
              "      <td>0.080729</td>\n",
              "    </tr>\n",
              "    <tr>\n",
              "      <th>1990-03-01</th>\n",
              "      <td>0.079861</td>\n",
              "    </tr>\n",
              "    <tr>\n",
              "      <th>1990-03-02</th>\n",
              "      <td>0.080729</td>\n",
              "    </tr>\n",
              "    <tr>\n",
              "      <th>1990-03-05</th>\n",
              "      <td>0.079861</td>\n",
              "    </tr>\n",
              "    <tr>\n",
              "      <th>1990-03-06</th>\n",
              "      <td>0.079861</td>\n",
              "    </tr>\n",
              "    <tr>\n",
              "      <th>1990-03-07</th>\n",
              "      <td>0.078125</td>\n",
              "    </tr>\n",
              "    <tr>\n",
              "      <th>1990-03-08</th>\n",
              "      <td>0.077257</td>\n",
              "    </tr>\n",
              "    <tr>\n",
              "      <th>1990-03-09</th>\n",
              "      <td>0.077257</td>\n",
              "    </tr>\n",
              "  </tbody>\n",
              "</table>\n",
              "</div>"
            ],
            "text/plain": [
              "               Close\n",
              "Date                \n",
              "1990-02-26  0.076389\n",
              "1990-02-27  0.078125\n",
              "1990-02-28  0.080729\n",
              "1990-03-01  0.079861\n",
              "1990-03-02  0.080729\n",
              "1990-03-05  0.079861\n",
              "1990-03-06  0.079861\n",
              "1990-03-07  0.078125\n",
              "1990-03-08  0.077257\n",
              "1990-03-09  0.077257"
            ]
          },
          "execution_count": 30,
          "metadata": {},
          "output_type": "execute_result"
        }
      ],
      "source": [
        "df_final = df.copy()\n",
        "df_final = df_final.drop(df_day[df_day['Pattern'] == False].index)\n",
        "df_final.head(10)"
      ]
    },
    {
      "cell_type": "code",
      "execution_count": 31,
      "metadata": {
        "colab": {
          "base_uri": "https://localhost:8080/"
        },
        "id": "_E4HpWu3r2jG",
        "outputId": "1e33c04c-2953-43b7-9aa3-704a7efbcc6a"
      },
      "outputs": [
        {
          "data": {
            "text/html": [
              "<div>\n",
              "<style scoped>\n",
              "    .dataframe tbody tr th:only-of-type {\n",
              "        vertical-align: middle;\n",
              "    }\n",
              "\n",
              "    .dataframe tbody tr th {\n",
              "        vertical-align: top;\n",
              "    }\n",
              "\n",
              "    .dataframe thead th {\n",
              "        text-align: right;\n",
              "    }\n",
              "</style>\n",
              "<table border=\"1\" class=\"dataframe\">\n",
              "  <thead>\n",
              "    <tr style=\"text-align: right;\">\n",
              "      <th></th>\n",
              "      <th>Close</th>\n",
              "    </tr>\n",
              "    <tr>\n",
              "      <th>Date</th>\n",
              "      <th></th>\n",
              "    </tr>\n",
              "  </thead>\n",
              "  <tbody>\n",
              "    <tr>\n",
              "      <th>2020-03-23</th>\n",
              "      <td>34.599998</td>\n",
              "    </tr>\n",
              "    <tr>\n",
              "      <th>2020-03-24</th>\n",
              "      <td>38.599998</td>\n",
              "    </tr>\n",
              "    <tr>\n",
              "      <th>2020-03-25</th>\n",
              "      <td>37.669998</td>\n",
              "    </tr>\n",
              "    <tr>\n",
              "      <th>2020-03-26</th>\n",
              "      <td>40.580002</td>\n",
              "    </tr>\n",
              "    <tr>\n",
              "      <th>2020-03-27</th>\n",
              "      <td>38.820000</td>\n",
              "    </tr>\n",
              "    <tr>\n",
              "      <th>2020-03-30</th>\n",
              "      <td>40.320000</td>\n",
              "    </tr>\n",
              "  </tbody>\n",
              "</table>\n",
              "</div>"
            ],
            "text/plain": [
              "                Close\n",
              "Date                 \n",
              "2020-03-23  34.599998\n",
              "2020-03-24  38.599998\n",
              "2020-03-25  37.669998\n",
              "2020-03-26  40.580002\n",
              "2020-03-27  38.820000\n",
              "2020-03-30  40.320000"
            ]
          },
          "execution_count": 31,
          "metadata": {},
          "output_type": "execute_result"
        }
      ],
      "source": [
        "df_final.tail(6)"
      ]
    },
    {
      "cell_type": "code",
      "execution_count": 32,
      "metadata": {
        "colab": {
          "base_uri": "https://localhost:8080/"
        },
        "id": "qoK1RBSur_jY",
        "outputId": "5a8c2152-2e77-4a6a-dc22-93df78e1847e"
      },
      "outputs": [
        {
          "data": {
            "text/plain": [
              "(6531, 1)"
            ]
          },
          "execution_count": 32,
          "metadata": {},
          "output_type": "execute_result"
        }
      ],
      "source": [
        "df_final.shape"
      ]
    },
    {
      "cell_type": "markdown",
      "metadata": {
        "id": "qv1INcxwkWq1"
      },
      "source": [
        "After making adjustments where only the data with a complete week (Monday to Friday) is usable, the remaining data consists of 6.531 entries."
      ]
    },
    {
      "cell_type": "markdown",
      "metadata": {
        "id": "tQSUOlz3u2Jo"
      },
      "source": [
        "# Windowing"
      ]
    },
    {
      "cell_type": "code",
      "execution_count": 33,
      "metadata": {
        "colab": {
          "base_uri": "https://localhost:8080/"
        },
        "id": "6U3CkgHsE3Gy",
        "outputId": "5e37f8a7-ab8a-4aee-f25e-b4c821ab8a96"
      },
      "outputs": [
        {
          "name": "stdout",
          "output_type": "stream",
          "text": [
            "Shape of x (input): (1306, 5)\n",
            "Shape of y (output): (1306,)\n"
          ]
        }
      ],
      "source": [
        "window_size = 5\n",
        "horizon = 1\n",
        "\n",
        "x = []\n",
        "y = []\n",
        "\n",
        "for i in range(len(df_final) - window_size - horizon + 1):\n",
        "    if df_final.index[i].day_name() == 'Monday':  # Memastikan dimulai dari hari Senin\n",
        "        # Input (Window)\n",
        "        window = df_final.iloc[i:i+window_size]['Close'].tolist()\n",
        "        x.append(window)\n",
        "\n",
        "        # Output (Prediction)\n",
        "        prediction = df_final.iloc[i+window_size:i+window_size+horizon]['Close'].iloc[-1]\n",
        "        y.append(prediction)\n",
        "\n",
        "x = np.array(x)\n",
        "y = np.array(y)\n",
        "\n",
        "print(\"Shape of x (input):\", x.shape)\n",
        "print(\"Shape of y (output):\", y.shape)"
      ]
    },
    {
      "cell_type": "markdown",
      "metadata": {
        "id": "h6u9azolkovz"
      },
      "source": [
        "From the shape, it appears there are 1,306 entries, which means there will be 1,306 windows along with their corresponding predictions in the entire dataset."
      ]
    },
    {
      "cell_type": "code",
      "execution_count": null,
      "metadata": {
        "colab": {
          "base_uri": "https://localhost:8080/"
        },
        "id": "9cXcQkGJuUK5",
        "outputId": "845cc579-57b6-4015-da94-5f17ff1a54ef"
      },
      "outputs": [
        {
          "data": {
            "text/plain": [
              "1306.2"
            ]
          },
          "execution_count": 23,
          "metadata": {},
          "output_type": "execute_result"
        }
      ],
      "source": [
        "6531/5"
      ]
    },
    {
      "cell_type": "code",
      "execution_count": 34,
      "metadata": {
        "colab": {
          "base_uri": "https://localhost:8080/"
        },
        "id": "zcfQmGWLuSZ4",
        "outputId": "e146636c-6bdd-48db-d066-4d06c9562399"
      },
      "outputs": [
        {
          "name": "stdout",
          "output_type": "stream",
          "text": [
            "Windowing Results:\n",
            "Window 1: [0.07638889 0.078125   0.08072916 0.07986111 0.08072916] --> Prediction: 0.0798611119389534\n",
            "Window 2: [0.07986111 0.07986111 0.078125   0.07725695 0.07725695] --> Prediction: 0.0789930522441864\n",
            "Window 3: [0.07899305 0.08159722 0.09027778 0.0859375  0.08767361] --> Prediction: 0.0902777761220932\n",
            "Window 4: [0.09027778 0.08246528 0.08333334 0.078125   0.08072916] --> Prediction: 0.0842013880610466\n",
            "Window 5: [0.08420139 0.0859375  0.08506945 0.08506945 0.08159722] --> Prediction: 0.0798611119389534\n",
            "Window 6: [0.07986111 0.08072916 0.08072916 0.08029514 0.07899305] --> Prediction: 0.0772569477558136\n",
            "Window 7: [0.07725695 0.078125   0.07899305 0.07986111 0.07725695] --> Prediction: 0.078125\n",
            "Window 8: [0.078125   0.07942709 0.07986111 0.07986111 0.07899305] --> Prediction: 0.0824652761220932\n",
            "Window 9: [0.08246528 0.08376736 0.08246528 0.08506945 0.0859375 ] --> Prediction: 0.0868055522441864\n",
            "Window 10: [0.08680555 0.08767361 0.0859375  0.08506945 0.0859375 ] --> Prediction: 0.0859375\n",
            "Window 11: [0.0859375  0.08637153 0.0859375  0.08680555 0.08506945] --> Prediction: 0.0850694477558136\n",
            "Window 12: [0.08506945 0.08506945 0.08420139 0.0859375  0.08333334] --> Prediction: 0.0894097238779068\n",
            "Window 13: [0.08940972 0.09288195 0.09201389 0.08940972 0.08767361] --> Prediction: 0.0872395858168602\n",
            "Window 14: [0.08723959 0.09548611 0.09635416 0.09722222 0.09548611] --> Prediction: 0.09375\n",
            "Window 15: [0.09375    0.09288195 0.09375    0.09461805 0.09461805] --> Prediction: 0.0933159738779068\n",
            "Window 16: [0.09331597 0.09201389 0.09201389 0.09114584 0.09201389] --> Prediction: 0.0911458358168602\n",
            "Window 17: [0.09114584 0.09375    0.09548611 0.09982639 0.10503472] --> Prediction: 0.1024305522441864\n",
            "Window 18: [0.10243055 0.09722222 0.09895834 0.09722222 0.09722222] --> Prediction: 0.0911458358168602\n",
            "Window 19: [0.09114584 0.0859375  0.08854166 0.09027778 0.08940972] --> Prediction: 0.0902777761220932\n",
            "Window 20: [0.09027778 0.08854166 0.08854166 0.08680555 0.08420139] --> Prediction: 0.0833333358168602\n",
            "Window 21: [0.08333334 0.08463541 0.08333334 0.08767361 0.08333334] --> Prediction: 0.08203125\n",
            "Window 22: [0.08203125 0.08072916 0.08246528 0.08072916 0.0859375 ] --> Prediction: 0.0859375\n",
            "Window 23: [0.0859375  0.08159722 0.08420139 0.078125   0.08246528] --> Prediction: 0.0876736119389534\n",
            "Window 24: [0.08767361 0.08680555 0.0859375  0.0859375  0.0859375 ] --> Prediction: 0.0859375\n",
            "Window 25: [0.0859375  0.0859375  0.08680555 0.0859375  0.0859375 ] --> Prediction: 0.0902777761220932\n",
            "Window 26: [0.09027778 0.09288195 0.08854166 0.08854166 0.0859375 ] --> Prediction: 0.0842013880610466\n",
            "Window 27: [0.08420139 0.08506945 0.08246528 0.07855903 0.078125  ] --> Prediction: 0.0842013880610466\n",
            "Window 28: [0.08420139 0.08333334 0.08072916 0.08333334 0.08159722] --> Prediction: 0.0828993022441864\n",
            "Window 29: [0.0828993  0.07725695 0.07118055 0.07118055 0.07552084] --> Prediction: 0.0750868022441864\n",
            "Window 30: [0.0750868  0.07986111 0.08420139 0.09201389 0.09982639] --> Prediction: 0.1032986119389534\n",
            "Window 31: [0.10329861 0.10546875 0.10850695 0.10850695 0.10069445] --> Prediction: 0.0972222238779068\n",
            "Window 32: [0.09722222 0.09895834 0.10243055 0.10243055 0.10503472] --> Prediction: 0.1085069477558136\n",
            "Window 33: [0.10850695 0.11024305 0.10416666 0.11762153 0.12239584] --> Prediction: 0.1215277761220932\n",
            "Window 34: [0.12152778 0.12326389 0.12456597 0.1267361  0.1267361 ] --> Prediction: 0.1271701455116272\n",
            "Window 35: [0.12717015 0.13715278 0.13628472 0.1328125  0.13715278] --> Prediction: 0.1414930522441864\n",
            "Window 36: [0.14149305 0.1436632  0.14409722 0.14496528 0.14322917] --> Prediction: 0.1423611044883728\n",
            "Window 37: [0.1423611  0.14019097 0.14409722 0.1501736  0.15625   ] --> Prediction: 0.1545138955116272\n",
            "Window 38: [0.1545139  0.15104167 0.15538195 0.15277778 0.15277778] --> Prediction: 0.1380208283662796\n",
            "Window 39: [0.13802083 0.14322917 0.1423611  0.14409722 0.1423611 ] --> Prediction: 0.1440972238779068\n",
            "Window 40: [0.14409722 0.15494792 0.1623264  0.1701389  0.17274305] --> Prediction: 0.1831597238779068\n",
            "Window 41: [0.18315972 0.17925347 0.17708333 0.17621528 0.18663195] --> Prediction: 0.1927083283662796\n",
            "Window 42: [0.19270833 0.19097222 0.19878472 0.203125   0.20225695] --> Prediction: 0.2005208283662796\n",
            "Window 43: [0.20052083 0.20225695 0.20399305 0.19748265 0.2048611 ] --> Prediction: 0.2000868022441864\n",
            "Window 44: [0.2000868  0.20572917 0.2092014  0.203125   0.203125  ] --> Prediction: 0.1970486044883728\n",
            "Window 45: [0.1970486  0.19270833 0.18706597 0.19444445 0.19791667] --> Prediction: 0.2005208283662796\n",
            "Window 46: [0.20052083 0.20746528 0.19791667 0.19010417 0.19270833] --> Prediction: 0.1840277761220932\n",
            "Window 47: [0.18402778 0.171875   0.1814236  0.171875   0.16666667] --> Prediction: 0.1770833283662796\n",
            "Window 48: [0.17708333 0.18055555 0.19618055 0.18402778 0.17881945] --> Prediction: 0.1545138955116272\n",
            "Window 49: [0.1545139  0.18055555 0.18229167 0.17708333 0.17447917] --> Prediction: 0.1805555522441864\n",
            "Window 50: [0.18055555 0.17708333 0.17621528 0.1892361  0.19791667] --> Prediction: 0.1927083283662796\n",
            "Window 51: [0.19270833 0.20659722 0.22569445 0.22395833 0.2204861 ] --> Prediction: 0.2118055522441864\n",
            "Window 52: [0.21180555 0.21527778 0.22395833 0.2170139  0.21180555] --> Prediction: 0.1996527761220932\n",
            "Window 53: [0.19965278 0.20659722 0.20833333 0.21354167 0.21354167] --> Prediction: 0.21875\n",
            "Window 54: [0.21875    0.21875    0.2170139  0.2204861  0.21354167] --> Prediction: 0.2204861044883728\n",
            "Window 55: [0.2204861  0.2126736  0.19618055 0.2013889  0.19791667] --> Prediction: 0.1961805522441864\n",
            "Window 56: [0.19618055 0.203125   0.21180555 0.21527778 0.2204861 ] --> Prediction: 0.2256944477558136\n",
            "Window 57: [0.22569445 0.22916667 0.23090278 0.2282986  0.22743055] --> Prediction: 0.2274305522441864\n",
            "Window 58: [0.22743055 0.23090278 0.22569445 0.23090278 0.2361111 ] --> Prediction: 0.2465277761220932\n",
            "Window 59: [0.24652778 0.24305555 0.2361111  0.23524305 0.23090278] --> Prediction: 0.2170138955116272\n",
            "Window 60: [0.2170139  0.21354167 0.21180555 0.21527778 0.21180555] --> Prediction: 0.2265625\n",
            "Window 61: [0.2265625  0.23697917 0.23784722 0.23784722 0.24305555] --> Prediction: 0.2430555522441864\n",
            "Window 62: [0.24305555 0.24479167 0.2482639  0.2517361  0.26041666] --> Prediction: 0.2604166567325592\n",
            "Window 63: [0.26041666 0.25347221 0.24652778 0.24913195 0.25434029] --> Prediction: 0.2638888955116272\n",
            "Window 64: [0.2638889  0.26909721 0.27256945 0.2734375  0.2829861 ] --> Prediction: 0.2864583432674408\n",
            "Window 65: [0.28645834 0.2829861  0.27604166 0.26996529 0.27083334] --> Prediction: 0.2795138955116272\n",
            "Window 66: [0.2795139  0.28819445 0.2986111  0.28819445 0.296875  ] --> Prediction: 0.2899305522441864\n",
            "Window 67: [0.28993055 0.2873264  0.30729166 0.31336805 0.31770834] --> Prediction: 0.3177083432674408\n",
            "Window 68: [0.31770834 0.31597221 0.31944445 0.31770834 0.31510416] --> Prediction: 0.3029513955116272\n",
            "Window 69: [0.3029514  0.30208334 0.30555555 0.3125     0.30555555] --> Prediction: 0.2986111044883728\n",
            "Window 70: [0.2986111  0.2986111  0.30555555 0.3107639  0.31336805] --> Prediction: 0.3125\n",
            "Window 71: [0.3125     0.31163195 0.30034721 0.2795139  0.27777779] --> Prediction: 0.2847222089767456\n",
            "Window 72: [0.28472221 0.29340279 0.28645834 0.2795139  0.28645834] --> Prediction: 0.2890625\n",
            "Window 73: [0.2890625  0.28993055 0.27256945 0.26996529 0.28211805] --> Prediction: 0.2951388955116272\n",
            "Window 74: [0.2951389  0.30555555 0.3125     0.3125     0.31163195] --> Prediction: 0.3072916567325592\n",
            "Window 75: [0.30729166 0.3142361  0.31597221 0.3064236  0.30208334] --> Prediction: 0.3142361044883728\n",
            "Window 76: [0.3142361  0.31510416 0.3298611  0.33854166 0.328125  ] --> Prediction: 0.3289930522441864\n",
            "Window 77: [0.32899305 0.33680555 0.33854166 0.36284721 0.36979166] --> Prediction: 0.3663194477558136\n",
            "Window 78: [0.36631945 0.37065971 0.38020834 0.3767361  0.35590279] --> Prediction: 0.359375\n",
            "Window 79: [0.359375   0.34895834 0.3454861  0.34895834 0.3420139 ] --> Prediction: 0.359375\n",
            "Window 80: [0.359375   0.36805555 0.38194445 0.375      0.37239584] --> Prediction: 0.3784722089767456\n",
            "Window 81: [0.37847221 0.375      0.375      0.37847221 0.3810764 ] --> Prediction: 0.3888888955116272\n",
            "Window 82: [0.3888889  0.3888889  0.39496529 0.3888889  0.38194445] --> Prediction: 0.4670138955116272\n",
            "Window 83: [0.4670139  0.4861111  0.50868058 0.51128471 0.5017361 ] --> Prediction: 0.5069444179534912\n",
            "Window 84: [0.50694442 0.50520831 0.51909721 0.52690971 0.52083331] --> Prediction: 0.4878472089767456\n",
            "Window 85: [0.48784721 0.46527779 0.50347221 0.51215279 0.5138889 ] --> Prediction: 0.5173611044883728\n",
            "Window 86: [0.5173611  0.51822919 0.50694442 0.5173611  0.5217014 ] --> Prediction: 0.5477430820465088\n",
            "Window 87: [0.54774308 0.55902779 0.57552081 0.58506942 0.59375   ] --> Prediction: 0.5833333134651184\n",
            "Window 88: [0.58333331 0.5763889  0.59375    0.5920139  0.58506942] --> Prediction: 0.5555555820465088\n",
            "Window 89: [0.55555558 0.55121529 0.57725692 0.57291669 0.56597221] --> Prediction: 0.5625\n",
            "Window 90: [0.5625     0.55902779 0.55555558 0.5486111  0.54166669] --> Prediction: 0.546875\n",
            "Window 91: [0.546875   0.55902779 0.546875   0.54947919 0.55034721] --> Prediction: 0.5494791865348816\n",
            "Window 92: [0.54947919 0.57118058 0.58159721 0.57552081 0.57552081] --> Prediction: 0.5625\n",
            "Window 93: [0.5625     0.56944442 0.59375    0.58680558 0.54166669] --> Prediction: 0.5416666865348816\n",
            "Window 94: [0.54166669 0.5486111  0.5625     0.55381942 0.55555558] --> Prediction: 0.5729166865348816\n",
            "Window 95: [0.57291669 0.53125    0.53125    0.55381942 0.52083331] --> Prediction: 0.5173611044883728\n",
            "Window 96: [0.5173611  0.50347221 0.5173611  0.50520831 0.50694442] --> Prediction: 0.4930555522441864\n",
            "Window 97: [0.49305555 0.47395834 0.49305555 0.50694442 0.51215279] --> Prediction: 0.5243055820465088\n",
            "Window 98: [0.52430558 0.53993058 0.53993058 0.53125    0.53819442] --> Prediction: 0.5503472089767456\n",
            "Window 99: [0.55034721 0.5451389  0.53125    0.55902779 0.56770831] --> Prediction: 0.5798611044883728\n",
            "Window 100: [0.5798611  0.58333331 0.58680558 0.5763889  0.57291669] --> Prediction: 0.6736111044883728\n",
            "Window 101: [0.6736111  0.65625    0.64930558 0.65277779 0.6423611 ] --> Prediction: 0.6458333134651184\n",
            "Window 102: [0.64583331 0.6388889  0.63541669 0.6423611  0.65277779] --> Prediction: 0.6545138955116272\n",
            "Window 103: [0.6545139  0.640625   0.61458331 0.59722221 0.6111111 ] --> Prediction: 0.6076388955116272\n",
            "Window 104: [0.6076389  0.63194442 0.63715279 0.6267361  0.6232639 ] --> Prediction: 0.6736111044883728\n",
            "Window 105: [0.6736111  0.63368058 0.63541669 0.65277779 0.64930558] --> Prediction: 0.6527777910232544\n",
            "Window 106: [0.65277779 0.6736111  0.6892361  0.69097221 0.68402779] --> Prediction: 0.6909722089767456\n",
            "Window 107: [0.69097221 0.7048611  0.68055558 0.69791669 0.71875   ] --> Prediction: 0.7048611044883728\n",
            "Window 108: [0.7048611  0.72222221 0.72916669 0.73090279 0.74131942] --> Prediction: 0.7395833134651184\n",
            "Window 109: [0.73958331 0.73958331 0.72222221 0.69618058 0.69618058] --> Prediction: 0.7100694179534912\n",
            "Window 110: [0.71006942 0.71527779 0.69791669 0.6892361  0.68055558] --> Prediction: 0.6822916865348816\n",
            "Window 111: [0.68229169 0.68055558 0.68055558 0.68055558 0.65625   ] --> Prediction: 0.625\n",
            "Window 112: [0.625      0.64756942 0.65277779 0.64583331 0.64409721] --> Prediction: 0.6510416865348816\n",
            "Window 113: [0.65104169 0.6701389  0.69444442 0.69791669 0.69791669] --> Prediction: 0.7569444179534912\n",
            "Window 114: [0.75694442 0.73958331 0.72916669 0.74305558 0.75694442] --> Prediction: 0.7743055820465088\n",
            "Window 115: [0.77430558 0.7638889  0.75347221 0.77256942 0.73958331] --> Prediction: 0.7152777910232544\n",
            "Window 116: [0.71527779 0.7361111  0.734375   0.73958331 0.71180558] --> Prediction: 0.7100694179534912\n",
            "Window 117: [0.71006942 0.72916669 0.7361111  0.75868058 0.75      ] --> Prediction: 0.7604166865348816\n",
            "Window 118: [0.76041669 0.76215279 0.7638889  0.77083331 0.78993058] --> Prediction: 0.8020833134651184\n",
            "Window 119: [0.80208331 0.80555558 0.8107639  0.82118058 0.8125    ] --> Prediction: 0.8263888955116272\n",
            "Window 120: [0.8263889  0.8125     0.83333331 0.84722221 0.83333331] --> Prediction: 0.8506944179534912\n",
            "Window 121: [0.85069442 0.85069442 0.85416669 0.8923611  0.91319442] --> Prediction: 0.921875\n",
            "Window 122: [0.921875   0.97222221 0.97916669 0.99131942 0.97916669] --> Prediction: 0.9670138955116272\n",
            "Window 123: [0.9670139  0.9513889  0.9861111  1.         1.02777779] --> Prediction: 1.0381944179534912\n",
            "Window 124: [1.03819442 1.02951384 1.00694442 1.02083337 1.03472221] --> Prediction: 1.0416666269302368\n",
            "Window 125: [1.04166663 1.03125    1.02430558 1.01736116 0.99652779] --> Prediction: 0.9861111044883728\n",
            "Window 126: [0.9861111  0.97569442 0.96527779 1.00520837 1.01388884] --> Prediction: 1.0833333730697632\n",
            "Window 127: [1.08333337 1.11284721 1.140625   1.11805558 1.12847221] --> Prediction: 1.15625\n",
            "Window 128: [1.15625    1.16493058 1.19618058 1.24305558 1.20659721] --> Prediction: 1.2378472089767456\n",
            "Window 129: [1.23784721 1.22569442 1.23263884 1.28472221 1.27951384] --> Prediction: 1.2951388359069824\n",
            "Window 130: [1.29513884 1.27604163 1.23958337 1.21701384 1.22916663] --> Prediction: 1.2604166269302368\n",
            "Window 131: [1.26041663 1.28645837 1.28125    1.26909721 1.23263884] --> Prediction: 1.2222222089767456\n",
            "Window 132: [1.22222221 1.19097221 1.22222221 1.21527779 1.19965279] --> Prediction: 1.1423611640930176\n",
            "Window 133: [1.14236116 1.12326384 1.18402779 1.20486116 1.21875   ] --> Prediction: 1.1909722089767456\n",
            "Window 134: [1.19097221 1.23090279 1.25694442 1.28125    1.27777779] --> Prediction: 1.2569444179534912\n",
            "Window 135: [1.25694442 1.26909721 1.27951384 1.30555558 1.30902779] --> Prediction: 1.3298611640930176\n",
            "Window 136: [1.32986116 1.31944442 1.28125    1.26388884 1.24131942] --> Prediction: 1.1944444179534912\n",
            "Window 137: [1.19444442 1.15972221 1.15277779 1.25       1.25694442] --> Prediction: 1.2222222089767456\n",
            "Window 138: [1.22222221 1.21527779 1.24305558 1.22916663 1.17708337] --> Prediction: 1.2152777910232544\n",
            "Window 139: [1.21527779 1.26041663 1.27083337 1.25694442 1.23611116] --> Prediction: 1.1944444179534912\n",
            "Window 140: [1.19444442 1.15972221 1.20138884 1.19444442 1.17708337] --> Prediction: 1.1284722089767456\n",
            "Window 141: [1.12847221 1.12152779 1.18402779 1.21527779 1.14583337] --> Prediction: 1.2013888359069824\n",
            "Window 142: [1.20138884 1.23958337 1.27777779 1.25694442 1.35416663] --> Prediction: 1.375\n",
            "Window 143: [1.375      1.38194442 1.36111116 1.35069442 1.39236116] --> Prediction: 1.4479166269302368\n",
            "Window 144: [1.44791663 1.47916663 1.53819442 1.51736116 1.5       ] --> Prediction: 1.5069444179534912\n",
            "Window 145: [1.50694442 1.48611116 1.5625     1.52777779 1.5       ] --> Prediction: 1.4166666269302368\n",
            "Window 146: [1.41666663 1.40277779 1.41319442 1.4375     1.46527779] --> Prediction: 1.5\n",
            "Window 147: [1.5        1.5        1.48263884 1.47569442 1.43055558] --> Prediction: 1.4131944179534912\n",
            "Window 148: [1.41319442 1.40972221 1.40277779 1.42708337 1.48263884] --> Prediction: 1.5625\n",
            "Window 149: [1.5625     1.54513884 1.52083337 1.54166663 1.54166663] --> Prediction: 1.5347222089767456\n",
            "Window 150: [1.53472221 1.55902779 1.5625     1.45138884 1.38888884] --> Prediction: 1.375\n",
            "Window 151: [1.375      1.45138884 1.42361116 1.40972221 1.46875   ] --> Prediction: 1.5416666269302368\n",
            "Window 152: [1.54166663 1.46527779 1.48958337 1.47222221 1.44097221] --> Prediction: 1.4583333730697632\n",
            "Window 153: [1.45833337 1.48611116 1.51041663 1.53125    1.57638884] --> Prediction: 1.6319444179534912\n",
            "Window 154: [1.63194442 1.63194442 1.59722221 1.58333337 1.47569442] --> Prediction: 1.5277777910232544\n",
            "Window 155: [1.52777779 1.59027779 1.57638884 1.52083337 1.47569442] --> Prediction: 1.5\n",
            "Window 156: [1.5        1.53125    1.47222221 1.39930558 1.46180558] --> Prediction: 1.3819444179534912\n",
            "Window 157: [1.38194442 1.32638884 1.34027779 1.35416663 1.31597221] --> Prediction: 1.1597222089767456\n",
            "Window 158: [1.15972221 1.17361116 1.20138884 1.27083337 1.27083337] --> Prediction: 1.2361111640930176\n",
            "Window 159: [1.23611116 1.25       1.3125     1.3125     1.34722221] --> Prediction: 1.4131944179534912\n",
            "Window 160: [1.41319442 1.44444442 1.43055558 1.38888884 1.37152779] --> Prediction: 1.375\n",
            "Window 161: [1.375      1.32986116 1.28125    1.25       1.31944442] --> Prediction: 1.2777777910232544\n",
            "Window 162: [1.27777779 1.41319442 1.39583337 1.375      1.36111116] --> Prediction: 1.3229166269302368\n",
            "Window 163: [1.32291663 1.31944442 1.29166663 1.35416663 1.375     ] --> Prediction: 1.3819444179534912\n",
            "Window 164: [1.38194442 1.375      1.40277779 1.38194442 1.42361116] --> Prediction: 1.4861111640930176\n",
            "Window 165: [1.48611116 1.46875    1.41666663 1.38194442 1.48611116] --> Prediction: 1.5034722089767456\n",
            "Window 166: [1.50347221 1.5        1.51041663 1.54861116 1.54861116] --> Prediction: 1.5833333730697632\n",
            "Window 167: [1.58333337 1.58680558 1.54861116 1.55902779 1.58333337] --> Prediction: 1.5520833730697632\n",
            "Window 168: [1.55208337 1.5625     1.60069442 1.64930558 1.70138884] --> Prediction: 1.7152777910232544\n",
            "Window 169: [1.71527779 1.72222221 1.68055558 1.65625    1.65972221] --> Prediction: 1.6631944179534912\n",
            "Window 170: [1.66319442 1.64583337 1.64930558 1.67013884 1.68055558] --> Prediction: 1.7222222089767456\n",
            "Window 171: [1.72222221 1.75       1.76388884 1.82638884 1.79513884] --> Prediction: 1.7847222089767456\n",
            "Window 172: [1.78472221 1.80555558 1.84722221 1.83333337 1.85069442] --> Prediction: 1.9027777910232544\n",
            "Window 173: [1.90277779 1.88888884 1.88888884 1.86805558 1.91666663] --> Prediction: 1.9270833730697632\n",
            "Window 174: [1.92708337 1.96527779 1.92361116 1.90625    1.94791663] --> Prediction: 1.9513888359069824\n",
            "Window 175: [1.95138884 1.90277779 1.89583337 1.90625    1.95833337] --> Prediction: 2.0138888359069824\n",
            "Window 176: [2.01388884 1.98611116 2.02777767 2.07638884 1.99305558] --> Prediction: 2.0138888359069824\n",
            "Window 177: [2.01388884 2.05555558 2.0625     2.         2.06597233] --> Prediction: 2.0763888359069824\n",
            "Window 178: [2.07638884 2.04861116 2.03125    2.03819442 2.02777767] --> Prediction: 2.0486111640930176\n",
            "Window 179: [2.04861116 2.05902767 2.09027767 2.13194442 2.19444442] --> Prediction: 2.2326388359069824\n",
            "Window 180: [2.23263884 2.22222233 2.24305558 2.22222233 2.21527767] --> Prediction: 2.222222328186035\n",
            "Window 181: [2.22222233 2.1875     2.19097233 2.20833325 2.19444442] --> Prediction: 2.152777671813965\n",
            "Window 182: [2.15277767 2.09722233 2.06944442 1.91666663 1.83333337] --> Prediction: 1.8402777910232544\n",
            "Window 183: [1.84027779 1.94444442 1.97916663 1.97916663 1.93055558] --> Prediction: 1.8541666269302368\n",
            "Window 184: [1.85416663 1.72222221 1.65972221 1.68055558 1.68055558] --> Prediction: 1.6597222089767456\n",
            "Window 185: [1.65972221 1.63888884 1.61111116 1.77083337 1.73611116] --> Prediction: 1.8055555820465088\n",
            "Window 186: [1.80555558 1.74305558 1.70833337 1.75       1.75      ] --> Prediction: 1.6666666269302368\n",
            "Window 187: [1.66666663 1.58333337 1.61111116 1.61111116 1.29166663] --> Prediction: 1.25\n",
            "Window 188: [1.25       1.22916663 1.32638884 1.32986116 1.29166663] --> Prediction: 1.3611111640930176\n",
            "Window 189: [1.36111116 1.40277779 1.43055558 1.38888884 1.40972221] --> Prediction: 1.3888888359069824\n",
            "Window 190: [1.38888884 1.33333337 1.25694442 1.28125    1.30555558] --> Prediction: 1.2708333730697632\n",
            "Window 191: [1.27083337 1.37847221 1.38194442 1.37152779 1.35416663] --> Prediction: 1.3472222089767456\n",
            "Window 192: [1.34722221 1.3125     1.30555558 1.16666663 1.22916663] --> Prediction: 1.2847222089767456\n",
            "Window 193: [1.28472221 1.27777779 1.32638884 1.29861116 1.30902779] --> Prediction: 1.3194444179534912\n",
            "Window 194: [1.31944442 1.26388884 1.33333337 1.09722221 1.09027779] --> Prediction: 1.1597222089767456\n",
            "Window 195: [1.15972221 1.11805558 1.12152779 1.13888884 1.13888884] --> Prediction: 1.1180555820465088\n",
            "Window 196: [1.11805558 1.09722221 1.09027779 1.10416663 1.16666663] --> Prediction: 1.21875\n",
            "Window 197: [1.21875    1.18055558 1.17361116 1.15972221 1.15972221] --> Prediction: 1.2013888359069824\n",
            "Window 198: [1.20138884 1.21875    1.20138884 1.1875     1.1875    ] --> Prediction: 1.2152777910232544\n",
            "Window 199: [1.21527779 1.25       1.33333337 1.30555558 1.25694442] --> Prediction: 1.2777777910232544\n",
            "Window 200: [1.27777779 1.30555558 1.30555558 1.33333337 1.42361116] --> Prediction: 1.4583333730697632\n",
            "Window 201: [1.45833337 1.45138884 1.37847221 1.36111116 1.36805558] --> Prediction: 1.3854166269302368\n",
            "Window 202: [1.38541663 1.42361116 1.46527779 1.5        1.47222221] --> Prediction: 1.4513888359069824\n",
            "Window 203: [1.45138884 1.42708337 1.375      1.38194442 1.36111116] --> Prediction: 1.3541666269302368\n",
            "Window 204: [1.35416663 1.35416663 1.34027779 1.42361116 1.52083337] --> Prediction: 1.5277777910232544\n",
            "Window 205: [1.52777779 1.47569442 1.45833337 1.50347221 1.53472221] --> Prediction: 1.5416666269302368\n",
            "Window 206: [1.54166663 1.5625     1.50694442 1.52777779 1.53472221] --> Prediction: 1.5\n",
            "Window 207: [1.5        1.49305558 1.52083337 1.52777779 1.51388884] --> Prediction: 1.5347222089767456\n",
            "Window 208: [1.53472221 1.54166663 1.61111116 1.66666663 1.66666663] --> Prediction: 1.6736111640930176\n",
            "Window 209: [1.67361116 1.70138884 1.75694442 1.79166663 1.75      ] --> Prediction: 1.7013888359069824\n",
            "Window 210: [1.70138884 1.71527779 1.74305558 1.70138884 1.83333337] --> Prediction: 1.875\n",
            "Window 211: [1.875      1.84375    1.88194442 1.86111116 1.89930558] --> Prediction: 1.8229166269302368\n",
            "Window 212: [1.82291663 1.83333337 1.79166663 1.79166663 1.81944442] --> Prediction: 1.8333333730697632\n",
            "Window 213: [1.83333337 1.84722221 1.78472221 1.71527779 1.77777779] --> Prediction: 1.8125\n",
            "Window 214: [1.8125     1.79166663 1.76388884 1.85763884 1.84722221] --> Prediction: 1.8368055820465088\n",
            "Window 215: [1.83680558 1.82638884 1.88888884 1.9375     1.95833337] --> Prediction: 1.9375\n",
            "Window 216: [1.9375     1.96527779 1.97916663 1.97916663 1.99305558] --> Prediction: 2.034722328186035\n",
            "Window 217: [2.03472233 2.02777767 2.02083325 1.98611116 1.94444442] --> Prediction: 1.9409722089767456\n",
            "Window 218: [1.94097221 1.99305558 1.94097221 1.88194442 1.88194442] --> Prediction: 1.8090277910232544\n",
            "Window 219: [1.80902779 1.85416663 1.90277779 1.97222221 1.97916663] --> Prediction: 2.034722328186035\n",
            "Window 220: [2.03472233 2.04861116 2.02777767 2.02083325 1.94791663] --> Prediction: 1.9027777910232544\n",
            "Window 221: [1.90277779 1.91666663 1.91666663 1.90277779 1.875     ] --> Prediction: 1.8368055820465088\n",
            "Window 222: [1.83680558 1.875      1.82986116 1.88194442 1.90972221] --> Prediction: 1.9027777910232544\n",
            "Window 223: [1.90277779 1.90972221 1.95138884 1.92361116 1.93055558] --> Prediction: 1.8923611640930176\n",
            "Window 224: [1.89236116 1.90625    1.94444442 1.95833337 1.94097221] --> Prediction: 1.9305555820465088\n",
            "Window 225: [1.93055558 1.92361116 1.89583337 1.93055558 2.02083325] --> Prediction: 2.1111111640930176\n",
            "Window 226: [2.11111116 2.17361116 2.06944442 2.04166675 2.11805558] --> Prediction: 2.2013888359069824\n",
            "Window 227: [2.20138884 2.15277767 2.17361116 2.16666675 2.18055558] --> Prediction: 2.25\n",
            "Window 228: [2.25       2.1875     2.14583325 2.17013884 2.16666675] --> Prediction: 2.152777671813965\n",
            "Window 229: [2.15277767 2.22222233 2.26388884 2.19444442 2.21527767] --> Prediction: 2.1875\n",
            "Window 230: [2.1875     2.27777767 2.41666675 2.36805558 2.3125    ] --> Prediction: 2.3888888359069824\n",
            "Window 231: [2.38888884 2.39583325 2.38888884 2.43055558 2.5       ] --> Prediction: 2.5138888359069824\n",
            "Window 232: [2.51388884 2.52430558 2.52083325 2.44444442 2.47569442] --> Prediction: 2.444444417953491\n",
            "Window 233: [2.44444442 2.64583325 2.60416675 2.59722233 2.54861116] --> Prediction: 2.534722328186035\n",
            "Window 234: [2.53472233 2.48611116 2.47222233 2.52083325 2.54166675] --> Prediction: 2.5763888359069824\n",
            "Window 235: [2.57638884 2.67361116 2.66319442 2.69097233 2.71527767] --> Prediction: 2.756944417953491\n",
            "Window 236: [2.75694442 2.78472233 2.72222233 2.8125     2.88194442] --> Prediction: 2.8298611640930176\n",
            "Window 237: [2.82986116 2.79166675 2.74305558 2.84027767 2.80902767] --> Prediction: 3.0486111640930176\n",
            "Window 238: [3.04861116 2.99305558 3.05902767 3.16666675 3.21527767] --> Prediction: 3.2013888359069824\n",
            "Window 239: [3.20138884 3.09027767 2.875      2.85069442 2.95833325] --> Prediction: 3.069444417953491\n",
            "Window 240: [3.06944442 3.14583325 3.20833325 3.25694442 3.11458325] --> Prediction: 3.097222328186035\n",
            "Window 241: [3.09722233 3.04166675 2.95833325 2.90277767 3.01388884] --> Prediction: 3.090277671813965\n",
            "Window 242: [3.09027767 3.09027767 3.17013884 3.23611116 3.25      ] --> Prediction: 3.2708332538604736\n",
            "Window 243: [3.27083325 3.26388884 3.45138884 3.38194442 3.67274308] --> Prediction: 3.5138888359069824\n",
            "Window 244: [3.51388884 3.66666675 3.68055558 3.69444442 3.5625    ] --> Prediction: 3.4791667461395264\n",
            "Window 245: [3.47916675 3.49305558 3.56944442 3.64583325 3.63194442] --> Prediction: 3.9861111640930176\n",
            "Window 246: [3.98611116 3.96527767 3.97222233 4.00694466 3.84722233] --> Prediction: 3.7986111640930176\n",
            "Window 247: [3.79861116 4.00694466 4.00694466 3.92361116 3.95138884] --> Prediction: 3.8923611640930176\n",
            "Window 248: [3.89236116 3.86805558 3.77777767 3.9375     3.83333325] --> Prediction: 3.6666667461395264\n",
            "Window 249: [3.66666675 3.77777767 3.70486116 3.875      3.72569442] --> Prediction: 3.5798611640930176\n",
            "Window 250: [3.57986116 3.61111116 3.79166675 3.94791675 3.91666675] --> Prediction: 3.847222328186035\n",
            "Window 251: [3.84722233 4.06944466 4.20833349 4.29166651 4.24305534] --> Prediction: 4.1875\n",
            "Window 252: [4.1875     4.1875     4.13194466 4.14930534 4.24305534] --> Prediction: 4.43055534362793\n",
            "Window 253: [4.43055534 4.30555534 4.45833349 4.51388884 4.68055534] --> Prediction: 4.64930534362793\n",
            "Window 254: [4.64930534 4.63194466 4.66666651 4.8125     4.88194466] --> Prediction: 4.74305534362793\n",
            "Window 255: [4.74305534 4.5        4.4375     4.52777767 4.44444466] --> Prediction: 4.333333492279053\n",
            "Window 256: [4.33333349 4.66666651 4.73611116 4.67361116 4.55555534] --> Prediction: 4.736111164093018\n",
            "Window 257: [4.73611116 4.5625     4.43402767 4.40972233 4.4375    ] --> Prediction: 4.4375\n",
            "Window 258: [4.4375     4.30555534 4.28472233 4.04861116 4.11111116] --> Prediction: 3.9375\n",
            "Window 259: [3.9375     4.34722233 4.11111116 4.1875     4.25694466] --> Prediction: 3.934027671813965\n",
            "Window 260: [3.93402767 3.63194442 3.70833325 3.92361116 3.92361116] --> Prediction: 3.7361111640930176\n",
            "Window 261: [3.73611116 3.80555558 3.875      3.9375     4.20833349] --> Prediction: 4.322916507720947\n",
            "Window 262: [4.32291651 4.32638884 4.48611116 4.40277767 4.50694466] --> Prediction: 4.50694465637207\n",
            "Window 263: [4.50694466 4.56944466 4.625      4.76388884 4.69444466] --> Prediction: 4.875\n",
            "Window 264: [4.875      4.97222233 4.92708349 4.9375     5.06944466] --> Prediction: 5.0\n",
            "Window 265: [5.         5.01388884 4.91666651 4.94097233 4.94444466] --> Prediction: 5.55555534362793\n",
            "Window 266: [5.55555534 5.41666651 5.30555534 5.27777767 5.05555534] --> Prediction: 4.902777671813965\n",
            "Window 267: [4.90277767 5.22222233 5.11111116 5.05555534 4.88888884] --> Prediction: 5.097222328186035\n",
            "Window 268: [5.09722233 5.04166651 5.125      5.10416651 5.27777767] --> Prediction: 5.402777671813965\n",
            "Window 269: [5.40277767 5.38888884 5.11111116 4.97222233 4.97222233] --> Prediction: 4.80555534362793\n",
            "Window 270: [4.80555534 4.77083349 4.99305534 5.125      5.15277767] --> Prediction: 5.152777671813965\n",
            "Window 271: [5.15277767 5.08333349 5.13888884 5.29166651 5.08333349] --> Prediction: 4.923611164093018\n",
            "Window 272: [4.92361116 5.125      5.09722233 5.125      5.30555534] --> Prediction: 5.208333492279053\n",
            "Window 273: [5.20833349 5.40277767 5.71527767 5.69444466 5.81944466] --> Prediction: 5.777777671813965\n",
            "Window 274: [5.77777767 5.76388884 5.80555534 5.58333349 5.625     ] --> Prediction: 5.708333492279053\n",
            "Window 275: [5.70833349 5.80555534 5.86111116 5.86111116 6.11111116] --> Prediction: 6.097222328186035\n",
            "Window 276: [6.09722233 6.23611116 6.15277767 6.20833349 6.22222233] --> Prediction: 6.25\n",
            "Window 277: [6.25       6.125      6.19444466 6.36111116 6.33333349] --> Prediction: 6.19444465637207\n",
            "Window 278: [6.19444466 6.19444466 6.34722233 6.18055534 6.20833349] --> Prediction: 6.222222328186035\n",
            "Window 279: [6.22222233 6.32638884 6.31944466 6.20833349 6.13888884] --> Prediction: 6.041666507720947\n",
            "Window 280: [6.04166651 5.875      5.93055534 5.81944466 6.09722233] --> Prediction: 6.0\n",
            "Window 281: [6.         6.04166651 5.93055534 6.09722233 6.29166651] --> Prediction: 6.31944465637207\n",
            "Window 282: [6.31944466 6.38888884 6.43055534 6.08333349 6.15277767] --> Prediction: 5.763888835906982\n",
            "Window 283: [5.76388884 5.75       5.94444466 5.98611116 5.75      ] --> Prediction: 5.625\n",
            "Window 284: [5.625      5.23611116 5.45833349 5.49305534 5.70833349] --> Prediction: 5.55555534362793\n",
            "Window 285: [5.55555534 5.68055534 5.75       5.97222233 6.20833349] --> Prediction: 6.173611164093018\n",
            "Window 286: [6.17361116 6.36111116 6.375      6.51388884 6.48611116] --> Prediction: 6.5\n",
            "Window 287: [6.5        6.31944466 6.29166651 6.41666651 6.22222233] --> Prediction: 6.222222328186035\n",
            "Window 288: [6.22222233 6.11111116 6.25       6.40277767 6.31944466] --> Prediction: 6.125\n",
            "Window 289: [6.125      6.11111116 6.05555534 6.         5.86111116] --> Prediction: 6.041666507720947\n",
            "Window 290: [6.04166651 6.04166651 6.04166651 6.24305534 6.55555534] --> Prediction: 6.638888835906982\n",
            "Window 291: [6.63888884 6.625      6.65277767 6.66666651 6.75      ] --> Prediction: 6.74305534362793\n",
            "Window 292: [6.74305534 6.72222233 7.02083349 7.04166651 7.        ] --> Prediction: 6.895833492279053\n",
            "Window 293: [6.89583349 6.90277767 7.09722233 7.18055534 7.44444466] --> Prediction: 7.333333492279053\n",
            "Window 294: [7.33333349 7.13888884 7.15277767 7.22222233 7.30555534] --> Prediction: 7.25\n",
            "Window 295: [7.25       7.31944466 7.26388884 7.125      7.04166651] --> Prediction: 6.74305534362793\n",
            "Window 296: [6.74305534 6.80555534 6.98611116 6.66666651 6.58333349] --> Prediction: 6.43055534362793\n",
            "Window 297: [6.43055534 6.40277767 6.45833349 6.875      6.69444466] --> Prediction: 6.736111164093018\n",
            "Window 298: [6.73611116 6.86111116 6.80555534 7.16666651 7.19444466] --> Prediction: 7.388888835906982\n",
            "Window 299: [7.38888884 7.22222233 7.34722233 7.25       7.19444466] --> Prediction: 7.041666507720947\n",
            "Window 300: [7.04166651 7.22222233 7.38888884 7.33333349 7.51388884] --> Prediction: 7.625\n",
            "Window 301: [7.625      7.27777767 7.02777767 7.15277767 7.22222233] --> Prediction: 7.527777671813965\n",
            "Window 302: [7.52777767 7.48611116 7.55555534 7.30555534 7.19444466] --> Prediction: 7.041666507720947\n",
            "Window 303: [7.04166651 6.97222233 7.11111116 7.22222233 7.22222233] --> Prediction: 7.5\n",
            "Window 304: [7.5        7.58333349 7.36111116 7.44444466 7.625     ] --> Prediction: 7.68055534362793\n",
            "Window 305: [7.68055534 8.01388931 7.81944466 7.81944466 8.06944466] --> Prediction: 8.30555534362793\n",
            "Window 306: [8.30555534 8.31944466 8.1875     7.97222233 7.625     ] --> Prediction: 7.597222328186035\n",
            "Window 307: [7.59722233 7.65277767 7.33333349 7.5        7.75      ] --> Prediction: 7.583333492279053\n",
            "Window 308: [7.58333349 7.45833349 6.97222233 7.09722233 7.01388884] --> Prediction: 6.44444465637207\n",
            "Window 309: [6.44444466 6.72916651 7.18055534 6.95138884 6.95833349] --> Prediction: 6.55555534362793\n",
            "Window 310: [6.55555534 6.27777767 6.45833349 6.11805534 6.18055534] --> Prediction: 6.027777671813965\n",
            "Window 311: [6.02777767 6.19444466 6.31944466 6.06944466 5.70833349] --> Prediction: 5.93055534362793\n",
            "Window 312: [5.93055534 5.86111116 5.65277767 5.77777767 5.61805534] --> Prediction: 5.458333492279053\n",
            "Window 313: [5.45833349 5.59722233 5.55555534 5.68055534 5.47222233] --> Prediction: 5.347222328186035\n",
            "Window 314: [5.34722233 5.375      5.27777767 5.375      5.65277767] --> Prediction: 6.048611164093018\n",
            "Window 315: [6.04861116 6.15277767 6.00694466 5.84722233 5.69444466] --> Prediction: 5.916666507720947\n",
            "Window 316: [5.91666651 5.56944466 5.27777767 5.5        5.375     ] --> Prediction: 5.25694465637207\n",
            "Window 317: [5.25694466 5.27777767 5.40277767 5.36805534 5.15277767] --> Prediction: 5.166666507720947\n",
            "Window 318: [5.16666651 5.55555534 5.75       5.93055534 6.36111116] --> Prediction: 6.541666507720947\n",
            "Window 319: [6.54166651 6.41666651 6.52777767 6.81944466 6.84722233] --> Prediction: 6.99305534362793\n",
            "Window 320: [6.99305534 6.93055534 6.88888884 6.97222233 6.83333349] --> Prediction: 6.770833492279053\n",
            "Window 321: [6.77083349 7.15277767 7.30555534 7.27777767 7.48611116] --> Prediction: 7.534722328186035\n",
            "Window 322: [7.53472233 7.19444466 7.11805534 7.19444466 7.21527767] --> Prediction: 7.388888835906982\n",
            "Window 323: [7.38888884 7.22222233 7.07638884 7.08680534 7.40972233] --> Prediction: 7.50694465637207\n",
            "Window 324: [7.50694466 7.63888884 7.44444466 7.66666651 7.70833349] --> Prediction: 7.75694465637207\n",
            "Window 325: [7.75694466 7.85416651 7.63888884 7.51388884 7.38888884] --> Prediction: 8.208333015441895\n",
            "Window 326: [8.20833302 8.29861069 8.47916698 8.47916698 8.38888931] --> Prediction: 8.50694465637207\n",
            "Window 327: [8.50694466 8.66319466 8.8125     8.74305534 8.48958302] --> Prediction: 8.527777671813965\n",
            "Window 328: [8.52777767 8.77777767 8.93055534 8.875      8.85416698] --> Prediction: 8.597222328186035\n",
            "Window 329: [8.59722233 8.80555534 8.83333302 8.84027767 8.86805534] --> Prediction: 9.06944465637207\n",
            "Window 330: [9.06944466 9.10416698 8.93055534 8.75694466 8.56944466] --> Prediction: 8.38194465637207\n",
            "Window 331: [8.38194466 8.25       8.34722233 8.55555534 8.30555534] --> Prediction: 8.45138931274414\n",
            "Window 332: [8.45138931 8.41666698 8.70833302 8.60416698 8.52777767] --> Prediction: 8.6875\n",
            "Window 333: [8.6875     8.61805534 8.56944466 8.33333302 8.375     ] --> Prediction: 8.43055534362793\n",
            "Window 334: [8.43055534 8.44444466 8.05555534 8.02083302 8.02777767] --> Prediction: 7.75\n",
            "Window 335: [7.75       8.27777767 8.25       8.22916698 8.13888931] --> Prediction: 8.354166984558105\n",
            "Window 336: [8.35416698 8.44444466 8.28472233 8.09722233 8.18055534] --> Prediction: 8.23611068725586\n",
            "Window 337: [8.23611069 8.11805534 8.09027767 8.45138931 8.72222233] --> Prediction: 8.840277671813965\n",
            "Window 338: [8.84027767 9.07638931 8.97916698 9.09722233 9.04861069] --> Prediction: 9.083333015441896\n",
            "Window 339: [9.08333302 8.99305534 9.23611069 9.07638931 8.88888931] --> Prediction: 9.04861068725586\n",
            "Window 340: [9.04861069 9.36805534 9.32638931 9.05555534 8.91666698] --> Prediction: 8.097222328186035\n",
            "Window 341: [8.09722233 8.88888931 8.94444466 8.88194466 9.11458302] --> Prediction: 9.416666984558104\n",
            "Window 342: [9.41666698 9.27083302 9.49305534 9.40972233 9.28472233] --> Prediction: 9.090277671813965\n",
            "Window 343: [9.09027767 8.95833302 8.5        8.84027767 9.04166698] --> Prediction: 9.229166984558104\n",
            "Window 344: [9.22916698 9.14583302 9.23958302 9.5        9.45833302] --> Prediction: 10.04861068725586\n",
            "Window 345: [10.04861069  9.61111069  9.65625     9.59722233  9.93055534] --> Prediction: 9.972222328186035\n",
            "Window 346: [9.97222233 9.71527767 9.48611069 9.1875     8.50694466] --> Prediction: 8.61111068725586\n",
            "Window 347: [8.61111069 8.90277767 9.03125    8.92708302 8.90625   ] --> Prediction: 9.65625\n",
            "Window 348: [9.65625    9.53125    9.25       9.35416698 9.04166698] --> Prediction: 9.28125\n",
            "Window 349: [9.28125    9.33333302 9.5        9.57291698 9.64583302] --> Prediction: 9.4375\n",
            "Window 350: [ 9.4375      9.875      10.3125     10.625      10.51041698] --> Prediction: 10.65625\n",
            "Window 351: [10.65625    10.5        10.76041698 10.72916698 10.98958302] --> Prediction: 10.666666984558104\n",
            "Window 352: [10.66666698 10.79166698 10.8125     10.875      10.8125    ] --> Prediction: 10.9375\n",
            "Window 353: [10.9375     10.79166698 11.125      11.08333302 10.97916698] --> Prediction: 10.875\n",
            "Window 354: [10.875      10.75       10.875      10.3125     10.72916698] --> Prediction: 10.203125\n",
            "Window 355: [10.203125   10.22916698 10.4375     10.65625    10.76041698] --> Prediction: 10.729166984558104\n",
            "Window 356: [10.72916698 10.76041698 10.59375    10.71875    10.60416698] --> Prediction: 10.791666984558104\n",
            "Window 357: [10.79166698 11.30208302 11.59375    11.5625     11.5625    ] --> Prediction: 11.239583015441896\n",
            "Window 358: [11.23958302 11.39583302 11.55208302 11.70833302 11.78125   ] --> Prediction: 11.083333015441896\n",
            "Window 359: [11.08333302 11.28125    11.78125    11.69791698 11.73958302] --> Prediction: 12.041666984558104\n",
            "Window 360: [12.04166698 12.3125     12.27083302 11.94791698 11.98958302] --> Prediction: 11.739583015441896\n",
            "Window 361: [11.73958302 11.8125     12.         12.20833302 12.27083302] --> Prediction: 12.489583015441896\n",
            "Window 362: [12.48958302 12.27083302 12.66666698 12.5625     12.625     ] --> Prediction: 12.458333015441896\n",
            "Window 363: [12.45833302 12.72916698 12.66666698 12.67708302 12.72916698] --> Prediction: 12.958333015441896\n",
            "Window 364: [12.95833302 13.3984375  13.10416698 12.95833302 12.8125    ] --> Prediction: 12.260416984558104\n",
            "Window 365: [12.26041698 12.73958302 12.4375     12.8125     12.90625   ] --> Prediction: 12.916666984558104\n",
            "Window 366: [12.91666698 13.25       13.1875     13.17708302 13.1875    ] --> Prediction: 13.041666984558104\n",
            "Window 367: [13.04166698 13.32291698 13.44791698 13.6875     13.85416698] --> Prediction: 14.104166984558104\n",
            "Window 368: [14.10416698 14.47916698 14.63541698 14.51041698 14.97916698] --> Prediction: 15.5\n",
            "Window 369: [15.5        15.45833302 15.70833302 15.48958302 15.48958302] --> Prediction: 15.708333015441896\n",
            "Window 370: [15.70833302 15.8125     15.92708302 15.95833302 16.625     ] --> Prediction: 17.19791603088379\n",
            "Window 371: [17.19791603 16.48958397 16.41666603 16.52083397 16.29166603] --> Prediction: 16.25\n",
            "Window 372: [16.25       16.         15.66666698 16.41666603 15.95833302] --> Prediction: 16.08333396911621\n",
            "Window 373: [16.08333397 15.52083302 16.125      16.5625     16.14583397] --> Prediction: 16.53125\n",
            "Window 374: [16.53125    16.33333397 16.42708397 16.11458397 16.07291603] --> Prediction: 16.35416603088379\n",
            "Window 375: [16.35416603 16.69791603 16.875      17.10416603 17.125     ] --> Prediction: 17.16666603088379\n",
            "Window 376: [17.16666603 17.32291603 17.27083397 16.52083397 15.78125   ] --> Prediction: 13.645833015441896\n",
            "Window 377: [13.64583302 15.         15.27083302 15.10416698 14.875     ] --> Prediction: 15.614583015441896\n",
            "Window 378: [15.61458302 16.10416603 16.15625    15.375      15.265625  ] --> Prediction: 15.5625\n",
            "Window 379: [15.5625   15.71875  16.5625   16.234375 16.609375] --> Prediction: 16.5625\n",
            "Window 380: [16.5625   16.15625  15.453125 14.3125   13.9375  ] --> Prediction: 12.078125\n",
            "Window 381: [12.078125 11.546875 10.96875  11.671875 12.515625] --> Prediction: 13.09375\n",
            "Window 382: [13.09375  12.671875 13.03125  14.234375 13.84375 ] --> Prediction: 14.0625\n",
            "Window 383: [14.0625   13.53125  14.40625  14.609375 14.671875] --> Prediction: 15.34375\n",
            "Window 384: [15.34375  15.1875   15.71875  15.671875 15.75    ] --> Prediction: 16.171875\n",
            "Window 385: [16.171875 15.84375  16.390625 16.953125 16.859375] --> Prediction: 16.75\n",
            "Window 386: [16.75     16.75     16.515625 16.296875 16.171875] --> Prediction: 16.734375\n",
            "Window 387: [16.734375 17.1875   18.21875  18.328125 18.65625 ] --> Prediction: 18.84375\n",
            "Window 388: [18.84375  19.9375   19.5625   19.046875 19.5625  ] --> Prediction: 20.046875\n",
            "Window 389: [20.046875 19.953125 20.1875   20.296875 20.875   ] --> Prediction: 20.09375\n",
            "Window 390: [20.09375  20.9375   20.671875 21.21875  22.609375] --> Prediction: 23.828125\n",
            "Window 391: [23.828125 24.234375 24.9375   25.90625  26.671875] --> Prediction: 26.171875\n",
            "Window 392: [26.171875 24.53125  23.96875  24.09375  25.421875] --> Prediction: 25.859375\n",
            "Window 393: [25.859375 26.78125  25.859375 27.21875  27.890625] --> Prediction: 28.75\n",
            "Window 394: [28.75       28.09765625 27.78125    26.3125     25.3125    ] --> Prediction: 25.484375\n",
            "Window 395: [25.484375 23.984375 24.640625 26.21875  24.765625] --> Prediction: 25.515625\n",
            "Window 396: [25.515625 25.734375 24.984375 24.625    24.453125] --> Prediction: 24.859375\n",
            "Window 397: [24.859375 23.921875 23.78125  24.5625   25.203125] --> Prediction: 26.140625\n",
            "Window 398: [26.140625 26.328125 26.09375  26.375    25.8125  ] --> Prediction: 26.25\n",
            "Window 399: [26.25     26.5      26.515625 26.71875  26.125   ] --> Prediction: 25.6875\n",
            "Window 400: [25.6875   25.078125 26.109375 26.859375 26.296875] --> Prediction: 28.609375\n",
            "Window 401: [28.609375 28.8125   29.6875   29.40625  29.53125 ] --> Prediction: 29.4375\n",
            "Window 402: [29.4375   28.53125  27.6875   27.578125 26.421875] --> Prediction: 25.0\n",
            "Window 403: [25.       25.390625 26.984375 28.296875 29.34375 ] --> Prediction: 29.40625\n",
            "Window 404: [29.40625  28.765625 27.9375   27.296875 28.515625] --> Prediction: 28.40625\n",
            "Window 405: [28.40625   27.15625   27.7421875 26.734375  27.125    ] --> Prediction: 27.3125\n",
            "Window 406: [27.3125   27.96875  29.6875   29.421875 28.859375] --> Prediction: 29.109375\n",
            "Window 407: [29.109375 29.046875 29.140625 28.6875   28.3125  ] --> Prediction: 27.34375\n",
            "Window 408: [27.34375 26.09375 27.28125 27.      27.25   ] --> Prediction: 28.84375\n",
            "Window 409: [28.84375  27.921875 28.4375   27.609375 27.671875] --> Prediction: 26.953125\n",
            "Window 410: [26.953125 27.796875 29.0625   29.34375  29.84375 ] --> Prediction: 30.78125\n",
            "Window 411: [30.78125 29.75    30.9375  30.125   30.65625] --> Prediction: 30.96875\n",
            "Window 412: [30.96875 31.25    32.21875 32.1875  33.53125] --> Prediction: 32.8125\n",
            "Window 413: [32.8125  32.625   32.65625 33.28125 33.     ] --> Prediction: 32.46875\n",
            "Window 414: [32.46875 31.125   31.53125 30.5625  31.46875] --> Prediction: 30.53125\n",
            "Window 415: [30.53125 31.46875 31.65625 30.875   31.0625 ] --> Prediction: 30.90625\n",
            "Window 416: [30.90625 30.5625  30.25    30.75    31.125  ] --> Prediction: 29.90625\n",
            "Window 417: [29.90625 29.375   31.46875 30.84375 31.78125] --> Prediction: 31.75\n",
            "Window 418: [31.75    32.125   31.65625 31.125   32.0625 ] --> Prediction: 32.875\n",
            "Window 419: [32.875   33.1875  34.3125  34.46875 34.25   ] --> Prediction: 33.375\n",
            "Window 420: [33.375   33.90625 34.46875 34.125   35.46875] --> Prediction: 35.34375\n",
            "Window 421: [35.34375 35.96875 35.25    35.25    36.75   ] --> Prediction: 36.59375\n",
            "Window 422: [36.59375 35.5625  36.125   34.6875  34.5    ] --> Prediction: 34.0625\n",
            "Window 423: [34.0625  34.1875  33.40625 34.28125 34.4375 ] --> Prediction: 35.25\n",
            "Window 424: [35.25      35.8125    35.9609375 35.4375    35.90625  ] --> Prediction: 36.21875\n",
            "Window 425: [36.21875 35.875   35.15625 34.6875  33.59375] --> Prediction: 33.6875\n",
            "Window 426: [33.6875  33.6875  34.96875 34.59375 33.28125] --> Prediction: 33.25\n",
            "Window 427: [33.25    33.625   34.59375 35.46875 37.     ] --> Prediction: 36.4375\n",
            "Window 428: [36.4375  36.75    35.75    35.      36.71875] --> Prediction: 37.65625\n",
            "Window 429: [37.65625 37.125   39.75    41.875   41.71875] --> Prediction: 41.40625\n",
            "Window 430: [41.40625 42.25    42.375   43.96875 44.0625 ] --> Prediction: 46.375\n",
            "Window 431: [46.375   44.59375 45.71875 46.75    47.78125] --> Prediction: 49.125\n",
            "Window 432: [49.125   50.75    49.96875 49.3125  49.90625] --> Prediction: 50.59375\n",
            "Window 433: [50.59375 48.96875 47.9375  48.9375  49.84375] --> Prediction: 52.59375\n",
            "Window 434: [52.59375 52.59375 53.0625  53.09375 53.5625 ] --> Prediction: 54.03125\n",
            "Window 435: [54.03125 51.      50.84375 50.      52.9375 ] --> Prediction: 54.90625\n",
            "Window 436: [54.90625 53.25    51.90625 53.09375 53.78125] --> Prediction: 54.53125\n",
            "Window 437: [54.53125 56.0625  53.59375 53.3125  51.9375 ] --> Prediction: 54.75\n",
            "Window 438: [54.75    58.90625 56.9375  58.90625 60.5625 ] --> Prediction: 62.59375\n",
            "Window 439: [62.59375 62.90625 64.40625 67.96875 65.46875] --> Prediction: 65.25\n",
            "Window 440: [65.25      64.        63.5859375 65.25      62.90625  ] --> Prediction: 65.28125\n",
            "Window 441: [65.28125 66.09375 65.84375 66.375   68.71875] --> Prediction: 68.0625\n",
            "Window 442: [68.0625  66.03125 66.1875  69.65625 68.1875 ] --> Prediction: 68.09375\n",
            "Window 443: [68.09375   65.875     64.3125    65.8359375 67.5      ] --> Prediction: 67.0625\n",
            "Window 444: [67.0625    70.4296875 72.1875    77.8125    79.375    ] --> Prediction: 80.0625\n",
            "Window 445: [80.0625 77.875  76.0625 73.625  77.3125] --> Prediction: 72.9375\n",
            "Window 446: [72.9375 73.125  72.125  71.8125 74.9375] --> Prediction: 72.5625\n",
            "Window 447: [72.5625 70.     65.     61.125  57.    ] --> Prediction: 63.4375\n",
            "Window 448: [63.4375   66.       66.75     69.       69.328125] --> Prediction: 71.4375\n",
            "Window 449: [71.4375 68.     66.0625 63.625  67.75  ] --> Prediction: 62.75\n",
            "Window 450: [62.75   62.75   58.5    60.25   59.9375] --> Prediction: 60.0\n",
            "Window 451: [60.     60.5625 58.     55.375  53.4375] --> Prediction: 55.25\n",
            "Window 452: [55.25     50.546875 55.125    54.5      54.9375  ] --> Prediction: 63.25\n",
            "Window 453: [63.25   61.3125 62.875  63.6875 64.375 ] --> Prediction: 62.125\n",
            "Window 454: [62.125  65.     65.1875 66.5    67.8125] --> Prediction: 68.9375\n",
            "Window 455: [68.9375 67.125  67.4375 64.5625 62.625 ] --> Prediction: 62.8125\n",
            "Window 456: [62.8125 62.25   63.5625 61.1875 63.5625] --> Prediction: 63.125\n",
            "Window 457: [63.125 62.125 63.875 65.25  68.25 ] --> Prediction: 69.625\n",
            "Window 458: [69.625  67.25   66.8125 69.5    68.125 ] --> Prediction: 66.0625\n",
            "Window 459: [66.0625 68.125  68.5625 68.     62.8125] --> Prediction: 65.4375\n",
            "Window 460: [65.4375 63.1875 60.9375 64.375  65.5625] --> Prediction: 66.25\n",
            "Window 461: [66.25   65.5    67.8125 63.375  64.3125] --> Prediction: 64.5\n",
            "Window 462: [64.5    63.1875 63.0625 63.4375 63.5   ] --> Prediction: 65.5\n",
            "Window 463: [65.5    64.8125 67.1875 66.5    65.5   ] --> Prediction: 66.0625\n",
            "Window 464: [66.0625 66.5625 66.5625 68.625  68.5625] --> Prediction: 61.1875\n",
            "Window 465: [61.1875 58.875  61.3125 61.25   62.75  ] --> Prediction: 60.0625\n",
            "Window 466: [60.0625 62.     63.125  61.125  60.3125] --> Prediction: 57.1875\n",
            "Window 467: [57.1875 55.1875 57.3125 59.4375 55.25  ] --> Prediction: 55.5\n",
            "Window 468: [55.5    56.25   58.5625 57.5625 56.1875] --> Prediction: 53.6875\n",
            "Window 469: [53.6875 51.125  51.1875 49.8125 56.0625] --> Prediction: 54.5\n",
            "Window 470: [54.5    54.5625 52.25   58.25   57.3125] --> Prediction: 55.875\n",
            "Window 471: [55.875  54.875  50.625  53.5625 50.6875] --> Prediction: 48.0625\n",
            "Window 472: [48.0625 53.875  52.125  55.75   56.75  ] --> Prediction: 55.125\n",
            "Window 473: [55.125  56.75   52.125  53.25   50.0625] --> Prediction: 50.375\n",
            "Window 474: [50.375  53.125  53.5625 51.0625 52.75  ] --> Prediction: 51.25\n",
            "Window 475: [51.25   51.     51.6875 47.875  48.5   ] --> Prediction: 45.8125\n",
            "Window 476: [45.8125 52.125  51.4375 49.9375 52.375 ] --> Prediction: 54.8125\n",
            "Window 477: [54.8125   54.375    51.125    50.9375   48.171875] --> Prediction: 42.9375\n",
            "Window 478: [42.9375 41.75   36.5    38.875  41.5   ] --> Prediction: 36.546875\n",
            "Window 479: [36.546875 37.125    36.25     39.125    38.0625  ] --> Prediction: 41.4375\n",
            "Window 480: [41.4375 42.625  42.5625 39.3125 38.375 ] --> Prediction: 37.25\n",
            "Window 481: [37.25   38.     37.4375 38.25   35.5   ] --> Prediction: 34.5625\n",
            "Window 482: [34.5625 35.75   31.0625 30.     28.1875] --> Prediction: 29.5625\n",
            "Window 483: [29.5625 28.5    29.375  30.8125 28.25  ] --> Prediction: 26.0625\n",
            "Window 484: [26.0625 24.     23.6875 24.5    22.1875] --> Prediction: 23.078125\n",
            "Window 485: [23.078125 24.       24.       22.8125   20.625   ] --> Prediction: 18.8125\n",
            "Window 486: [18.8125 21.375  20.25   20.3125 19.9375] --> Prediction: 20.8125\n",
            "Window 487: [20.8125 19.0625 19.3125 19.75   18.6875] --> Prediction: 17.875\n",
            "Window 488: [17.875  18.125  15.75   15.25   15.8125] --> Prediction: 15.0625\n",
            "Window 489: [15.0625 13.75   13.6875 14.9375 13.625 ] --> Prediction: 17.200000762939453\n",
            "Window 490: [17.20000076 16.65999985 17.93000031 18.90999985 19.14999962] --> Prediction: 17.329999923706055\n",
            "Window 491: [17.32999992 16.26000023 15.72999954 15.21000004 15.60000038] --> Prediction: 16.979999542236328\n",
            "Window 492: [16.97999954 17.79999924 20.         18.65999985 19.63999939] --> Prediction: 19.25\n",
            "Window 493: [19.25       20.37999916 19.12999916 18.82999992 19.04999924] --> Prediction: 18.56999969482422\n",
            "Window 494: [18.56999969 18.73999977 20.         19.86000061 20.20000076] --> Prediction: 22.8700008392334\n",
            "Window 495: [22.87000084 23.47999954 22.36000061 22.90999985 22.04999924] --> Prediction: 19.729999542236328\n",
            "Window 496: [19.72999954 21.54000092 20.76000023 21.81999969 20.48999977] --> Prediction: 20.3799991607666\n",
            "Window 497: [20.37999916 20.37000084 19.02000046 17.73999977 16.64999962] --> Prediction: 16.5\n",
            "Window 498: [16.5        16.63999939 16.39999962 17.68000031 17.52000046] --> Prediction: 18.510000228881836\n",
            "Window 499: [18.51000023 18.02000046 17.93000031 18.57999992 18.20000076] --> Prediction: 17.25\n",
            "Window 500: [17.25       16.20000076 16.70000076 17.86000061 18.73999977] --> Prediction: 17.709999084472656\n",
            "Window 501: [17.70999908 17.79000092 17.14999962 17.76000023 17.98999977] --> Prediction: 18.270000457763672\n",
            "Window 502: [18.27000046 18.37999916 18.70000076 19.37999916 19.05999947] --> Prediction: 18.88999938964844\n",
            "Window 503: [18.88999939 19.21999931 20.29999924 20.25       20.04999924] --> Prediction: 19.540000915527344\n",
            "Window 504: [19.54000092 19.26000023 17.97999954 18.29000092 18.32999992] --> Prediction: 18.209999084472656\n",
            "Window 505: [18.20999908 17.64999962 17.         17.47999954 16.61000061] --> Prediction: 16.899999618530273\n",
            "Window 506: [16.89999962 16.01000023 16.47999954 16.76000023 18.25      ] --> Prediction: 18.010000228881836\n",
            "Window 507: [18.01000023 17.09000015 17.07999992 16.01000023 16.32999992] --> Prediction: 14.0\n",
            "Window 508: [14.         13.56999969 13.48999977 12.88000011 12.09000015] --> Prediction: 12.5600004196167\n",
            "Window 509: [12.56000042 12.60000038 12.22999954 11.23999977 12.18000031] --> Prediction: 11.899999618530272\n",
            "Window 510: [11.89999962 11.47999954 13.94999981 14.42000008 14.93999958] --> Prediction: 15.050000190734863\n",
            "Window 511: [15.05000019 14.59000015 15.14999962 16.45999908 16.95000076] --> Prediction: 16.209999084472656\n",
            "Window 512: [16.20999908 16.96999931 15.60000038 16.71999931 16.71999931] --> Prediction: 16.829999923706055\n",
            "Window 513: [16.82999992 16.40999985 17.22999954 17.73999977 17.29000092] --> Prediction: 16.420000076293945\n",
            "Window 514: [16.42000008 16.56999969 16.92000008 17.65999985 17.26000023] --> Prediction: 17.899999618530273\n",
            "Window 515: [17.89999962 18.46999931 18.93000031 19.09000015 19.20000076] --> Prediction: 19.260000228881836\n",
            "Window 516: [19.26000023 19.57999992 19.88999939 20.13999939 20.02000046] --> Prediction: 19.93000030517578\n",
            "Window 517: [19.93000031 19.70000076 18.87999916 19.88999939 20.44000053] --> Prediction: 19.86000061035156\n",
            "Window 518: [19.86000061 20.52000046 21.54000092 21.79000092 21.15999985] --> Prediction: 20.739999771118164\n",
            "Window 519: [20.73999977 20.78000069 20.5        19.01000023 19.38999939] --> Prediction: 19.260000228881836\n",
            "Window 520: [19.26000023 19.62000084 19.35000038 18.29000092 18.19000053] --> Prediction: 20.530000686645508\n",
            "Window 521: [20.53000069 20.95000076 20.85000038 21.         20.20999908] --> Prediction: 19.6299991607666\n",
            "Window 522: [19.62999916 19.68000031 18.94000053 19.47999954 18.85000038] --> Prediction: 19.700000762939453\n",
            "Window 523: [19.70000076 19.01000023 19.34000015 19.79999924 19.20999908] --> Prediction: 18.309999465942383\n",
            "Window 524: [18.30999947 18.5        18.61000061 17.05999947 16.76000023] --> Prediction: 17.690000534057617\n",
            "Window 525: [17.69000053 17.26000023 17.52000046 17.45999908 17.09000015] --> Prediction: 15.600000381469728\n",
            "Window 526: [15.60000038 15.5        14.23999977 14.27000046 15.        ] --> Prediction: 16.479999542236328\n",
            "Window 527: [16.47999954 16.51000023 16.77000046 17.         17.79999924] --> Prediction: 17.420000076293945\n",
            "Window 528: [17.42000008 16.77000046 16.36000061 16.73999977 16.54000092] --> Prediction: 16.520000457763672\n",
            "Window 529: [16.52000046 16.73999977 16.02000046 16.48999977 16.56999969] --> Prediction: 17.520000457763672\n",
            "Window 530: [17.52000046 16.42000008 16.60000038 16.87000084 16.14999962] --> Prediction: 16.18000030517578\n",
            "Window 531: [16.18000031 14.81999969 15.55000019 14.86999989 15.30000019] --> Prediction: 15.010000228881836\n",
            "Window 532: [15.01000023 15.57999992 15.97000027 15.43999958 15.26000023] --> Prediction: 14.869999885559082\n",
            "Window 533: [14.86999989 14.01000023 14.43000031 14.59000015 13.90999985] --> Prediction: 14.130000114440918\n",
            "Window 534: [14.13000011 14.64999962 13.69999981 13.64000034 13.14000034] --> Prediction: 12.890000343322754\n",
            "Window 535: [12.89000034 13.07999992 16.27000046 15.75       15.42000008] --> Prediction: 15.699999809265137\n",
            "Window 536: [15.69999981 16.45000076 16.55999947 17.01000023 17.25      ] --> Prediction: 16.579999923706055\n",
            "Window 537: [16.57999992 16.15999985 16.55999947 16.89999962 16.56999969] --> Prediction: 15.329999923706056\n",
            "Window 538: [15.32999992 16.07999992 15.92000008 15.46000004 15.72999954] --> Prediction: 15.470000267028809\n",
            "Window 539: [15.47000027 14.98999977 15.28999996 14.89000034 14.30000019] --> Prediction: 15.06999969482422\n",
            "Window 540: [15.06999969 14.71000004 14.48999977 14.07999992 13.73999977] --> Prediction: 14.0600004196167\n",
            "Window 541: [14.06000042 13.44999981 13.43000031 13.81999969 13.94999981] --> Prediction: 13.670000076293944\n",
            "Window 542: [13.67000008 13.14000034 13.51000023 14.05000019 14.38000011] --> Prediction: 14.4399995803833\n",
            "Window 543: [14.43999958 14.27000046 14.80000019 14.34000015 13.64999962] --> Prediction: 12.979999542236328\n",
            "Window 544: [12.97999954 12.5        13.09000015 11.60999966 11.81999969] --> Prediction: 13.3100004196167\n",
            "Window 545: [13.31000042 13.34000015 13.18999958 12.10000038 11.89000034] --> Prediction: 11.359999656677246\n",
            "Window 546: [11.35999966 12.06999969 12.98999977 13.19999981 13.11999989] --> Prediction: 13.40999984741211\n",
            "Window 547: [13.40999985 13.36999989 14.35000038 14.35999966 14.44999981] --> Prediction: 14.720000267028809\n",
            "Window 548: [14.72000027 14.72999954 15.10999966 15.10000038 14.44999981] --> Prediction: 14.489999771118164\n",
            "Window 549: [14.48999977 14.02000046 13.72000027 14.19999981 13.81999969] --> Prediction: 12.960000038146973\n",
            "Window 550: [12.96000004 13.43000031 13.56999969 13.03999996 13.05000019] --> Prediction: 12.93000030517578\n",
            "Window 551: [12.93000031 12.53999996 12.5        12.         12.07999992] --> Prediction: 11.960000038146973\n",
            "Window 552: [11.96000004 11.43000031 11.96000004 11.35999966 11.22999954] --> Prediction: 10.479999542236328\n",
            "Window 553: [10.47999954 10.93999958 10.05000019  9.81000042  9.46000004] --> Prediction: 9.079999923706056\n",
            "Window 554: [ 9.07999992  8.60000038  9.22999954  9.73999977 10.31999969] --> Prediction: 9.989999771118164\n",
            "Window 555: [ 9.98999977 10.98999977  9.81000042 10.17000008 10.51000023] --> Prediction: 10.949999809265137\n",
            "Window 556: [10.94999981 11.22000027 11.26000023 11.75       11.77999973] --> Prediction: 10.899999618530272\n",
            "Window 557: [10.89999962 10.60000038 10.90999985 11.18000031 11.60999966] --> Prediction: 12.3100004196167\n",
            "Window 558: [12.31000042 12.68999958 12.96000004 12.35000038 12.56000042] --> Prediction: 12.15999984741211\n",
            "Window 559: [12.15999985 12.86999989 13.42000008 14.         14.07999992] --> Prediction: 13.90999984741211\n",
            "Window 560: [13.90999985 13.65999985 14.38000011 15.23999977 14.89000034] --> Prediction: 15.0600004196167\n",
            "Window 561: [15.06000042 14.52000046 14.43000031 14.10999966 14.18000031] --> Prediction: 13.5\n",
            "Window 562: [13.5        13.93000031 13.85000038 14.10999966 13.39999962] --> Prediction: 13.670000076293944\n",
            "Window 563: [13.67000008 13.65999985 13.22000027 13.         13.27000046] --> Prediction: 14.199999809265137\n",
            "Window 564: [14.19999981 14.60000038 14.43999958 14.94999981 15.22000027] --> Prediction: 15.279999732971191\n",
            "Window 565: [15.27999973 15.57999992 15.18000031 14.89999962 14.13000011] --> Prediction: 13.710000038146973\n",
            "Window 566: [13.71000004 14.22000027 14.07999992 13.86999989 13.36999989] --> Prediction: 13.479999542236328\n",
            "Window 567: [13.47999954 13.19999981 13.19999981 13.23999977 12.85000038] --> Prediction: 13.149999618530272\n",
            "Window 568: [13.14999962 13.47000027 13.19999981 13.31000042 13.68000031] --> Prediction: 14.420000076293944\n",
            "Window 569: [14.42000008 14.07999992 13.51000023 13.75       13.97999954] --> Prediction: 13.720000267028809\n",
            "Window 570: [13.72000027 13.63000011 13.73999977 13.47999954 13.23999977] --> Prediction: 13.010000228881836\n",
            "Window 571: [13.01000023 13.02000046 12.68999958 13.42000008 13.39999962] --> Prediction: 14.130000114440918\n",
            "Window 572: [14.13000011 14.19999981 14.22000027 14.03999996 13.89999962] --> Prediction: 13.510000228881836\n",
            "Window 573: [13.51000023 13.72000027 13.65999985 13.5        13.22000027] --> Prediction: 12.979999542236328\n",
            "Window 574: [12.97999954 12.97999954 13.64000034 13.64000034 13.71000004] --> Prediction: 13.56999969482422\n",
            "Window 575: [13.56999969 13.43000031 13.03999996 13.03999996 13.21000004] --> Prediction: 13.9399995803833\n",
            "Window 576: [13.93999958 14.31999969 14.32999992 14.35000038 14.34000015] --> Prediction: 14.979999542236328\n",
            "Window 577: [14.97999954 15.14000034 15.         15.11999989 15.27000046] --> Prediction: 15.380000114440918\n",
            "Window 578: [15.38000011 15.89999962 15.5        15.22000027 15.94999981] --> Prediction: 16.670000076293945\n",
            "Window 579: [16.67000008 16.46999931 16.42000008 16.75       16.62999916] --> Prediction: 15.9399995803833\n",
            "Window 580: [15.93999958 15.98999977 15.69999981 15.92000008 15.68999958] --> Prediction: 16.799999237060547\n",
            "Window 581: [16.79999924 17.01000023 17.37000084 17.37000084 17.36000061] --> Prediction: 17.229999542236328\n",
            "Window 582: [17.22999954 17.39999962 17.60000038 17.78000069 17.40999985] --> Prediction: 17.979999542236328\n",
            "Window 583: [17.97999954 17.97999954 18.72999954 18.55999947 17.93000031] --> Prediction: 17.239999771118164\n",
            "Window 584: [17.23999977 16.75       16.87000084 17.12999916 16.88999939] --> Prediction: 18.219999313354492\n",
            "Window 585: [18.21999931 18.72999954 18.79999924 18.30999947 18.56999969] --> Prediction: 18.61000061035156\n",
            "Window 586: [18.61000061 18.51000023 18.22999954 17.76000023 17.88999939] --> Prediction: 17.93000030517578\n",
            "Window 587: [17.93000031 18.67000008 18.87999916 18.57999992 19.07999992] --> Prediction: 19.079999923706055\n",
            "Window 588: [19.07999992 19.15999985 19.28000069 19.48999977 19.14999962] --> Prediction: 19.260000228881836\n",
            "Window 589: [19.26000023 18.86000061 17.64999962 17.53000069 17.57999992] --> Prediction: 17.709999084472656\n",
            "Window 590: [17.70999908 17.82999992 17.59000015 17.79999924 17.79000092] --> Prediction: 18.270000457763672\n",
            "Window 591: [18.27000046 18.54999924 18.56999969 18.87000084 18.79000092] --> Prediction: 18.979999542236328\n",
            "Window 592: [18.97999954 19.10000038 19.01000023 19.19000053 19.13999939] --> Prediction: 20.86000061035156\n",
            "Window 593: [20.86000061 20.78000069 20.45999908 20.70999908 20.65999985] --> Prediction: 20.38999938964844\n",
            "Window 594: [20.38999939 21.29000092 21.13999939 21.42000008 21.02000046] --> Prediction: 20.780000686645508\n",
            "Window 595: [20.78000069 21.14999962 20.31999969 20.05999947 19.95999908] --> Prediction: 20.200000762939453\n",
            "Window 596: [20.20000076 19.59000015 20.20000076 19.98999977 20.76000023] --> Prediction: 20.799999237060547\n",
            "Window 597: [20.79999924 21.         20.79000092 20.95000076 20.79000092] --> Prediction: 21.0\n",
            "Window 598: [21.         21.13999939 21.02000046 21.04000092 20.63999939] --> Prediction: 21.079999923706055\n",
            "Window 599: [21.07999992 21.11000061 20.62999916 20.15999985 19.79999924] --> Prediction: 19.93000030517578\n",
            "Window 600: [19.93000031 20.89999962 20.81999969 20.86000061 20.93000031] --> Prediction: 21.709999084472656\n",
            "Window 601: [21.70999908 21.57999992 21.79999924 22.89999962 22.34000015] --> Prediction: 22.190000534057617\n",
            "Window 602: [22.19000053 22.35000038 22.96999931 22.70000076 22.26000023] --> Prediction: 22.049999237060547\n",
            "Window 603: [22.04999924 21.72999954 22.04999924 21.94000053 22.17000008] --> Prediction: 23.18000030517578\n",
            "Window 604: [23.18000031 23.11000061 23.29999924 23.97999954 23.75      ] --> Prediction: 24.290000915527344\n",
            "Window 605: [24.29000092 23.22999954 23.78000069 23.93000031 24.09000015] --> Prediction: 23.979999542236328\n",
            "Window 606: [23.97999954 23.77000046 23.48999977 24.17000008 23.79000092] --> Prediction: 24.770000457763672\n",
            "Window 607: [24.77000046 25.05999947 25.55999947 26.34000015 26.47999954] --> Prediction: 27.030000686645508\n",
            "Window 608: [27.03000069 26.88999939 27.39999962 27.15999985 29.12999916] --> Prediction: 28.200000762939453\n",
            "Window 609: [28.20000076 27.5        26.78000069 25.95999908 25.70999908] --> Prediction: 26.200000762939453\n",
            "Window 610: [26.20000076 26.40999985 24.07999992 23.81999969 24.73999977] --> Prediction: 24.670000076293945\n",
            "Window 611: [24.67000008 24.78000069 24.23999977 24.04999924 24.05999947] --> Prediction: 22.75\n",
            "Window 612: [22.75       23.04999924 23.57999992 23.35000038 23.15999985] --> Prediction: 23.530000686645508\n",
            "Window 613: [23.53000069 23.03000069 22.70000076 23.19000053 22.88999939] --> Prediction: 22.36000061035156\n",
            "Window 614: [22.36000061 22.12000084 22.20999908 22.34000015 23.12999916] --> Prediction: 22.780000686645508\n",
            "Window 615: [22.78000069 23.12000084 23.5        23.17000008 22.5       ] --> Prediction: 22.350000381469727\n",
            "Window 616: [22.35000038 22.36000061 22.67000008 23.57999992 23.39999962] --> Prediction: 23.850000381469727\n",
            "Window 617: [23.85000038 23.93000031 23.56999969 23.73999977 24.43000031] --> Prediction: 24.1299991607666\n",
            "Window 618: [24.12999916 23.62000084 23.26000023 22.81999969 22.47999954] --> Prediction: 22.86000061035156\n",
            "Window 619: [22.86000061 22.11000061 22.37000084 23.14999962 23.31999969] --> Prediction: 23.13999938964844\n",
            "Window 620: [23.13999939 22.94000053 22.37000084 21.90999985 20.90999985] --> Prediction: 21.1200008392334\n",
            "Window 621: [21.12000084 21.37000084 21.26000023 21.5        21.69000053] --> Prediction: 21.6200008392334\n",
            "Window 622: [21.62000084 22.25       21.95999908 21.76000023 21.23999977] --> Prediction: 20.93000030517578\n",
            "Window 623: [20.93000031 21.         21.36000061 21.52000046 21.63999939] --> Prediction: 21.649999618530273\n",
            "Window 624: [21.64999962 22.23999977 22.35000038 22.54000092 22.37000084] --> Prediction: 23.31999969482422\n",
            "Window 625: [23.31999969 23.63999939 23.87999916 23.36000061 23.42000008] --> Prediction: 22.8700008392334\n",
            "Window 626: [22.87000084 23.21999931 23.96999931 23.68000031 23.43000031] --> Prediction: 23.299999237060547\n",
            "Window 627: [23.29999924 23.70999908 23.70000076 23.11000061 22.95000076] --> Prediction: 22.290000915527344\n",
            "Window 628: [22.29000092 22.13999939 22.10000038 22.12999916 21.53000069] --> Prediction: 21.36000061035156\n",
            "Window 629: [21.36000061 21.87999916 21.17000008 21.38999939 20.93000031] --> Prediction: 20.540000915527344\n",
            "Window 630: [20.54000092 20.70999908 20.5        20.79999924 20.92000008] --> Prediction: 21.239999771118164\n",
            "Window 631: [21.23999977 20.73999977 21.12000084 20.61000061 19.93000031] --> Prediction: 20.049999237060547\n",
            "Window 632: [20.04999924 20.45999908 18.29000092 17.79000092 17.86000061] --> Prediction: 18.229999542236328\n",
            "Window 633: [18.22999954 18.68000031 18.98999977 19.10000038 18.87999916] --> Prediction: 19.18000030517578\n",
            "Window 634: [19.18000031 18.96999931 19.31999969 19.17000008 19.46999931] --> Prediction: 19.030000686645508\n",
            "Window 635: [19.03000069 18.76000023 19.09000015 19.29999924 18.75      ] --> Prediction: 20.25\n",
            "Window 636: [20.25       20.35000038 19.55999947 19.59000015 19.15999985] --> Prediction: 19.299999237060547\n",
            "Window 637: [19.29999924 19.64999962 18.95999908 18.89999962 18.39999962] --> Prediction: 18.040000915527344\n",
            "Window 638: [18.04000092 18.06999969 18.30999947 18.10000038 18.93000031] --> Prediction: 18.959999084472656\n",
            "Window 639: [18.95999908 19.10000038 19.53000069 19.12999916 18.78000069] --> Prediction: 18.979999542236328\n",
            "Window 640: [18.97999954 19.15999985 18.86000061 18.59000015 18.47999954] --> Prediction: 18.649999618530273\n",
            "Window 641: [18.64999962 18.70000076 18.45000076 18.62999916 18.27000046] --> Prediction: 18.059999465942383\n",
            "Window 642: [18.05999947 18.11000061 18.54999924 18.95000076 19.20999908] --> Prediction: 19.260000228881836\n",
            "Window 643: [19.26000023 19.29000092 19.28000069 19.52000046 19.96999931] --> Prediction: 19.969999313354492\n",
            "Window 644: [19.96999931 19.75       18.44000053 18.73999977 19.26000023] --> Prediction: 19.549999237060547\n",
            "Window 645: [19.54999924 19.37999916 19.54000092 19.52000046 19.01000023] --> Prediction: 18.940000534057617\n",
            "Window 646: [18.94000053 18.75       19.14999962 19.20000076 19.43000031] --> Prediction: 19.81999969482422\n",
            "Window 647: [19.81999969 19.72999954 19.79999924 19.39999962 19.42000008] --> Prediction: 19.270000457763672\n",
            "Window 648: [19.27000046 19.28000069 19.39999962 19.39999962 18.98999977] --> Prediction: 19.299999237060547\n",
            "Window 649: [19.29999924 19.26000023 19.30999947 19.42000008 19.31999969] --> Prediction: 19.31999969482422\n",
            "Window 650: [19.31999969 18.55999947 18.56999969 18.85000038 18.71999931] --> Prediction: 18.719999313354492\n",
            "Window 651: [18.71999931 18.63999939 18.93000031 18.78000069 18.87999916] --> Prediction: 17.75\n",
            "Window 652: [17.75       17.51000023 17.69000053 18.18000031 17.89999962] --> Prediction: 18.040000915527344\n",
            "Window 653: [18.04000092 18.12999916 18.14999962 17.52000046 17.89999962] --> Prediction: 18.15999984741211\n",
            "Window 654: [18.15999985 18.23999977 17.62999916 17.57999992 17.70000076] --> Prediction: 17.969999313354492\n",
            "Window 655: [17.96999931 17.92000008 17.70999908 17.45000076 17.29999924] --> Prediction: 17.420000076293945\n",
            "Window 656: [17.42000008 17.5        17.73999977 17.79999924 18.04000092] --> Prediction: 18.239999771118164\n",
            "Window 657: [18.23999977 18.12000084 18.53000069 18.70999908 18.45000076] --> Prediction: 18.540000915527344\n",
            "Window 658: [18.54000092 18.25       18.06999969 18.03000069 17.79999924] --> Prediction: 17.889999389648438\n",
            "Window 659: [17.88999939 17.75       18.03000069 17.88999939 17.70000076] --> Prediction: 17.670000076293945\n",
            "Window 660: [17.67000008 17.81999969 17.77000046 18.14999962 17.89999962] --> Prediction: 17.989999771118164\n",
            "Window 661: [17.98999977 18.23999977 18.         17.80999947 17.20000076] --> Prediction: 17.020000457763672\n",
            "Window 662: [17.02000046 17.18000031 17.19000053 17.68000031 17.43000031] --> Prediction: 17.479999542236328\n",
            "Window 663: [17.47999954 17.28000069 17.25       17.13999939 17.27000046] --> Prediction: 17.260000228881836\n",
            "Window 664: [17.26000023 17.30999947 17.64999962 18.         18.02000046] --> Prediction: 18.209999084472656\n",
            "Window 665: [18.20999908 18.20999908 18.54999924 18.70000076 18.88999939] --> Prediction: 19.09000015258789\n",
            "Window 666: [19.09000015 19.05999947 19.23999977 19.37999916 19.46999931] --> Prediction: 19.549999237060547\n",
            "Window 667: [19.54999924 20.         19.62000084 19.89999962 19.79000092] --> Prediction: 19.3799991607666\n",
            "Window 668: [19.37999916 19.40999985 19.40999985 19.46999931 19.23999977] --> Prediction: 19.299999237060547\n",
            "Window 669: [19.29999924 19.18000031 19.31999969 19.53000069 19.53000069] --> Prediction: 19.600000381469727\n",
            "Window 670: [19.60000038 19.77000046 19.79999924 19.78000069 19.29999924] --> Prediction: 19.030000686645508\n",
            "Window 671: [19.03000069 19.15999985 19.36000061 19.07999992 18.98999977] --> Prediction: 19.540000915527344\n",
            "Window 672: [19.54000092 19.78000069 19.96999931 19.94000053 19.88999939] --> Prediction: 19.649999618530273\n",
            "Window 673: [19.64999962 20.17000008 20.12000084 19.55999947 19.31999969] --> Prediction: 18.850000381469727\n",
            "Window 674: [18.85000038 19.05999947 19.18000031 19.29999924 19.14999962] --> Prediction: 19.260000228881836\n",
            "Window 675: [19.26000023 19.48999977 19.54000092 19.43000031 19.29999924] --> Prediction: 19.25\n",
            "Window 676: [19.25       19.61000061 18.25       18.05999947 17.79999924] --> Prediction: 17.709999084472656\n",
            "Window 677: [17.70999908 17.62999916 17.84000015 17.65999985 17.81999969] --> Prediction: 17.690000534057617\n",
            "Window 678: [17.69000053 17.76000023 17.52000046 17.47999954 17.39999962] --> Prediction: 17.639999389648438\n",
            "Window 679: [17.63999939 17.51000023 17.62000084 17.64999962 17.71999931] --> Prediction: 18.479999542236328\n",
            "Window 680: [18.47999954 18.25       17.84000015 18.03000069 18.42000008] --> Prediction: 18.170000076293945\n",
            "Window 681: [18.17000008 17.96999931 17.85000038 18.11000061 18.04999924] --> Prediction: 17.920000076293945\n",
            "Window 682: [17.92000008 17.71999931 17.92000008 17.86000061 17.92000008] --> Prediction: 17.739999771118164\n",
            "Window 683: [17.73999977 17.67000008 17.5        17.72999954 17.62999916] --> Prediction: 17.489999771118164\n",
            "Window 684: [17.48999977 17.19000053 17.43000031 17.29999924 17.27000046] --> Prediction: 17.170000076293945\n",
            "Window 685: [17.17000008 16.97999954 17.20000076 16.93000031 17.03000069] --> Prediction: 17.15999984741211\n",
            "Window 686: [17.15999985 17.12000084 17.10000038 17.04999924 17.13999939] --> Prediction: 17.450000762939453\n",
            "Window 687: [17.45000076 17.47999954 17.62999916 17.51000023 17.87000084] --> Prediction: 17.850000381469727\n",
            "Window 688: [17.85000038 17.86000061 17.75       17.14999962 17.46999931] --> Prediction: 17.350000381469727\n",
            "Window 689: [17.35000038 17.27000046 17.21999931 17.37000084 17.02000046] --> Prediction: 17.479999542236328\n",
            "Window 690: [17.47999954 17.51000023 17.54000092 17.69000053 17.63999939] --> Prediction: 17.5\n",
            "Window 691: [17.5        17.55999947 17.78000069 17.63999939 17.54999924] --> Prediction: 17.520000457763672\n",
            "Window 692: [17.52000046 17.5        17.69000053 17.76000023 17.52000046] --> Prediction: 17.469999313354492\n",
            "Window 693: [17.46999931 17.30999947 17.20999908 17.29000092 17.35000038] --> Prediction: 19.059999465942383\n",
            "Window 694: [19.05999947 18.96999931 19.39999962 19.20000076 18.92000008] --> Prediction: 18.15999984741211\n",
            "Window 695: [18.15999985 18.32999992 18.56999969 18.57999992 18.78000069] --> Prediction: 18.88999938964844\n",
            "Window 696: [18.88999939 18.56999969 18.57999992 18.37000084 18.14999962] --> Prediction: 17.829999923706055\n",
            "Window 697: [17.82999992 18.09000015 19.39999962 19.54999924 19.76000023] --> Prediction: 19.549999237060547\n",
            "Window 698: [19.54999924 19.70000076 19.94000053 19.97999954 19.86000061] --> Prediction: 19.969999313354492\n",
            "Window 699: [19.96999931 20.23999977 21.05999947 20.87999916 21.04000092] --> Prediction: 21.049999237060547\n",
            "Window 700: [21.04999924 20.87000084 20.86000061 20.44000053 20.81999969] --> Prediction: 20.86000061035156\n",
            "Window 701: [20.86000061 21.25       21.44000053 21.25       21.62000084] --> Prediction: 21.68000030517578\n",
            "Window 702: [21.68000031 21.40999985 21.42000008 21.40999985 21.36000061] --> Prediction: 21.690000534057617\n",
            "Window 703: [21.69000053 21.32999992 21.56999969 21.96999931 21.67000008] --> Prediction: 21.59000015258789\n",
            "Window 704: [21.59000015 21.55999947 21.69000053 21.18000031 20.80999947] --> Prediction: 20.86000061035156\n",
            "Window 705: [20.86000061 21.46999931 21.26000023 21.03000069 20.68000031] --> Prediction: 20.290000915527344\n",
            "Window 706: [20.29000092 20.46999931 20.72999954 20.97999954 20.95000076] --> Prediction: 20.959999084472656\n",
            "Window 707: [20.95999908 21.38999939 21.48999977 21.86000061 21.75      ] --> Prediction: 21.760000228881836\n",
            "Window 708: [21.76000023 21.68000031 20.75       20.04999924 20.34000015] --> Prediction: 20.559999465942383\n",
            "Window 709: [20.55999947 20.20999908 20.18000031 20.29000092 20.87000084] --> Prediction: 20.600000381469727\n",
            "Window 710: [20.60000038 20.37000084 20.48999977 20.52000046 20.30999947] --> Prediction: 19.8799991607666\n",
            "Window 711: [19.87999916 20.17000008 19.90999985 19.88999939 19.96999931] --> Prediction: 19.479999542236328\n",
            "Window 712: [19.47999954 19.36000061 19.61000061 20.21999931 19.97999954] --> Prediction: 19.81999969482422\n",
            "Window 713: [19.81999969 19.72999954 20.06999969 19.69000053 19.61000061] --> Prediction: 19.600000381469727\n",
            "Window 714: [19.60000038 19.29999924 19.37999916 19.90999985 19.53000069] --> Prediction: 18.969999313354492\n",
            "Window 715: [18.96999931 18.69000053 18.26000023 18.02000046 17.94000053] --> Prediction: 17.969999313354492\n",
            "Window 716: [17.96999931 17.87999916 18.         17.87999916 17.45999908] --> Prediction: 17.950000762939453\n",
            "Window 717: [17.95000076 18.06999969 17.94000053 17.69000053 18.07999992] --> Prediction: 17.8799991607666\n",
            "Window 718: [17.87999916 17.47999954 17.47999954 17.55999947 17.23999977] --> Prediction: 17.40999984741211\n",
            "Window 719: [17.40999985 17.29000092 19.78000069 19.55999947 19.54000092] --> Prediction: 20.09000015258789\n",
            "Window 720: [20.09000015 20.64999962 21.10000038 20.85000038 20.86000061] --> Prediction: 20.90999984741211\n",
            "Window 721: [20.90999985 21.23999977 21.04999924 21.09000015 21.04999924] --> Prediction: 21.40999984741211\n",
            "Window 722: [21.40999985 21.68000031 21.67000008 21.98999977 22.27000046] --> Prediction: 21.959999084472656\n",
            "Window 723: [21.95999908 22.64999962 22.64999962 22.70000076 22.71999931] --> Prediction: 22.84000015258789\n",
            "Window 724: [22.84000015 22.76000023 23.27000046 23.01000023 22.87999916] --> Prediction: 23.229999542236328\n",
            "Window 725: [23.22999954 23.5        23.35000038 23.47999954 22.97999954] --> Prediction: 22.979999542236328\n",
            "Window 726: [22.97999954 23.40999985 23.93000031 23.89999962 24.09000015] --> Prediction: 24.309999465942383\n",
            "Window 727: [24.30999947 24.32999992 24.39999962 24.45000076 24.53000069] --> Prediction: 24.59000015258789\n",
            "Window 728: [24.59000015 24.47999954 24.18000031 24.15999985 24.54999924] --> Prediction: 24.43000030517578\n",
            "Window 729: [24.43000031 24.34000015 24.29000092 24.19000053 23.71999931] --> Prediction: 23.899999618530273\n",
            "Window 730: [23.89999962 24.12999916 24.10000038 24.04999924 23.77000046] --> Prediction: 24.68000030517578\n",
            "Window 731: [24.68000031 24.84000015 25.10000038 26.70999908 26.73999977] --> Prediction: 26.68000030517578\n",
            "Window 732: [26.68000031 26.63999939 26.60000038 27.14999962 26.93000031] --> Prediction: 25.799999237060547\n",
            "Window 733: [25.79999924 27.03000069 27.07999992 26.90999985 26.69000053] --> Prediction: 27.25\n",
            "Window 734: [27.25       27.04000092 27.09000015 26.87999916 26.97999954] --> Prediction: 27.11000061035156\n",
            "Window 735: [27.11000061 27.07999992 27.25       27.30999947 27.55999947] --> Prediction: 27.61000061035156\n",
            "Window 736: [27.61000061 27.62999916 27.38999939 27.29000092 26.93000031] --> Prediction: 28.6299991607666\n",
            "Window 737: [28.62999916 28.46999931 28.68000031 28.69000053 28.92000008] --> Prediction: 26.530000686645508\n",
            "Window 738: [26.53000069 26.04000092 26.88999939 26.21999931 26.35000038] --> Prediction: 26.209999084472656\n",
            "Window 739: [26.20999908 26.25       26.62000084 26.59000015 27.13999939] --> Prediction: 27.510000228881836\n",
            "Window 740: [27.51000023 27.28000069 28.09000015 28.13999939 27.70999908] --> Prediction: 27.540000915527344\n",
            "Window 741: [27.54000092 27.18000031 27.45999908 27.55999947 27.52000046] --> Prediction: 27.239999771118164\n",
            "Window 742: [27.23999977 25.70999908 25.94000053 25.85000038 25.29999924] --> Prediction: 25.459999084472656\n",
            "Window 743: [25.45999908 25.95999908 25.87000084 26.14999962 26.07999992] --> Prediction: 26.170000076293945\n",
            "Window 744: [26.17000008 25.5        25.85000038 25.80999947 25.98999977] --> Prediction: 26.299999237060547\n",
            "Window 745: [26.29999924 26.34000015 26.79000092 26.37000084 26.19000053] --> Prediction: 26.34000015258789\n",
            "Window 746: [26.34000015 25.93000031 25.70000076 25.43000031 25.53000069] --> Prediction: 26.200000762939453\n",
            "Window 747: [26.20000076 25.98999977 25.79000092 25.96999931 26.68000031] --> Prediction: 26.6200008392334\n",
            "Window 748: [26.62000084 26.84000015 26.87000084 26.68000031 26.98999977] --> Prediction: 26.579999923706055\n",
            "Window 749: [26.57999992 26.32999992 26.78000069 26.54999924 27.03000069] --> Prediction: 26.739999771118164\n",
            "Window 750: [26.73999977 26.86000061 27.67000008 27.70000076 27.90999985] --> Prediction: 27.809999465942383\n",
            "Window 751: [27.80999947 28.36000061 26.51000023 26.29000092 26.62999916] --> Prediction: 26.290000915527344\n",
            "Window 752: [26.29000092 26.12999916 26.47999954 26.28000069 26.20999908] --> Prediction: 26.399999618530273\n",
            "Window 753: [26.39999962 26.37000084 25.96999931 25.39999962 25.52000046] --> Prediction: 27.010000228881836\n",
            "Window 754: [27.01000023 27.20000076 26.60000038 25.85000038 26.47999954] --> Prediction: 26.31999969482422\n",
            "Window 755: [26.31999969 26.05999947 26.53000069 26.82999992 27.38999939] --> Prediction: 27.209999084472656\n",
            "Window 756: [27.20999908 27.29999924 27.20000076 27.31999969 26.92000008] --> Prediction: 27.030000686645508\n",
            "Window 757: [27.03000069 27.14999962 27.27000046 27.85000038 27.85000038] --> Prediction: 28.450000762939453\n",
            "Window 758: [28.45000076 28.30999947 28.76000023 29.79999924 29.88999939] --> Prediction: 29.88999938964844\n",
            "Window 759: [29.88999939 29.72999954 29.44000053 29.94000053 29.59000015] --> Prediction: 30.260000228881836\n",
            "Window 760: [30.26000023 29.76000023 29.90999985 29.67000008 28.96999931] --> Prediction: 29.489999771118164\n",
            "Window 761: [29.48999977 28.90999985 29.77000046 30.12999916 29.45999908] --> Prediction: 29.5\n",
            "Window 762: [29.5        29.69000053 31.68000031 31.39999962 31.38999939] --> Prediction: 30.829999923706055\n",
            "Window 763: [30.82999992 30.26000023 29.92000008 29.29999924 29.98999977] --> Prediction: 29.760000228881836\n",
            "Window 764: [29.76000023 30.10000038 30.26000023 30.27000046 30.72999954] --> Prediction: 31.100000381469727\n",
            "Window 765: [31.10000038 30.40999985 31.         31.43000031 31.92000008] --> Prediction: 31.739999771118164\n",
            "Window 766: [31.73999977 32.15999985 31.78000069 31.51000023 31.55999947] --> Prediction: 31.5\n",
            "Window 767: [31.5        32.04000092 32.09000015 32.20999908 32.29999924] --> Prediction: 31.8799991607666\n",
            "Window 768: [31.87999916 32.43999863 32.99000168 33.22999954 33.13000107] --> Prediction: 32.9900016784668\n",
            "Window 769: [32.99000168 33.00999832 32.45000076 32.15000153 32.65000153] --> Prediction: 32.709999084472656\n",
            "Window 770: [32.70999908 33.08000183 33.27000046 32.79999924 32.91999817] --> Prediction: 32.790000915527344\n",
            "Window 771: [32.79000092 32.29000092 32.45999908 32.68000031 31.5       ] --> Prediction: 31.3700008392334\n",
            "Window 772: [31.37000084 31.54000092 31.26000023 31.18000031 31.89999962] --> Prediction: 32.40999984741211\n",
            "Window 773: [32.40999985 32.61000061 33.06000137 32.18000031 32.50999832] --> Prediction: 33.08000183105469\n",
            "Window 774: [33.08000183 34.08000183 32.75       29.62999916 28.57999992] --> Prediction: 29.11000061035156\n",
            "Window 775: [29.11000061 30.13999939 29.70999908 29.29999924 29.94000053] --> Prediction: 27.5\n",
            "Window 776: [27.5        27.48999977 28.04999924 28.14999962 28.02000046] --> Prediction: 27.56999969482422\n",
            "Window 777: [27.56999969 26.95999908 27.47999954 27.79000092 27.45000076] --> Prediction: 27.65999984741211\n",
            "Window 778: [27.65999985 28.02000046 28.79999924 29.05999947 28.64999962] --> Prediction: 27.950000762939453\n",
            "Window 779: [27.95000076 28.14999962 28.19000053 28.28000069 28.60000038] --> Prediction: 26.1299991607666\n",
            "Window 780: [26.12999916 25.43000031 26.23999977 26.23999977 25.87000084] --> Prediction: 26.290000915527344\n",
            "Window 781: [26.29000092 25.85000038 25.14999962 24.32999992 24.29999924] --> Prediction: 24.100000381469727\n",
            "Window 782: [24.10000038 24.05999947 24.36000061 24.5        24.94000053] --> Prediction: 23.81999969482422\n",
            "Window 783: [23.81999969 23.26000023 23.07999992 23.37999916 23.54000092] --> Prediction: 23.520000457763672\n",
            "Window 784: [23.52000046 23.43000031 24.05999947 23.53000069 23.29999924] --> Prediction: 23.799999237060547\n",
            "Window 785: [23.79999924 24.06999969 24.95000076 24.65999985 24.38999939] --> Prediction: 24.399999618530273\n",
            "Window 786: [24.39999962 24.29000092 24.27000046 23.94000053 24.11000061] --> Prediction: 23.989999771118164\n",
            "Window 787: [23.98999977 25.14999962 25.13999939 24.95000076 24.31999969] --> Prediction: 25.63999938964844\n",
            "Window 788: [25.63999939 25.75       24.78000069 24.18000031 24.07999992] --> Prediction: 24.09000015258789\n",
            "Window 789: [24.09000015 24.97999954 24.95999908 24.22999954 24.38999939] --> Prediction: 23.940000534057617\n",
            "Window 790: [23.94000053 23.95999908 23.53000069 24.04000092 23.37999916] --> Prediction: 23.309999465942383\n",
            "Window 791: [23.30999947 23.11000061 23.82999992 23.88999939 24.51000023] --> Prediction: 24.88999938964844\n",
            "Window 792: [24.88999939 24.92000008 25.44000053 26.03000069 25.60000038] --> Prediction: 25.350000381469727\n",
            "Window 793: [25.35000038 25.51000023 25.63999939 26.67000008 26.75      ] --> Prediction: 26.280000686645508\n",
            "Window 794: [26.28000069 26.32999992 25.78000069 25.70000076 25.48999977] --> Prediction: 25.84000015258789\n",
            "Window 795: [25.84000015 25.88999939 25.75       26.5        26.51000023] --> Prediction: 26.3700008392334\n",
            "Window 796: [26.37000084 25.85000038 25.37000084 25.57999992 25.10000038] --> Prediction: 26.350000381469727\n",
            "Window 797: [26.35000038 26.34000015 26.76000023 27.54000092 26.54000092] --> Prediction: 26.43000030517578\n",
            "Window 798: [26.43000031 26.36000061 25.64999962 25.95999908 26.37000084] --> Prediction: 26.270000457763672\n",
            "Window 799: [26.27000046 25.96999931 25.28000069 25.52000046 24.63999939] --> Prediction: 24.549999237060547\n",
            "Window 800: [24.54999924 24.47999954 24.70000076 23.81999969 23.61000061] --> Prediction: 22.56999969482422\n",
            "Window 801: [22.56999969 22.87999916 21.57999992 22.12999916 21.81999969] --> Prediction: 21.299999237060547\n",
            "Window 802: [21.29999924 21.04000092 21.10000038 21.52000046 21.65999985] --> Prediction: 21.84000015258789\n",
            "Window 803: [21.84000015 21.89999962 22.17000008 21.76000023 22.43000031] --> Prediction: 21.979999542236328\n",
            "Window 804: [21.97999954 22.42000008 22.17000008 21.98999977 21.98999977] --> Prediction: 21.989999771118164\n",
            "Window 805: [21.98999977 22.64999962 23.93000031 23.57999992 24.25      ] --> Prediction: 24.6200008392334\n",
            "Window 806: [24.62000084 24.5        24.30999947 24.67000008 24.90999985] --> Prediction: 24.489999771118164\n",
            "Window 807: [24.48999977 24.23999977 24.22999954 24.22999954 24.70999908] --> Prediction: 24.209999084472656\n",
            "Window 808: [24.20999908 24.11000061 24.37000084 24.65999985 24.04999924] --> Prediction: 23.3700008392334\n",
            "Window 809: [23.37000084 22.96999931 22.98999977 23.04999924 23.45999908] --> Prediction: 22.3799991607666\n",
            "Window 810: [22.37999916 22.79999924 21.79999924 22.79999924 24.29000092] --> Prediction: 23.11000061035156\n",
            "Window 811: [23.11000061 22.72999954 22.79999924 23.47999954 23.81999969] --> Prediction: 21.790000915527344\n",
            "Window 812: [21.79000092 22.55999947 21.95000076 21.20000076 21.25      ] --> Prediction: 20.459999084472656\n",
            "Window 813: [20.45999908 18.84000015 18.34000015 17.19000053 17.22999954] --> Prediction: 19.270000457763672\n",
            "Window 814: [19.27000046 18.54000092 16.56999969 17.75       17.90999985] --> Prediction: 18.959999084472656\n",
            "Window 815: [18.95999908 17.86000061 17.40999985 17.23999977 16.30999947] --> Prediction: 16.09000015258789\n",
            "Window 816: [16.09000015 18.30999947 17.87000084 17.79000092 17.77000046] --> Prediction: 17.200000762939453\n",
            "Window 817: [17.20000076 18.32999992 17.38999939 16.94000053 17.57999992] --> Prediction: 17.56999969482422\n",
            "Window 818: [17.56999969 17.18000031 16.54999924 17.26000023 16.62000084] --> Prediction: 16.209999084472656\n",
            "Window 819: [16.20999908 16.45000076 15.07999992 14.47000027 15.17000008] --> Prediction: 14.960000038146973\n",
            "Window 820: [14.96000004 15.31999969 16.01000023 15.32999992 15.93999958] --> Prediction: 17.25\n",
            "Window 821: [17.25       17.15999985 17.32999992 16.90999985 16.98999977] --> Prediction: 16.84000015258789\n",
            "Window 822: [16.84000015 17.42000008 16.84000015 16.65999985 16.63999939] --> Prediction: 17.110000610351562\n",
            "Window 823: [17.11000061 17.79000092 17.31999969 17.54000092 16.70000076] --> Prediction: 16.399999618530273\n",
            "Window 824: [16.39999962 16.45000076 15.73999977 15.81000042 15.81999969] --> Prediction: 16.299999237060547\n",
            "Window 825: [16.29999924 16.72999954 16.87999916 15.93000031 14.97000027] --> Prediction: 15.3100004196167\n",
            "Window 826: [15.31000042 15.61999989 15.84000015 16.35000038 17.04000092] --> Prediction: 16.850000381469727\n",
            "Window 827: [16.85000038 16.04999924 16.17000008 16.20000076 16.10000038] --> Prediction: 14.359999656677246\n",
            "Window 828: [14.35999966 14.98999977 14.77000046 14.48999977 14.56999969] --> Prediction: 14.31999969482422\n",
            "Window 829: [14.31999969 14.39000034 15.25       14.55000019 14.18000031] --> Prediction: 13.619999885559082\n",
            "Window 830: [13.61999989 14.64000034 15.02000046 15.51000023 15.51000023] --> Prediction: 15.449999809265137\n",
            "Window 831: [15.44999981 16.13999939 16.5        16.22999954 15.90999985] --> Prediction: 16.979999542236328\n",
            "Window 832: [16.97999954 16.68000031 16.56999969 17.30999947 16.95000076] --> Prediction: 16.309999465942383\n",
            "Window 833: [16.30999947 16.77000046 17.45999908 18.13999939 18.15999985] --> Prediction: 17.889999389648438\n",
            "Window 834: [17.88999939 17.93000031 17.55999947 18.07999992 17.98999977] --> Prediction: 17.309999465942383\n",
            "Window 835: [17.30999947 17.69000053 17.44000053 17.62000084 18.42000008] --> Prediction: 18.3700008392334\n",
            "Window 836: [18.37000084 18.67000008 19.25       19.31999969 19.57999992] --> Prediction: 19.5\n",
            "Window 837: [19.5        19.62999916 19.61000061 18.95000076 18.72999954] --> Prediction: 18.61000061035156\n",
            "Window 838: [18.61000061 18.71999931 18.04999924 18.09000015 17.92000008] --> Prediction: 18.719999313354492\n",
            "Window 839: [18.71999931 18.87999916 18.60000038 18.10000038 17.89999962] --> Prediction: 19.5\n",
            "Window 840: [19.5        19.61000061 19.36000061 19.67000008 19.87000084] --> Prediction: 19.8700008392334\n",
            "Window 841: [19.87000084 20.07999992 19.95000076 20.10000038 19.90999985] --> Prediction: 19.36000061035156\n",
            "Window 842: [19.36000061 19.07999992 19.20000076 18.98999977 18.92000008] --> Prediction: 18.40999984741211\n",
            "Window 843: [18.40999985 18.56999969 18.61000061 19.03000069 18.90999985] --> Prediction: 18.530000686645508\n",
            "Window 844: [18.53000069 18.23999977 18.12999916 18.17000008 18.34000015] --> Prediction: 18.56999969482422\n",
            "Window 845: [18.56999969 18.72999954 19.80999947 20.12000084 20.51000023] --> Prediction: 21.149999618530273\n",
            "Window 846: [21.14999962 21.59000015 21.45000076 21.89999962 21.87999916] --> Prediction: 21.84000015258789\n",
            "Window 847: [21.84000015 21.93000031 21.71999931 21.97999954 22.01000023] --> Prediction: 22.56999969482422\n",
            "Window 848: [22.56999969 22.44000053 22.17000008 22.30999947 22.19000053] --> Prediction: 21.63999938964844\n",
            "Window 849: [21.63999939 21.17000008 21.43000031 21.51000023 21.30999947] --> Prediction: 20.729999542236328\n",
            "Window 850: [20.72999954 21.01000023 21.23999977 21.88999939 22.19000053] --> Prediction: 22.059999465942383\n",
            "Window 851: [22.05999947 22.         21.93000031 21.87999916 22.        ] --> Prediction: 21.600000381469727\n",
            "Window 852: [21.60000038 21.17000008 21.54999924 21.48999977 21.84000015] --> Prediction: 22.790000915527344\n",
            "Window 853: [22.79000092 22.97999954 23.36000061 23.38999939 23.39999962] --> Prediction: 23.6299991607666\n",
            "Window 854: [23.62999916 23.40999985 22.79999924 22.64999962 22.62000084] --> Prediction: 23.61000061035156\n",
            "Window 855: [23.61000061 23.29999924 23.54000092 23.09000015 22.67000008] --> Prediction: 22.940000534057617\n",
            "Window 856: [22.94000053 23.35000038 23.61000061 23.67000008 24.03000069] --> Prediction: 23.780000686645508\n",
            "Window 857: [23.78000069 23.88999939 24.37999916 24.37000084 24.02000046] --> Prediction: 24.25\n",
            "Window 858: [24.25       24.11000061 23.95999908 24.18000031 24.17000008] --> Prediction: 23.700000762939453\n",
            "Window 859: [23.70000076 23.54000092 23.02000046 23.52000046 22.80999947] --> Prediction: 23.0\n",
            "Window 860: [23.         22.90999985 23.29000092 23.93000031 23.81999969] --> Prediction: 23.989999771118164\n",
            "Window 861: [23.98999977 23.64999962 23.92000008 23.39999962 23.70999908] --> Prediction: 23.8700008392334\n",
            "Window 862: [23.87000084 24.09000015 24.         23.68000031 23.45999908] --> Prediction: 23.399999618530273\n",
            "Window 863: [23.39999962 23.92000008 23.87000084 23.82999992 24.15999985] --> Prediction: 24.209999084472656\n",
            "Window 864: [24.20999908 23.80999947 23.86000061 23.94000053 23.77000046] --> Prediction: 23.84000015258789\n",
            "Window 865: [23.84000015 23.47999954 23.45000076 23.18000031 23.32999992] --> Prediction: 24.690000534057617\n",
            "Window 866: [24.69000053 24.57999992 24.42000008 24.53000069 24.65999985] --> Prediction: 24.59000015258789\n",
            "Window 867: [24.59000015 24.20000076 24.63999939 24.95000076 24.39999962] --> Prediction: 22.989999771118164\n",
            "Window 868: [22.98999977 22.89999962 23.14999962 22.52000046 22.46999931] --> Prediction: 22.729999542236328\n",
            "Window 869: [22.72999954 23.02000046 23.06999969 23.15999985 23.70000076] --> Prediction: 23.5\n",
            "Window 870: [23.5        23.88999939 23.76000023 23.93000031 23.76000023] --> Prediction: 24.299999237060547\n",
            "Window 871: [24.29999924 24.04999924 24.34000015 24.32999992 24.32999992] --> Prediction: 24.600000381469727\n",
            "Window 872: [24.60000038 24.61000061 24.84000015 24.95000076 25.20999908] --> Prediction: 26.1299991607666\n",
            "Window 873: [26.12999916 26.12999916 25.87000084 25.96999931 25.87999916] --> Prediction: 26.079999923706055\n",
            "Window 874: [26.07999992 26.14999962 26.26000023 26.34000015 26.14999962] --> Prediction: 26.280000686645508\n",
            "Window 875: [26.28000069 26.63999939 26.45000076 26.43000031 26.46999931] --> Prediction: 26.170000076293945\n",
            "Window 876: [26.17000008 26.21999931 26.34000015 26.28000069 26.60000038] --> Prediction: 26.530000686645508\n",
            "Window 877: [26.53000069 26.44000053 26.87999916 27.20999908 26.97999954] --> Prediction: 27.06999969482422\n",
            "Window 878: [27.06999969 27.18000031 27.23999977 27.31999969 27.46999931] --> Prediction: 27.56999969482422\n",
            "Window 879: [27.56999969 27.01000023 27.04000092 27.53000069 26.93000031] --> Prediction: 27.540000915527344\n",
            "Window 880: [27.54000092 26.55999947 26.54999924 25.48999977 24.70999908] --> Prediction: 26.1299991607666\n",
            "Window 881: [26.12999916 25.95999908 26.73999977 25.53000069 24.94000053] --> Prediction: 24.8700008392334\n",
            "Window 882: [24.87000084 24.36000061 24.26000023 23.30999947 23.45999908] --> Prediction: 23.3700008392334\n",
            "Window 883: [23.37000084 23.30999947 22.88999939 23.67000008 23.15999985] --> Prediction: 22.760000228881836\n",
            "Window 884: [22.76000023 22.95999908 22.78000069 22.77000046 22.90999985] --> Prediction: 22.760000228881836\n",
            "Window 885: [22.76000023 23.32999992 23.29000092 23.17000008 23.48999977] --> Prediction: 23.34000015258789\n",
            "Window 886: [23.34000015 22.96999931 22.86000061 22.56999969 22.18000031] --> Prediction: 22.420000076293945\n",
            "Window 887: [22.42000008 21.62000084 21.30999947 21.26000023 21.12999916] --> Prediction: 22.86000061035156\n",
            "Window 888: [22.86000061 23.09000015 23.73999977 23.92000008 22.75      ] --> Prediction: 22.729999542236328\n",
            "Window 889: [22.72999954 23.04999924 22.55999947 23.27000046 23.35000038] --> Prediction: 23.61000061035156\n",
            "Window 890: [23.61000061 23.29999924 23.38999939 23.20999908 23.06999969] --> Prediction: 23.799999237060547\n",
            "Window 891: [23.79999924 23.81999969 24.13999939 24.17000008 24.06999969] --> Prediction: 24.770000457763672\n",
            "Window 892: [24.77000046 24.30999947 23.72999954 21.36000061 21.36000061] --> Prediction: 21.90999984741211\n",
            "Window 893: [21.90999985 22.04999924 22.40999985 22.21999931 22.22999954] --> Prediction: 21.68000030517578\n",
            "Window 894: [21.68000031 21.12999916 21.20999908 20.70000076 20.80999947] --> Prediction: 20.31999969482422\n",
            "Window 895: [20.31999969 19.98999977 20.26000023 20.52000046 21.04000092] --> Prediction: 21.260000228881836\n",
            "Window 896: [21.26000023 21.45000076 21.59000015 21.93000031 21.86000061] --> Prediction: 21.75\n",
            "Window 897: [21.75       21.63999939 21.67000008 21.53000069 22.09000015] --> Prediction: 22.11000061035156\n",
            "Window 898: [22.11000061 21.86000061 21.87000084 21.89999962 21.90999985] --> Prediction: 21.760000228881836\n",
            "Window 899: [21.76000023 21.98999977 22.29999924 22.38999939 22.47999954] --> Prediction: 22.469999313354492\n",
            "Window 900: [22.46999931 22.62000084 23.18000031 23.06999969 23.36000061] --> Prediction: 23.299999237060547\n",
            "Window 901: [23.29999924 22.96999931 23.39999962 23.26000023 23.47999954] --> Prediction: 23.61000061035156\n",
            "Window 902: [23.61000061 23.39999962 23.29000092 23.19000053 22.86000061] --> Prediction: 22.920000076293945\n",
            "Window 903: [22.92000008 23.17000008 23.70999908 24.20999908 24.26000023] --> Prediction: 24.38999938964844\n",
            "Window 904: [24.38999939 24.35000038 24.48999977 20.52000046 20.14999962] --> Prediction: 19.950000762939453\n",
            "Window 905: [19.95000076 19.44000053 19.40999985 19.61000061 19.61000061] --> Prediction: 19.440000534057617\n",
            "Window 906: [19.44000053 19.15999985 19.31999969 19.21999931 19.06999969] --> Prediction: 19.43000030517578\n",
            "Window 907: [19.43000031 19.38999939 19.35000038 19.70000076 19.70000076] --> Prediction: 19.579999923706055\n",
            "Window 908: [19.57999992 19.54000092 19.46999931 19.75       19.54999924] --> Prediction: 20.15999984741211\n",
            "Window 909: [20.15999985 20.35000038 20.25       20.22999954 20.22999954] --> Prediction: 20.489999771118164\n",
            "Window 910: [20.48999977 20.52000046 20.77000046 20.95000076 20.96999931] --> Prediction: 20.790000915527344\n",
            "Window 911: [20.79000092 20.87999916 21.12000084 21.07999992 21.20999908] --> Prediction: 21.170000076293945\n",
            "Window 912: [21.17000008 21.54000092 21.42000008 21.44000053 20.93000031] --> Prediction: 21.149999618530273\n",
            "Window 913: [21.14999962 21.46999931 21.62000084 21.90999985 22.04999924] --> Prediction: 22.030000686645508\n",
            "Window 914: [22.03000069 21.98999977 22.04000092 18.92000008 18.70000076] --> Prediction: 18.809999465942383\n",
            "Window 915: [18.80999947 18.67000008 18.57999992 18.68000031 18.85000038] --> Prediction: 18.559999465942383\n",
            "Window 916: [18.55999947 18.55999947 18.5        18.53000069 18.39999962] --> Prediction: 18.200000762939453\n",
            "Window 917: [18.20000076 18.21999931 18.12000084 17.92000008 17.95000076] --> Prediction: 17.850000381469727\n",
            "Window 918: [17.85000038 17.38999939 17.04999924 17.         17.13999939] --> Prediction: 17.389999389648438\n",
            "Window 919: [17.38999939 17.45000076 17.57999992 17.36000061 17.28000069] --> Prediction: 17.190000534057617\n",
            "Window 920: [17.19000053 17.44000053 17.32999992 17.14999962 17.04000092] --> Prediction: 17.059999465942383\n",
            "Window 921: [17.05999947 17.21999931 18.06999969 17.90999985 17.64999962] --> Prediction: 17.469999313354492\n",
            "Window 922: [17.46999931 17.44000053 17.25       17.17000008 17.03000069] --> Prediction: 17.100000381469727\n",
            "Window 923: [17.10000038 17.52000046 17.19000053 17.29000092 17.52000046] --> Prediction: 17.579999923706055\n",
            "Window 924: [17.57999992 17.40999985 17.46999931 17.47999954 17.55999947] --> Prediction: 17.600000381469727\n",
            "Window 925: [17.60000038 17.79000092 17.78000069 16.93000031 16.87999916] --> Prediction: 16.600000381469727\n",
            "Window 926: [16.60000038 16.63999939 16.64999962 16.65999985 16.53000069] --> Prediction: 16.350000381469727\n",
            "Window 927: [16.35000038 16.27000046 16.19000053 16.25       16.45999908] --> Prediction: 15.989999771118164\n",
            "Window 928: [15.98999977 15.51000023 15.30000019 15.31000042 15.11999989] --> Prediction: 15.0600004196167\n",
            "Window 929: [15.06000042 15.07999992 14.84000015 15.05000019 14.97000027] --> Prediction: 15.140000343322754\n",
            "Window 930: [15.14000034 15.51000023 15.35999966 15.47000027 14.93000031] --> Prediction: 15.050000190734863\n",
            "Window 931: [15.05000019 15.13000011 15.34000015 15.60999966 15.85999966] --> Prediction: 15.43000030517578\n",
            "Window 932: [15.43000031 15.60000038 15.56999969 15.43000031 15.59000015] --> Prediction: 15.4399995803833\n",
            "Window 933: [15.43999958 15.65999985 15.81999969 16.35000038 16.45999908] --> Prediction: 16.280000686645508\n",
            "Window 934: [16.28000069 16.29000092 15.68999958 16.01000023 15.97000027] --> Prediction: 15.829999923706056\n",
            "Window 935: [15.82999992 15.46000004 15.48999977 14.81999969 14.93999958] --> Prediction: 13.9399995803833\n",
            "Window 936: [13.93999958 14.06000042 13.72999954 15.92000008 15.98999977] --> Prediction: 16.030000686645508\n",
            "Window 937: [16.03000069 16.         15.85000038 15.01000023 15.07999992] --> Prediction: 15.010000228881836\n",
            "Window 938: [15.01000023 15.43999958 15.46000004 15.07999992 15.31999969] --> Prediction: 15.739999771118164\n",
            "Window 939: [15.73999977 15.63000011 15.67000008 15.81999969 15.40999985] --> Prediction: 16.09000015258789\n",
            "Window 940: [16.09000015 16.35000038 16.32999992 16.67000008 16.62000084] --> Prediction: 16.510000228881836\n",
            "Window 941: [16.51000023 16.53000069 15.84000015 15.32999992 15.60999966] --> Prediction: 15.989999771118164\n",
            "Window 942: [15.98999977 16.06999969 15.84000015 15.85000038 15.5       ] --> Prediction: 15.1899995803833\n",
            "Window 943: [15.18999958 15.57999992 16.15999985 16.75       16.65999985] --> Prediction: 17.09000015258789\n",
            "Window 944: [17.09000015 16.98999977 17.25       17.42000008 17.54999924] --> Prediction: 17.170000076293945\n",
            "Window 945: [17.17000008 17.51000023 17.15999985 17.19000053 17.37999916] --> Prediction: 17.540000915527344\n",
            "Window 946: [17.54000092 17.62000084 17.61000061 18.44000053 18.55999947] --> Prediction: 18.530000686645508\n",
            "Window 947: [18.53000069 17.59000015 17.85000038 18.18000031 18.03000069] --> Prediction: 18.010000228881836\n",
            "Window 948: [18.01000023 18.30999947 17.61000061 18.61000061 19.02000046] --> Prediction: 18.940000534057617\n",
            "Window 949: [18.94000053 19.12000084 18.79999924 18.47999954 18.42000008] --> Prediction: 18.010000228881836\n",
            "Window 950: [18.01000023 17.68000031 18.63999939 18.57999992 18.54999924] --> Prediction: 18.790000915527344\n",
            "Window 951: [18.79000092 18.72999954 18.98999977 18.56999969 18.87999916] --> Prediction: 18.530000686645508\n",
            "Window 952: [18.53000069 18.46999931 17.97999954 18.04000092 17.94000053] --> Prediction: 17.690000534057617\n",
            "Window 953: [17.69000053 18.40999985 17.92000008 18.12999916 18.46999931] --> Prediction: 18.969999313354492\n",
            "Window 954: [18.96999931 18.82999992 19.06999969 19.14999962 19.05999947] --> Prediction: 19.829999923706055\n",
            "Window 955: [19.82999992 19.81999969 19.82999992 19.82999992 19.55999947] --> Prediction: 19.559999465942383\n",
            "Window 956: [19.55999947 19.64999962 19.79999924 19.79999924 20.09000015] --> Prediction: 20.190000534057617\n",
            "Window 957: [20.19000053 20.20000076 20.43000031 20.         19.89999962] --> Prediction: 20.030000686645508\n",
            "Window 958: [20.03000069 20.06999969 19.90999985 20.19000053 20.29000092] --> Prediction: 20.170000076293945\n",
            "Window 959: [20.17000008 20.20000076 19.87999916 19.87999916 19.76000023] --> Prediction: 19.600000381469727\n",
            "Window 960: [19.60000038 19.47999954 19.40999985 19.68000031 19.79999924] --> Prediction: 19.829999923706055\n",
            "Window 961: [19.82999992 20.21999931 20.20000076 19.90999985 20.03000069] --> Prediction: 20.13999938964844\n",
            "Window 962: [20.13999939 20.56999969 20.5        20.37999916 20.53000069] --> Prediction: 20.84000015258789\n",
            "Window 963: [20.84000015 20.90999985 21.07999992 21.03000069 21.14999962] --> Prediction: 19.959999084472656\n",
            "Window 964: [19.95999908 19.54999924 20.02000046 20.05999947 19.85000038] --> Prediction: 19.729999542236328\n",
            "Window 965: [19.72999954 20.07999992 20.05999947 19.90999985 19.90999985] --> Prediction: 19.68000030517578\n",
            "Window 966: [19.68000031 19.42000008 19.48999977 19.60000038 19.97999954] --> Prediction: 20.15999984741211\n",
            "Window 967: [20.15999985 19.97999954 19.84000015 19.71999931 19.12000084] --> Prediction: 19.079999923706055\n",
            "Window 968: [19.07999992 18.70999908 18.78000069 16.80999947 16.51000023] --> Prediction: 16.709999084472656\n",
            "Window 969: [16.70999908 16.54000092 16.69000053 16.54999924 16.46999931] --> Prediction: 16.670000076293945\n",
            "Window 970: [16.67000008 16.72999954 16.69000053 16.38999939 16.32999992] --> Prediction: 16.110000610351562\n",
            "Window 971: [16.11000061 16.12000084 16.69000053 16.57999992 16.72999954] --> Prediction: 16.479999542236328\n",
            "Window 972: [16.47999954 16.79000092 16.65999985 16.92000008 17.10000038] --> Prediction: 17.139999389648438\n",
            "Window 973: [17.13999939 17.18000031 17.51000023 16.93000031 17.12999916] --> Prediction: 16.940000534057617\n",
            "Window 974: [16.94000053 16.81999969 16.72999954 16.47999954 17.17000008] --> Prediction: 16.649999618530273\n",
            "Window 975: [16.64999962 16.40999985 16.37999916 15.97999954 16.30999947] --> Prediction: 16.190000534057617\n",
            "Window 976: [16.19000053 16.22999954 16.70000076 16.68000031 16.36000061] --> Prediction: 16.06999969482422\n",
            "Window 977: [16.06999969 15.11999989 15.42000008 15.38000011 15.68999958] --> Prediction: 15.869999885559082\n",
            "Window 978: [15.86999989 15.94999981 15.97999954 15.73999977 16.35000038] --> Prediction: 16.690000534057617\n",
            "Window 979: [16.69000053 17.13999939 17.15999985 17.70000076 17.54000092] --> Prediction: 17.34000015258789\n",
            "Window 980: [17.34000015 17.17000008 17.35000038 19.02000046 19.05999947] --> Prediction: 18.940000534057617\n",
            "Window 981: [18.94000053 19.15999985 19.21999931 19.12999916 19.20000076] --> Prediction: 19.36000061035156\n",
            "Window 982: [19.36000061 19.21999931 19.20000076 18.89999962 19.07999992] --> Prediction: 19.149999618530273\n",
            "Window 983: [19.14999962 19.04000092 19.07999992 19.36000061 19.48999977] --> Prediction: 19.15999984741211\n",
            "Window 984: [19.15999985 19.04999924 19.12000084 19.11000061 18.89999962] --> Prediction: 18.809999465942383\n",
            "Window 985: [18.80999947 18.67000008 18.57999992 18.79999924 19.10000038] --> Prediction: 19.040000915527344\n",
            "Window 986: [19.04000092 18.87000084 18.93000031 18.89999962 18.86000061] --> Prediction: 18.899999618530273\n",
            "Window 987: [18.89999962 18.79999924 18.30999947 18.26000023 18.40999985] --> Prediction: 18.549999237060547\n",
            "Window 988: [18.54999924 18.85000038 18.70999908 18.61000061 18.04000092] --> Prediction: 18.190000534057617\n",
            "Window 989: [18.19000053 18.01000023 17.37999916 17.20000076 17.29000092] --> Prediction: 17.399999618530273\n",
            "Window 990: [17.39999962 17.47999954 17.20999908 16.82999992 16.81999969] --> Prediction: 16.860000610351562\n",
            "Window 991: [16.86000061 16.85000038 17.65999985 17.94000053 17.98999977] --> Prediction: 19.059999465942383\n",
            "Window 992: [19.05999947 18.95999908 18.82999992 19.01000023 18.90999985] --> Prediction: 19.030000686645508\n",
            "Window 993: [19.03000069 19.17000008 19.20999908 19.47999954 19.34000015] --> Prediction: 19.790000915527344\n",
            "Window 994: [19.79000092 19.78000069 19.72999954 19.73999977 19.86000061] --> Prediction: 20.11000061035156\n",
            "Window 995: [20.11000061 20.37999916 20.27000046 20.23999977 19.95999908] --> Prediction: 20.290000915527344\n",
            "Window 996: [20.29000092 20.30999947 20.29999924 20.44000053 20.47999954] --> Prediction: 20.969999313354492\n",
            "Window 997: [20.96999931 20.97999954 21.03000069 20.95000076 21.02000046] --> Prediction: 21.059999465942383\n",
            "Window 998: [21.05999947 20.78000069 20.57999992 20.56999969 20.82999992] --> Prediction: 20.81999969482422\n",
            "Window 999: [20.81999969 21.07999992 21.19000053 21.10000038 21.15999985] --> Prediction: 21.270000457763672\n",
            "Window 1000: [21.27000046 20.96999931 21.13999939 20.98999977 20.98999977] --> Prediction: 20.65999984741211\n",
            "Window 1001: [20.65999985 20.61000061 20.88999939 20.86000061 20.82999992] --> Prediction: 20.739999771118164\n",
            "Window 1002: [20.73999977 21.21999931 21.71999931 21.79999924 21.82999992] --> Prediction: 21.8799991607666\n",
            "Window 1003: [21.87999916 21.70000076 21.57999992 21.59000015 21.93000031] --> Prediction: 21.670000076293945\n",
            "Window 1004: [21.67000008 21.52000046 21.67000008 20.84000015 20.75      ] --> Prediction: 20.829999923706055\n",
            "Window 1005: [20.82999992 21.21999931 21.20000076 21.04000092 20.61000061] --> Prediction: 20.56999969482422\n",
            "Window 1006: [20.56999969 20.96999931 21.46999931 21.69000053 21.54000092] --> Prediction: 21.049999237060547\n",
            "Window 1007: [21.04999924 21.15999985 20.62999916 20.57999992 20.45999908] --> Prediction: 20.59000015258789\n",
            "Window 1008: [20.59000015 20.90999985 20.38999939 20.63999939 20.67000008] --> Prediction: 20.979999542236328\n",
            "Window 1009: [20.97999954 20.92000008 20.37999916 20.72999954 20.82999992] --> Prediction: 20.809999465942383\n",
            "Window 1010: [20.80999947 20.37999916 20.71999931 20.82999992 21.10000038] --> Prediction: 21.270000457763672\n",
            "Window 1011: [21.27000046 21.27000046 21.20999908 23.88999939 24.23999977] --> Prediction: 23.950000762939453\n",
            "Window 1012: [23.95000076 24.01000023 23.34000015 23.51000023 23.53000069] --> Prediction: 24.3799991607666\n",
            "Window 1013: [24.37999916 24.36000061 24.31999969 24.54999924 24.48999977] --> Prediction: 24.36000061035156\n",
            "Window 1014: [24.36000061 24.06999969 23.98999977 24.35000038 24.09000015] --> Prediction: 24.700000762939453\n",
            "Window 1015: [24.70000076 24.81999969 24.68000031 24.44000053 24.47999954] --> Prediction: 24.059999465942383\n",
            "Window 1016: [24.05999947 24.01000023 24.38999939 24.62999916 24.34000015] --> Prediction: 24.6299991607666\n",
            "Window 1017: [24.62999916 25.15999985 25.40999985 25.87000084 25.94000053] --> Prediction: 25.93000030517578\n",
            "Window 1018: [25.93000031 25.70999908 25.71999931 25.86000061 25.81999969] --> Prediction: 25.719999313354492\n",
            "Window 1019: [25.71999931 25.55999947 25.59000015 25.5        25.5       ] --> Prediction: 25.329999923706055\n",
            "Window 1020: [25.32999992 25.67000008 25.59000015 25.88999939 26.19000053] --> Prediction: 26.309999465942383\n",
            "Window 1021: [26.30999947 26.20999908 26.12000084 26.26000023 26.04999924] --> Prediction: 26.34000015258789\n",
            "Window 1022: [26.34000015 26.31999969 26.37999916 24.47999954 24.27000046] --> Prediction: 24.270000457763672\n",
            "Window 1023: [24.27000046 24.31999969 24.06999969 24.01000023 23.86000061] --> Prediction: 23.829999923706055\n",
            "Window 1024: [23.82999992 23.47999954 23.45000076 23.45000076 23.30999947] --> Prediction: 23.920000076293945\n",
            "Window 1025: [23.92000008 24.15999985 24.37999916 24.29000092 24.31999969] --> Prediction: 24.3799991607666\n",
            "Window 1026: [24.37999916 24.37000084 24.79999924 24.61000061 24.51000023] --> Prediction: 24.270000457763672\n",
            "Window 1027: [24.27000046 24.13999939 24.43000031 23.77000046 23.32999992] --> Prediction: 23.43000030517578\n",
            "Window 1028: [23.43000031 23.23999977 23.31999969 23.01000023 23.02000046] --> Prediction: 22.88999938964844\n",
            "Window 1029: [22.88999939 22.63999939 22.5        23.01000023 23.28000069] --> Prediction: 23.34000015258789\n",
            "Window 1030: [23.34000015 23.18000031 23.         22.78000069 22.95999908] --> Prediction: 22.93000030517578\n",
            "Window 1031: [22.93000031 22.64999962 22.26000023 22.37000084 22.45999908] --> Prediction: 22.549999237060547\n",
            "Window 1032: [22.54999924 22.82999992 22.70999908 22.55999947 22.56999969] --> Prediction: 22.579999923706055\n",
            "Window 1033: [22.57999992 23.06999969 23.28000069 23.11000061 23.51000023] --> Prediction: 23.450000762939453\n",
            "Window 1034: [23.45000076 23.72999954 24.         21.37000084 21.54000092] --> Prediction: 21.290000915527344\n",
            "Window 1035: [21.29000092 21.42000008 21.22999954 21.46999931 21.45999908] --> Prediction: 21.09000015258789\n",
            "Window 1036: [21.09000015 21.26000023 21.25       20.90999985 21.28000069] --> Prediction: 21.219999313354492\n",
            "Window 1037: [21.21999931 21.20999908 20.87999916 20.51000023 20.23999977] --> Prediction: 20.68000030517578\n",
            "Window 1038: [20.68000031 20.92000008 21.         21.06999969 21.12999916] --> Prediction: 22.010000228881836\n",
            "Window 1039: [22.01000023 22.30999947 22.29000092 22.09000015 22.21999931] --> Prediction: 22.190000534057617\n",
            "Window 1040: [22.19000053 22.40999985 22.78000069 22.78000069 22.73999977] --> Prediction: 22.0\n",
            "Window 1041: [22.         21.75       21.64999962 21.97999954 21.90999985] --> Prediction: 21.549999237060547\n",
            "Window 1042: [21.54999924 21.79999924 21.97999954 22.48999977 22.67000008] --> Prediction: 22.829999923706055\n",
            "Window 1043: [22.82999992 22.70999908 22.85000038 22.27000046 22.55999947] --> Prediction: 22.1200008392334\n",
            "Window 1044: [22.12000084 21.84000015 21.93000031 21.92000008 21.79999924] --> Prediction: 21.56999969482422\n",
            "Window 1045: [21.56999969 21.81999969 21.87000084 21.81999969 21.72999954] --> Prediction: 21.690000534057617\n",
            "Window 1046: [21.69000053 21.61000061 21.81999969 21.52000046 21.35000038] --> Prediction: 21.510000228881836\n",
            "Window 1047: [21.51000023 21.62999916 21.62999916 21.82999992 21.63999939] --> Prediction: 21.56999969482422\n",
            "Window 1048: [21.56999969 22.34000015 22.31999969 22.02000046 22.32999992] --> Prediction: 22.420000076293945\n",
            "Window 1049: [22.42000008 23.10000038 22.98999977 23.09000015 22.70999908] --> Prediction: 22.850000381469727\n",
            "Window 1050: [22.85000038 22.94000053 23.12000084 22.64999962 22.45999908] --> Prediction: 23.399999618530273\n",
            "Window 1051: [23.39999962 23.52000046 23.5        23.32999992 23.        ] --> Prediction: 23.020000457763672\n",
            "Window 1052: [23.02000046 23.15999985 23.11000061 23.01000023 22.94000053] --> Prediction: 22.959999084472656\n",
            "Window 1053: [22.95999908 22.71999931 22.87000084 23.02000046 23.02000046] --> Prediction: 23.190000534057617\n",
            "Window 1054: [23.19000053 22.86000061 22.80999947 24.18000031 24.37000084] --> Prediction: 24.350000381469727\n",
            "Window 1055: [24.35000038 24.12000084 24.47999954 24.37999916 24.52000046] --> Prediction: 24.780000686645508\n",
            "Window 1056: [24.78000069 24.68000031 24.5        24.70000076 24.82999992] --> Prediction: 24.799999237060547\n",
            "Window 1057: [24.79999924 25.         25.04000092 24.65999985 24.70000076] --> Prediction: 24.530000686645508\n",
            "Window 1058: [24.53000069 24.5        24.62999916 24.70999908 24.82999992] --> Prediction: 24.700000762939453\n",
            "Window 1059: [24.70000076 24.53000069 24.71999931 24.64999962 24.70000076] --> Prediction: 25.229999542236328\n",
            "Window 1060: [25.22999954 25.06999969 25.44000053 25.44000053 25.52000046] --> Prediction: 25.440000534057617\n",
            "Window 1061: [25.44000053 25.67000008 25.97999954 25.62999916 25.90999985] --> Prediction: 25.850000381469727\n",
            "Window 1062: [25.85000038 25.95000076 25.68000031 25.82999992 25.96999931] --> Prediction: 25.920000076293945\n",
            "Window 1063: [25.92000008 25.70999908 25.62999916 25.22999954 25.        ] --> Prediction: 25.170000076293945\n",
            "Window 1064: [25.17000008 24.96999931 24.93000031 24.86000061 25.03000069] --> Prediction: 25.229999542236328\n",
            "Window 1065: [25.22999954 25.14999962 25.20000076 24.54000092 24.43000031] --> Prediction: 24.6299991607666\n",
            "Window 1066: [24.62999916 24.63999939 24.70999908 24.88999939 24.64999962] --> Prediction: 24.700000762939453\n",
            "Window 1067: [24.70000076 24.80999947 24.79999924 24.85000038 24.98999977] --> Prediction: 24.950000762939453\n",
            "Window 1068: [24.95000076 24.86000061 24.93000031 25.18000031 25.15999985] --> Prediction: 25.059999465942383\n",
            "Window 1069: [25.05999947 25.21999931 25.20999908 25.21999931 25.20000076] --> Prediction: 24.969999313354492\n",
            "Window 1070: [24.96999931 24.70000076 24.97999954 24.54000092 25.        ] --> Prediction: 25.1200008392334\n",
            "Window 1071: [25.12000084 25.17000008 25.03000069 25.05999947 25.30999947] --> Prediction: 25.010000228881836\n",
            "Window 1072: [25.01000023 24.63999939 24.65999985 24.19000053 23.34000015] --> Prediction: 22.93000030517578\n",
            "Window 1073: [22.93000031 23.05999947 22.95999908 22.81999969 23.25      ] --> Prediction: 22.93000030517578\n",
            "Window 1074: [22.93000031 23.51000023 23.26000023 23.56999969 23.78000069] --> Prediction: 23.760000228881836\n",
            "Window 1075: [23.76000023 24.06999969 24.10000038 24.07999992 24.46999931] --> Prediction: 24.579999923706055\n",
            "Window 1076: [24.57999992 24.87999916 25.14999962 25.26000023 25.32999992] --> Prediction: 25.149999618530273\n",
            "Window 1077: [25.14999962 25.14999962 25.11000061 25.68000031 26.31999969] --> Prediction: 26.469999313354492\n",
            "Window 1078: [26.46999931 26.60000038 26.59000015 26.80999947 26.87999916] --> Prediction: 27.59000015258789\n",
            "Window 1079: [27.59000015 27.81999969 27.95000076 27.77000046 27.5       ] --> Prediction: 27.229999542236328\n",
            "Window 1080: [27.22999954 27.42000008 26.87000084 26.98999977 26.86000061] --> Prediction: 26.68000030517578\n",
            "Window 1081: [26.68000031 26.59000015 26.80999947 27.64999962 27.77000046] --> Prediction: 27.059999465942383\n",
            "Window 1082: [27.05999947 27.04999924 27.29999924 27.51000023 27.79000092] --> Prediction: 28.049999237060547\n",
            "Window 1083: [28.04999924 28.10000038 27.92000008 27.40999985 27.68000031] --> Prediction: 27.969999313354492\n",
            "Window 1084: [27.96999931 26.89999962 26.80999947 27.21999931 26.37000084] --> Prediction: 26.829999923706055\n",
            "Window 1085: [26.82999992 27.12000084 26.69000053 27.26000023 27.23999977] --> Prediction: 27.1200008392334\n",
            "Window 1086: [27.12000084 27.48999977 26.93000031 29.45999908 29.43000031] --> Prediction: 29.6299991607666\n",
            "Window 1087: [29.62999916 29.62999916 29.48999977 29.90999985 29.51000023] --> Prediction: 30.190000534057617\n",
            "Window 1088: [30.19000053 29.54000092 29.32999992 29.29999924 28.93000031] --> Prediction: 29.36000061035156\n",
            "Window 1089: [29.36000061 28.65999985 28.26000023 28.23999977 27.94000053] --> Prediction: 28.299999237060547\n",
            "Window 1090: [28.29999924 28.14999962 28.14999962 28.26000023 28.44000053] --> Prediction: 28.40999984741211\n",
            "Window 1091: [28.40999985 28.         27.45999908 27.09000015 27.12999916] --> Prediction: 27.219999313354492\n",
            "Window 1092: [27.21999931 27.38999939 27.54999924 27.62999916 28.04000092] --> Prediction: 27.979999542236328\n",
            "Window 1093: [27.97999954 27.80999947 28.25       28.60000038 27.92000008] --> Prediction: 28.479999542236328\n",
            "Window 1094: [28.47999954 28.69000053 28.62000084 28.68000031 28.81999969] --> Prediction: 28.88999938964844\n",
            "Window 1095: [28.88999939 29.31999969 29.04999924 28.82999992 29.12999916] --> Prediction: 29.170000076293945\n",
            "Window 1096: [29.17000008 28.88999939 28.96999931 28.80999947 29.22999954] --> Prediction: 29.209999084472656\n",
            "Window 1097: [29.20999908 29.22999954 29.35000038 29.04999924 29.54999924] --> Prediction: 29.760000228881836\n",
            "Window 1098: [29.76000023 29.73999977 29.62000084 29.43000031 29.26000023] --> Prediction: 29.18000030517578\n",
            "Window 1099: [29.18000031 29.07999992 29.09000015 28.61000061 28.57999992] --> Prediction: 28.280000686645508\n",
            "Window 1100: [28.28000069 28.23999977 28.65999985 28.86000061 28.54000092] --> Prediction: 28.479999542236328\n",
            "Window 1101: [28.47999954 28.70999908 28.93000031 29.20999908 29.03000069] --> Prediction: 28.940000534057617\n",
            "Window 1102: [28.94000053 28.79000092 28.51000023 28.39999962 28.28000069] --> Prediction: 27.219999313354492\n",
            "Window 1103: [27.21999931 27.36000061 26.98999977 26.90999985 27.28000069] --> Prediction: 27.790000915527344\n",
            "Window 1104: [27.79000092 28.03000069 28.11000061 28.31999969 28.18000031] --> Prediction: 28.030000686645508\n",
            "Window 1105: [28.03000069 27.84000015 27.53000069 28.01000023 28.39999962] --> Prediction: 28.209999084472656\n",
            "Window 1106: [28.20999908 28.20999908 28.39999962 28.29999924 28.42000008] --> Prediction: 28.36000061035156\n",
            "Window 1107: [28.36000061 28.03000069 28.27000046 28.20999908 28.14999962] --> Prediction: 28.59000015258789\n",
            "Window 1108: [28.59000015 28.02000046 27.89999962 28.70000076 29.03000069] --> Prediction: 28.829999923706055\n",
            "Window 1109: [28.82999992 28.25       27.79999924 27.04000092 26.46999931] --> Prediction: 25.190000534057617\n",
            "Window 1110: [25.19000053 24.62000084 25.68000031 26.17000008 26.        ] --> Prediction: 25.8799991607666\n",
            "Window 1111: [25.87999916 25.12000084 25.64999962 25.89999962 25.52000046] --> Prediction: 25.700000762939453\n",
            "Window 1112: [25.70000076 25.97999954 26.06999969 25.87999916 25.54000092] --> Prediction: 25.540000915527344\n",
            "Window 1113: [25.54000092 25.13999939 25.28000069 25.40999985 26.03000069] --> Prediction: 25.65999984741211\n",
            "Window 1114: [25.65999985 25.63999939 26.25       25.72999954 25.76000023] --> Prediction: 26.850000381469727\n",
            "Window 1115: [26.85000038 27.22999954 27.54000092 27.90999985 27.90999985] --> Prediction: 27.959999084472656\n",
            "Window 1116: [27.95999908 27.85000038 27.81999969 28.14999962 28.25      ] --> Prediction: 28.25\n",
            "Window 1117: [28.25       28.5        28.28000069 29.01000023 29.35000038] --> Prediction: 28.950000762939453\n",
            "Window 1118: [28.95000076 29.04999924 29.36000061 29.13999939 28.85000038] --> Prediction: 28.770000457763672\n",
            "Window 1119: [28.77000046 28.61000061 28.46999931 28.43000031 28.45000076] --> Prediction: 28.18000030517578\n",
            "Window 1120: [28.18000031 27.97999954 27.81999969 27.82999992 26.20999908] --> Prediction: 26.790000915527344\n",
            "Window 1121: [26.79000092 26.80999947 27.12000084 27.37000084 27.56999969] --> Prediction: 27.25\n",
            "Window 1122: [27.25       27.56999969 27.44000053 26.95000076 27.47999954] --> Prediction: 27.489999771118164\n",
            "Window 1123: [27.48999977 27.14999962 26.72999954 26.77000046 26.15999985] --> Prediction: 26.489999771118164\n",
            "Window 1124: [26.48999977 26.85000038 27.23999977 26.71999931 26.27000046] --> Prediction: 26.40999984741211\n",
            "Window 1125: [26.40999985 26.29000092 26.01000023 25.40999985 24.78000069] --> Prediction: 25.270000457763672\n",
            "Window 1126: [25.27000046 25.35000038 24.60000038 24.65999985 23.62000084] --> Prediction: 23.170000076293945\n",
            "Window 1127: [23.17000008 23.71999931 23.43000031 23.11000061 23.79000092] --> Prediction: 23.479999542236328\n",
            "Window 1128: [23.47999954 22.82999992 23.10000038 23.54000092 22.88999939] --> Prediction: 22.93000030517578\n",
            "Window 1129: [22.93000031 22.64999962 22.51000023 24.68000031 25.11000061] --> Prediction: 26.6299991607666\n",
            "Window 1130: [26.62999916 26.12000084 26.31999969 26.60000038 26.40999985] --> Prediction: 26.18000030517578\n",
            "Window 1131: [26.18000031 26.82999992 26.89999962 26.87000084 26.79999924] --> Prediction: 27.13999938964844\n",
            "Window 1132: [27.13999939 27.04999924 27.61000061 27.37999916 27.86000061] --> Prediction: 27.700000762939453\n",
            "Window 1133: [27.70000076 27.65999985 27.87999916 28.19000053 28.32999992] --> Prediction: 27.899999618530273\n",
            "Window 1134: [27.89999962 28.10000038 28.45999908 28.46999931 28.69000053] --> Prediction: 28.13999938964844\n",
            "Window 1135: [28.13999939 27.57999992 28.         27.60000038 27.69000053] --> Prediction: 27.6200008392334\n",
            "Window 1136: [27.62000084 27.63999939 28.22999954 28.25       27.89999962] --> Prediction: 28.190000534057617\n",
            "Window 1137: [28.19000053 28.32999992 28.44000053 28.23999977 28.14999962] --> Prediction: 28.229999542236328\n",
            "Window 1138: [28.22999954 28.45000076 28.63999939 27.95999908 27.48999977] --> Prediction: 27.3700008392334\n",
            "Window 1139: [27.37000084 26.86000061 26.44000053 26.20999908 26.53000069] --> Prediction: 26.510000228881836\n",
            "Window 1140: [26.51000023 27.03000069 26.70000076 26.67000008 26.53000069] --> Prediction: 26.969999313354492\n",
            "Window 1141: [26.96999931 26.64999962 26.71999931 27.56999969 27.96999931] --> Prediction: 27.940000534057617\n",
            "Window 1142: [27.94000053 28.46999931 28.92000008 28.89999962 28.92000008] --> Prediction: 29.100000381469727\n",
            "Window 1143: [29.10000038 29.06999969 29.13999939 29.13999939 29.03000069] --> Prediction: 28.84000015258789\n",
            "Window 1144: [28.84000015 28.95999908 28.64999962 28.87000084 28.95000076] --> Prediction: 28.799999237060547\n",
            "Window 1145: [28.79999924 28.77000046 28.71999931 29.21999931 27.75      ] --> Prediction: 27.309999465942383\n",
            "Window 1146: [27.30999947 27.79000092 28.26000023 28.69000053 28.79999924] --> Prediction: 29.43000030517578\n",
            "Window 1147: [29.43000031 29.61000061 29.75       29.76000023 29.81999969] --> Prediction: 29.90999984741211\n",
            "Window 1148: [29.90999985 29.92000008 30.62999916 30.57999992 30.70999908] --> Prediction: 30.790000915527344\n",
            "Window 1149: [30.79000092 30.87999916 30.76000023 30.52000046 30.53000069] --> Prediction: 30.729999542236328\n",
            "Window 1150: [30.72999954 30.62000084 30.71999931 30.79999924 31.04000092] --> Prediction: 31.010000228881836\n",
            "Window 1151: [31.01000023 30.94000053 30.85000038 30.95000076 30.87000084] --> Prediction: 31.190000534057617\n",
            "Window 1152: [31.19000053 31.12000084 30.71999931 30.47999954 30.52000046] --> Prediction: 30.6299991607666\n",
            "Window 1153: [30.62999916 30.97999954 31.05999947 31.29000092 31.35000038] --> Prediction: 31.579999923706055\n",
            "Window 1154: [31.57999992 31.54000092 31.44000053 31.57999992 31.82999992] --> Prediction: 31.440000534057617\n",
            "Window 1155: [31.44000053 31.05999947 31.         31.30999947 30.84000015] --> Prediction: 31.020000457763672\n",
            "Window 1156: [31.02000046 31.10000038 31.36000061 31.65999985 31.34000015] --> Prediction: 31.06999969482422\n",
            "Window 1157: [31.06999969 31.47999954 31.5        31.38999939 31.71999931] --> Prediction: 31.5\n",
            "Window 1158: [31.5        31.35000038 31.59000015 31.47999954 31.46999931] --> Prediction: 31.469999313354492\n",
            "Window 1159: [31.46999931 31.04000092 30.34000015 30.17000008 30.18000031] --> Prediction: 30.219999313354492\n",
            "Window 1160: [30.21999931 30.44000053 30.35000038 30.15999985 30.14999962] --> Prediction: 30.459999084472656\n",
            "Window 1161: [30.45999908 30.34000015 30.54999924 30.37999916 30.59000015] --> Prediction: 30.68000030517578\n",
            "Window 1162: [30.68000031 30.47999954 30.38999939 30.31999969 30.19000053] --> Prediction: 30.940000534057617\n",
            "Window 1163: [30.94000053 31.         31.36000061 31.         31.36000061] --> Prediction: 31.3700008392334\n",
            "Window 1164: [31.37000084 31.70000076 31.56999969 30.04999924 30.18000031] --> Prediction: 29.920000076293945\n",
            "Window 1165: [29.92000008 29.82999992 29.81999969 29.45000076 29.25      ] --> Prediction: 29.530000686645508\n",
            "Window 1166: [29.53000069 29.32999992 29.95000076 29.95000076 30.05999947] --> Prediction: 30.170000076293945\n",
            "Window 1167: [30.17000008 30.59000015 30.45999908 30.62999916 30.59000015] --> Prediction: 30.75\n",
            "Window 1168: [30.75       30.55999947 30.42000008 30.45999908 30.53000069] --> Prediction: 30.18000030517578\n",
            "Window 1169: [30.18000031 30.37999916 30.14999962 30.04000092 30.06999969] --> Prediction: 30.270000457763672\n",
            "Window 1170: [30.27000046 30.60000038 30.70000076 30.73999977 30.97999954] --> Prediction: 30.829999923706055\n",
            "Window 1171: [30.82999992 30.71999931 30.5        31.18000031 31.31999969] --> Prediction: 31.299999237060547\n",
            "Window 1172: [31.29999924 31.45000076 31.27000046 31.5        31.51000023] --> Prediction: 31.969999313354492\n",
            "Window 1173: [31.96999931 32.31000137 32.81999969 33.59999847 33.74000168] --> Prediction: 34.2599983215332\n",
            "Window 1174: [34.25999832 34.18000031 34.43999863 34.38999939 34.29000092] --> Prediction: 34.189998626708984\n",
            "Window 1175: [34.18999863 34.20000076 34.02000046 34.06999969 34.25999832] --> Prediction: 34.099998474121094\n",
            "Window 1176: [34.09999847 34.11999893 34.24000168 34.22999954 34.22999954] --> Prediction: 34.279998779296875\n",
            "Window 1177: [34.27999878 33.88000107 34.09999847 33.95999908 34.08000183] --> Prediction: 33.9900016784668\n",
            "Window 1178: [33.99000168 34.02000046 33.74000168 33.74000168 33.79999924] --> Prediction: 33.58000183105469\n",
            "Window 1179: [33.58000183 33.40999985 33.         33.08000183 32.95999908] --> Prediction: 32.61000061035156\n",
            "Window 1180: [32.61000061 32.66999817 32.65000153 32.83000183 32.81999969] --> Prediction: 33.279998779296875\n",
            "Window 1181: [33.27999878 33.41999817 33.40000153 33.75       34.06999969] --> Prediction: 33.970001220703125\n",
            "Window 1182: [33.97000122 34.24000168 34.25       34.18000031 34.38999939] --> Prediction: 34.290000915527344\n",
            "Window 1183: [34.29000092 33.90000153 33.74000168 33.63000107 33.45000076] --> Prediction: 34.22999954223633\n",
            "Window 1184: [34.22999954 34.29999924 33.81999969 31.37999916 31.20999908] --> Prediction: 31.59000015258789\n",
            "Window 1185: [31.59000015 31.76000023 31.48999977 31.44000053 31.5       ] --> Prediction: 31.760000228881836\n",
            "Window 1186: [31.76000023 31.55999947 31.61000061 31.61000061 31.37000084] --> Prediction: 31.25\n",
            "Window 1187: [31.25       31.70000076 31.60000038 31.57999992 31.62999916] --> Prediction: 31.989999771118164\n",
            "Window 1188: [31.98999977 31.85000038 31.84000015 31.85000038 32.09000015] --> Prediction: 32.2400016784668\n",
            "Window 1189: [32.24000168 31.76000023 32.08000183 31.40999985 31.29999924] --> Prediction: 30.979999542236328\n",
            "Window 1190: [30.97999954 31.09000015 31.15999985 31.27000046 31.42000008] --> Prediction: 31.5\n",
            "Window 1191: [31.5        31.51000023 31.89999962 31.86000061 31.84000015] --> Prediction: 31.86000061035156\n",
            "Window 1192: [31.86000061 32.11999893 31.65999985 31.56999969 31.52000046] --> Prediction: 31.450000762939453\n",
            "Window 1193: [31.45000076 31.64999962 31.52000046 31.55999947 31.79999924] --> Prediction: 31.84000015258789\n",
            "Window 1194: [31.84000015 31.67000008 31.62000084 31.         31.46999931] --> Prediction: 31.84000015258789\n",
            "Window 1195: [31.84000015 32.09000015 32.34000015 31.04000092 30.37000084] --> Prediction: 30.68000030517578\n",
            "Window 1196: [30.68000031 31.27000046 30.92000008 31.23999977 31.44000053] --> Prediction: 31.540000915527344\n",
            "Window 1197: [31.54000092 31.47999954 31.98999977 32.20999908 32.29999924] --> Prediction: 32.189998626708984\n",
            "Window 1198: [32.18999863 32.40999985 32.18000031 32.18999863 32.43999863] --> Prediction: 32.52000045776367\n",
            "Window 1199: [32.52000046 32.49000168 32.59999847 32.70000076 33.36999893] --> Prediction: 33.720001220703125\n",
            "Window 1200: [33.72000122 33.75999832 33.47999954 33.34999847 33.63000107] --> Prediction: 33.75\n",
            "Window 1201: [33.75       33.84999847 33.43999863 33.59000015 33.75      ] --> Prediction: 33.7599983215332\n",
            "Window 1202: [33.75999832 33.54999924 33.59000015 33.25999832 33.47000122] --> Prediction: 33.540000915527344\n",
            "Window 1203: [33.54000092 33.59999847 33.54999924 33.75       34.25      ] --> Prediction: 34.349998474121094\n",
            "Window 1204: [34.34999847 34.58000183 34.29999924 34.27000046 34.43000031] --> Prediction: 34.040000915527344\n",
            "Window 1205: [34.04000092 34.15000153 34.61999893 34.20999908 34.47000122] --> Prediction: 34.40999984741211\n",
            "Window 1206: [34.40999985 34.40000153 34.5        34.04999924 33.99000168] --> Prediction: 33.95000076293945\n",
            "Window 1207: [33.95000076 34.04000092 34.11000061 35.88000107 35.90000153] --> Prediction: 36.869998931884766\n",
            "Window 1208: [36.86999893 37.72999954 37.47999954 37.29999924 37.59999847] --> Prediction: 37.720001220703125\n",
            "Window 1209: [37.72000122 37.31000137 37.40999985 37.40000153 37.61000061] --> Prediction: 37.959999084472656\n",
            "Window 1210: [37.95999908 37.90999985 38.15000153 37.90000153 38.18999863] --> Prediction: 38.47999954223633\n",
            "Window 1211: [38.47999954 38.29999924 38.74000168 38.52999878 38.54999924] --> Prediction: 39.939998626708984\n",
            "Window 1212: [39.93999863 39.68999863 39.90999985 40.09999847 40.86999893] --> Prediction: 41.65999984741211\n",
            "Window 1213: [41.65999985 42.09999847 42.16999817 41.90000153 42.56000137] --> Prediction: 42.849998474121094\n",
            "Window 1214: [42.84999847 42.25       41.54000092 41.70000076 40.93000031] --> Prediction: 38.779998779296875\n",
            "Window 1215: [38.77999878 40.16999817 40.34000015 38.77000046 39.52999878] --> Prediction: 40.599998474121094\n",
            "Window 1216: [40.59999847 41.22999954 42.09000015 44.08000183 44.33000183] --> Prediction: 45.36000061035156\n",
            "Window 1217: [45.36000061 45.04000092 44.77999878 43.79999924 44.06000137] --> Prediction: 44.52000045776367\n",
            "Window 1218: [44.52000046 44.29000092 44.20000076 44.34000015 45.36999893] --> Prediction: 45.54999923706055\n",
            "Window 1219: [45.54999924 45.15999985 45.27999878 45.33000183 45.00999832] --> Prediction: 44.27000045776367\n",
            "Window 1220: [44.27000046 44.36999893 44.31000137 43.06999969 42.41999817] --> Prediction: 41.0099983215332\n",
            "Window 1221: [41.00999832 41.38000107 41.20000076 41.81999969 40.72999954] --> Prediction: 41.16999816894531\n",
            "Window 1222: [41.16999817 42.50999832 42.43000031 43.34000015 43.        ] --> Prediction: 43.29999923706055\n",
            "Window 1223: [43.29999924 44.59000015 44.63000107 44.56000137 44.09000015] --> Prediction: 44.25\n",
            "Window 1224: [44.25       43.74000168 43.70999908 44.20999908 44.70999908] --> Prediction: 44.290000915527344\n",
            "Window 1225: [44.29000092 44.83000183 43.86000061 44.43999863 45.29999924] --> Prediction: 45.72999954223633\n",
            "Window 1226: [45.72999954 45.70999908 46.04000092 46.29999924 45.93000031] --> Prediction: 45.70000076293945\n",
            "Window 1227: [45.70000076 45.47999954 45.15999985 43.45999908 43.20999908] --> Prediction: 43.75\n",
            "Window 1228: [43.75       43.65000153 43.68000031 43.56999969 43.25999832] --> Prediction: 43.58000183105469\n",
            "Window 1229: [43.58000183 43.66999817 44.25999832 43.65000153 43.47999954] --> Prediction: 43.689998626708984\n",
            "Window 1230: [43.68999863 43.93999863 44.00999832 44.68999863 44.25      ] --> Prediction: 44.209999084472656\n",
            "Window 1231: [44.20999908 43.81999969 43.74000168 43.15999985 43.20000076] --> Prediction: 42.290000915527344\n",
            "Window 1232: [42.29000092 42.54999924 42.33000183 42.93999863 43.02999878] --> Prediction: 42.66999816894531\n",
            "Window 1233: [42.66999817 42.86000061 42.56999969 43.58000183 41.77999878] --> Prediction: 42.5\n",
            "Window 1234: [42.5        42.34000015 42.20999908 42.40000153 42.00999832] --> Prediction: 42.060001373291016\n",
            "Window 1235: [42.06000137 42.38999939 43.15999985 43.52999878 42.56999969] --> Prediction: 42.16999816894531\n",
            "Window 1236: [42.16999817 42.29000092 41.86000061 42.52999878 42.83000183] --> Prediction: 43.29999923706055\n",
            "Window 1237: [43.29999924 43.58000183 43.84000015 43.77999878 43.77999878] --> Prediction: 43.75\n",
            "Window 1238: [43.75       44.         43.86000061 45.15999985 45.86999893] --> Prediction: 46.220001220703125\n",
            "Window 1239: [46.22000122 45.77999878 45.99000168 46.02000046 46.31999969] --> Prediction: 46.59000015258789\n",
            "Window 1240: [46.59000015 46.95000076 47.47999954 47.15000153 47.77000046] --> Prediction: 47.06999969482422\n",
            "Window 1241: [47.06999969 47.02999878 46.88999939 47.24000168 47.40000153] --> Prediction: 47.11000061035156\n",
            "Window 1242: [47.11000061 47.45999908 47.27999878 47.72999954 48.56000137] --> Prediction: 48.439998626708984\n",
            "Window 1243: [48.43999863 48.47000122 48.40999985 48.33000183 48.65000153] --> Prediction: 48.869998931884766\n",
            "Window 1244: [48.86999893 49.00999832 49.13999939 48.38000107 48.13000107] --> Prediction: 47.52000045776367\n",
            "Window 1245: [47.52000046 47.49000168 45.63000107 44.11999893 45.70999908] --> Prediction: 44.66999816894531\n",
            "Window 1246: [44.66999817 45.81999969 45.93999863 45.45999908 45.34000015] --> Prediction: 45.7599983215332\n",
            "Window 1247: [45.75999832 45.41999817 44.06999969 45.47000122 44.25      ] --> Prediction: 43.84000015258789\n",
            "Window 1248: [43.84000015 44.58000183 45.75       45.65000153 45.47999954] --> Prediction: 46.13999938964844\n",
            "Window 1249: [46.13999939 46.5        47.90000153 48.43999863 47.11000061] --> Prediction: 45.619998931884766\n",
            "Window 1250: [45.61999893 45.11999893 44.33000183 46.77000046 46.34999847] --> Prediction: 45.56999969482422\n",
            "Window 1251: [45.56999969 46.11999893 47.29000092 47.34000015 47.86999893] --> Prediction: 46.86000061035156\n",
            "Window 1252: [46.86000061 47.09000015 47.41999817 47.47000122 45.81999969] --> Prediction: 44.20000076293945\n",
            "Window 1253: [44.20000076 44.06000137 43.13999939 42.49000168 41.84999847] --> Prediction: 43.209999084472656\n",
            "Window 1254: [43.20999908 43.56000137 43.31999969 43.24000168 43.49000168] --> Prediction: 43.209999084472656\n",
            "Window 1255: [43.20999908 44.02000046 43.95999908 44.20999908 45.02999878] --> Prediction: 45.75\n",
            "Window 1256: [45.75       45.95999908 46.70999908 47.29000092 47.34000015] --> Prediction: 47.349998474121094\n",
            "Window 1257: [47.34999847 47.25999832 47.47999954 46.70000076 47.18999863] --> Prediction: 47.58000183105469\n",
            "Window 1258: [47.58000183 47.88999939 47.5        48.40000153 49.43000031] --> Prediction: 50.790000915527344\n",
            "Window 1259: [50.79000092 51.18000031 51.59000015 51.77000046 51.40999985] --> Prediction: 51.15999984741211\n",
            "Window 1260: [51.15999985 51.29999924 51.66999817 51.29000092 51.06999969] --> Prediction: 51.91999816894531\n",
            "Window 1261: [51.91999817 52.15000153 52.59000015 52.74000168 53.20000076] --> Prediction: 53.5099983215332\n",
            "Window 1262: [53.50999832 53.31000137 53.25999832 53.93999863 52.74000168] --> Prediction: 52.72999954223633\n",
            "Window 1263: [52.72999954 53.22999954 53.13999939 53.36000061 53.99000168] --> Prediction: 54.97999954223633\n",
            "Window 1264: [54.97999954 55.29000092 55.63000107 55.13999939 55.20999908] --> Prediction: 55.4900016784668\n",
            "Window 1265: [55.49000168 55.18000031 55.81999969 55.59999847 56.29000092] --> Prediction: 56.34000015258789\n",
            "Window 1266: [56.34000015 56.68999863 56.88000107 56.33000183 55.88000107] --> Prediction: 56.130001068115234\n",
            "Window 1267: [56.13000107 55.95000076 55.58000183 54.93999863 54.93999863] --> Prediction: 54.59000015258789\n",
            "Window 1268: [54.59000015 53.45000076 53.47000122 52.91999817 53.36000061] --> Prediction: 51.29999923706055\n",
            "Window 1269: [51.29999924 52.02000046 52.43999863 55.93000031 56.34999847] --> Prediction: 56.0099983215332\n",
            "Window 1270: [56.00999832 56.52000046 55.68999863 54.18999863 54.36999893] --> Prediction: 51.779998779296875\n",
            "Window 1271: [51.77999878 53.22999954 54.75       55.09999847 55.93000031] --> Prediction: 56.41999816894531\n",
            "Window 1272: [56.41999817 57.11000061 55.86000061 56.16999817 54.75      ] --> Prediction: 55.400001525878906\n",
            "Window 1273: [55.40000153 56.04999924 56.13000107 57.40999985 57.02999878] --> Prediction: 57.18000030517578\n",
            "Window 1274: [57.18000031 56.08000183 56.59999847 55.72999954 54.72999954] --> Prediction: 56.189998626708984\n",
            "Window 1275: [56.18999863 56.34000015 57.13000107 57.29999924 57.95000076] --> Prediction: 58.04999923706055\n",
            "Window 1276: [58.04999924 57.61999893 57.20999908 57.74000168 57.36000061] --> Prediction: 57.72999954223633\n",
            "Window 1277: [57.72999954 57.70999908 57.22999954 56.61999893 56.52999878] --> Prediction: 56.93000030517578\n",
            "Window 1278: [56.93000031 56.47000122 55.40000153 55.38999939 53.25      ] --> Prediction: 51.369998931884766\n",
            "Window 1279: [51.36999893 52.59999847 52.34000015 53.15999985 52.43000031] --> Prediction: 51.540000915527344\n",
            "Window 1280: [51.54000092 52.72000122 50.61000061 46.25       46.95999908] --> Prediction: 48.5\n",
            "Window 1281: [48.5        47.93000031 48.77000046 48.18000031 46.61000061] --> Prediction: 47.099998474121094\n",
            "Window 1282: [47.09999847 46.79000092 46.86999893 47.27000046 46.81000137] --> Prediction: 48.58000183105469\n",
            "Window 1283: [48.58000183 49.20999908 50.02999878 49.93000031 50.02999878] --> Prediction: 49.959999084472656\n",
            "Window 1284: [49.95999908 49.40999985 49.34000015 49.18999863 49.59999847] --> Prediction: 49.41999816894531\n",
            "Window 1285: [49.41999817 49.11999893 49.61000061 48.83000183 48.84000015] --> Prediction: 49.40999984741211\n",
            "Window 1286: [49.40999985 47.74000168 46.56000137 47.06000137 47.52000046] --> Prediction: 47.77000045776367\n",
            "Window 1287: [47.77000046 46.38999939 46.84000015 46.15000153 46.56000137] --> Prediction: 46.04999923706055\n",
            "Window 1288: [46.04999924 46.36000061 46.79000092 47.02999878 46.70999908] --> Prediction: 47.38999938964844\n",
            "Window 1289: [47.38999939 47.54999924 47.04999924 46.40999985 46.90000153] --> Prediction: 47.16999816894531\n",
            "Window 1290: [47.16999817 47.24000168 47.56000137 47.50999832 47.02999878] --> Prediction: 47.47999954223633\n",
            "Window 1291: [47.47999954 47.75999832 48.27000046 48.41999817 48.83000183] --> Prediction: 48.099998474121094\n",
            "Window 1292: [48.09999847 48.36999893 48.45999908 44.90999985 45.09000015] --> Prediction: 45.150001525878906\n",
            "Window 1293: [45.15000153 45.47000122 45.08000183 44.84000015 44.84999847] --> Prediction: 44.70000076293945\n",
            "Window 1294: [44.70000076 44.27999878 43.88999939 43.52000046 43.84000015] --> Prediction: 43.900001525878906\n",
            "Window 1295: [43.90000153 44.09999847 44.27999878 45.66999817 45.29999924] --> Prediction: 45.97999954223633\n",
            "Window 1296: [45.97999954 46.43999863 46.63999939 47.88000107 47.45000076] --> Prediction: 47.79999923706055\n",
            "Window 1297: [47.79999924 47.49000168 47.52000046 47.31999969 47.13000107] --> Prediction: 47.970001220703125\n",
            "Window 1298: [47.97000122 47.79000092 48.00999832 49.04999924 49.02000046] --> Prediction: 47.470001220703125\n",
            "Window 1299: [47.47000122 47.77000046 47.04999924 47.24000168 45.97000122] --> Prediction: 46.529998779296875\n",
            "Window 1300: [46.52999878 47.61999893 48.45000076 48.68999863 47.97000122] --> Prediction: 48.869998931884766\n",
            "Window 1301: [48.86999893 49.13000107 49.93000031 47.31999969 46.97000122] --> Prediction: 44.0\n",
            "Window 1302: [44.         42.74000168 42.15999985 40.04000092 39.93000031] --> Prediction: 41.16999816894531\n",
            "Window 1303: [41.16999817 40.04000092 41.38999939 39.56999969 39.68000031] --> Prediction: 37.959999084472656\n",
            "Window 1304: [37.95999908 40.08000183 37.04999924 33.20000076 37.63999939] --> Prediction: 33.709999084472656\n",
            "Window 1305: [33.70999908 35.5        37.11999893 37.70999908 35.59999847] --> Prediction: 34.599998474121094\n",
            "Window 1306: [34.59999847 38.59999847 37.66999817 40.58000183 38.81999969] --> Prediction: 40.31999969482422\n"
          ]
        }
      ],
      "source": [
        "print(\"Windowing Results:\")\n",
        "for i in range(len(x)):\n",
        "    print(f\"Window {i+1}: {x[i]} --> Prediction: {y[i]}\")"
      ]
    },
    {
      "cell_type": "markdown",
      "metadata": {
        "id": "56jKEWPpk0nf"
      },
      "source": [
        "Output di atas menunjukkan isi per window beserta prediction dari data per windownya."
      ]
    },
    {
      "cell_type": "markdown",
      "metadata": {
        "id": "qWyrnTIdzYT_"
      },
      "source": [
        "# Spliting"
      ]
    },
    {
      "cell_type": "markdown",
      "metadata": {
        "id": "e_3qsB1VlJMK"
      },
      "source": [
        "Here, I split the data by taking the first 80% as the training set. Then, 10% of the data is used for validation, which is taken sequentially based on the date, following the data used for training. The remaining 10% is used as the test set, ensuring that it aligns with the intended 10% portion for testing.\n",
        "\n",
        "This method ensures a time-based split, which is particularly important for univariate time series data like \"Close,\" maintaining the chronological order."
      ]
    },
    {
      "cell_type": "code",
      "execution_count": null,
      "metadata": {
        "colab": {
          "base_uri": "https://localhost:8080/"
        },
        "id": "qEaxgyXMuzpx",
        "outputId": "e79e135d-74a8-454f-d8b5-269d7ab036d8"
      },
      "outputs": [
        {
          "name": "stdout",
          "output_type": "stream",
          "text": [
            "Train set: 1044 data points\n",
            "Validation set: 130 data points\n",
            "Test set: 132 data points\n"
          ]
        }
      ],
      "source": [
        "total_length = len(x)\n",
        "train_length = int(total_length * 0.8)\n",
        "val_length = int(total_length * 0.1)\n",
        "test_length = total_length - train_length - val_length\n",
        "\n",
        "x_train = x[:train_length]\n",
        "y_train = y[:train_length]\n",
        "\n",
        "x_val = x[train_length:train_length+val_length]\n",
        "y_val = y[train_length:train_length+val_length]\n",
        "\n",
        "x_test = x[train_length+val_length:]\n",
        "y_test = y[train_length+val_length:]\n",
        "\n",
        "print(f\"Train set: {len(x_train)} data points\")\n",
        "print(f\"Validation set: {len(x_val)} data points\")\n",
        "print(f\"Test set: {len(x_test)} data points\")"
      ]
    },
    {
      "cell_type": "markdown",
      "metadata": {
        "id": "-Q-6KlBCmWDv"
      },
      "source": [
        "For the training data, there are 1.044 windows along with their predictions. For the validation data, there are 130 windows with predictions, and for the test data, there are 132 windows along with their predictions."
      ]
    },
    {
      "cell_type": "code",
      "execution_count": null,
      "metadata": {
        "colab": {
          "base_uri": "https://localhost:8080/"
        },
        "id": "FH_Ky0-_03wM",
        "outputId": "74649ff7-19e7-4b06-efbf-88cff94e22d9"
      },
      "outputs": [
        {
          "name": "stdout",
          "output_type": "stream",
          "text": [
            "(1044, 5)\n",
            "(1044,)\n"
          ]
        }
      ],
      "source": [
        "print(x_train.shape)\n",
        "print(y_train.shape)"
      ]
    },
    {
      "cell_type": "code",
      "execution_count": null,
      "metadata": {
        "id": "ka-QD5vv1f5v"
      },
      "outputs": [],
      "source": [
        "BATCH_SIZE = 16\n",
        "BUFFER_SIZE = 500"
      ]
    },
    {
      "cell_type": "code",
      "execution_count": null,
      "metadata": {
        "id": "tYTn_DcS1a3r"
      },
      "outputs": [],
      "source": [
        "train_data = tf.data.Dataset.from_tensor_slices((x_train, y_train))\n",
        "train_data = train_data.cache().shuffle(BUFFER_SIZE).batch(BATCH_SIZE)\n",
        "\n",
        "val_data = tf.data.Dataset.from_tensor_slices((x_val, y_val))\n",
        "val_data = val_data.batch(BATCH_SIZE)\n",
        "\n",
        "test_data = tf.data.Dataset.from_tensor_slices((x_test, y_test))\n",
        "test_data = test_data.batch(BATCH_SIZE)"
      ]
    },
    {
      "cell_type": "markdown",
      "metadata": {
        "id": "7_DEYaTU0Gm7"
      },
      "source": [
        "# Model 1 - Baseline Model\n",
        "The baseline_model is a sequential neural network with an LSTM layer of 50 units and a Dense output layer for predicting the upcoming Monday's stock price. It uses the Adam optimizer and Mean Squared Error as the loss function."
      ]
    },
    {
      "cell_type": "code",
      "execution_count": null,
      "metadata": {
        "id": "XILeq25qAOZI"
      },
      "outputs": [],
      "source": [
        "baseline_model = Sequential([\n",
        "    LSTM(50, activation='relu', input_shape=(x_train.shape[1], 1)),\n",
        "    Dense(1)\n",
        "])\n",
        "\n",
        "baseline_model.compile(optimizer='adam', loss='mean_squared_error')"
      ]
    },
    {
      "cell_type": "code",
      "execution_count": null,
      "metadata": {
        "colab": {
          "base_uri": "https://localhost:8080/"
        },
        "id": "SU1ayacqDqok",
        "outputId": "27ada56a-8985-4d1f-d884-c5f604cb4266"
      },
      "outputs": [
        {
          "name": "stdout",
          "output_type": "stream",
          "text": [
            "Model: \"sequential\"\n",
            "_________________________________________________________________\n",
            " Layer (type)                Output Shape              Param #   \n",
            "=================================================================\n",
            " lstm (LSTM)                 (None, 50)                10400     \n",
            "                                                                 \n",
            " dense (Dense)               (None, 1)                 51        \n",
            "                                                                 \n",
            "=================================================================\n",
            "Total params: 10451 (40.82 KB)\n",
            "Trainable params: 10451 (40.82 KB)\n",
            "Non-trainable params: 0 (0.00 Byte)\n",
            "_________________________________________________________________\n"
          ]
        }
      ],
      "source": [
        "baseline_model.summary()"
      ]
    },
    {
      "cell_type": "code",
      "execution_count": null,
      "metadata": {
        "id": "Tj7YbYsXDGqr"
      },
      "outputs": [],
      "source": [
        "path_checkpoint = \"model_checkpoint.weights.h5\"\n",
        "\n",
        "checkpoint = keras.callbacks.ModelCheckpoint(monitor=\"val_loss\", filepath=path_checkpoint, verbose=1,\n",
        "                                             save_weights_only=True, save_best_only=True)"
      ]
    },
    {
      "cell_type": "markdown",
      "metadata": {
        "id": "PudCk8p0vezO"
      },
      "source": [
        "Here, I am using EarlyStopping with a patience of 5 to avoid overfitting. "
      ]
    },
    {
      "cell_type": "code",
      "execution_count": null,
      "metadata": {
        "colab": {
          "base_uri": "https://localhost:8080/"
        },
        "id": "tEyCQ6xrCGKn",
        "outputId": "4ff1c921-a36a-4391-ff71-f7fd1e8be365"
      },
      "outputs": [
        {
          "name": "stdout",
          "output_type": "stream",
          "text": [
            "Epoch 1/100\n",
            "59/66 [=========================>....] - ETA: 0s - loss: 72.0233\n",
            "Epoch 1: val_loss improved from inf to 0.43376, saving model to model_checkpoint.weights.h5\n",
            "66/66 [==============================] - 6s 15ms/step - loss: 65.2991 - val_loss: 0.4338\n",
            "Epoch 2/100\n",
            "59/66 [=========================>....] - ETA: 0s - loss: 1.2765\n",
            "Epoch 2: val_loss did not improve from 0.43376\n",
            "66/66 [==============================] - 1s 7ms/step - loss: 1.3266 - val_loss: 0.4964\n",
            "Epoch 3/100\n",
            "65/66 [============================>.] - ETA: 0s - loss: 1.2696\n",
            "Epoch 3: val_loss did not improve from 0.43376\n",
            "66/66 [==============================] - 1s 9ms/step - loss: 1.2669 - val_loss: 0.6861\n",
            "Epoch 4/100\n",
            "63/66 [===========================>..] - ETA: 0s - loss: 1.1511\n",
            "Epoch 4: val_loss did not improve from 0.43376\n",
            "66/66 [==============================] - 1s 10ms/step - loss: 1.1766 - val_loss: 0.4528\n",
            "Epoch 5/100\n",
            "65/66 [============================>.] - ETA: 0s - loss: 1.1422\n",
            "Epoch 5: val_loss did not improve from 0.43376\n",
            "66/66 [==============================] - 1s 11ms/step - loss: 1.1381 - val_loss: 0.6315\n",
            "Epoch 6/100\n",
            "58/66 [=========================>....] - ETA: 0s - loss: 1.3094\n",
            "Epoch 6: val_loss improved from 0.43376 to 0.36922, saving model to model_checkpoint.weights.h5\n",
            "66/66 [==============================] - 1s 8ms/step - loss: 1.2357 - val_loss: 0.3692\n",
            "Epoch 7/100\n",
            "63/66 [===========================>..] - ETA: 0s - loss: 1.1262\n",
            "Epoch 7: val_loss did not improve from 0.36922\n",
            "66/66 [==============================] - 0s 7ms/step - loss: 1.1516 - val_loss: 0.4963\n",
            "Epoch 8/100\n",
            "62/66 [===========================>..] - ETA: 0s - loss: 1.1758\n",
            "Epoch 8: val_loss improved from 0.36922 to 0.35428, saving model to model_checkpoint.weights.h5\n",
            "66/66 [==============================] - 0s 4ms/step - loss: 1.1338 - val_loss: 0.3543\n",
            "Epoch 9/100\n",
            "59/66 [=========================>....] - ETA: 0s - loss: 1.2081\n",
            "Epoch 9: val_loss did not improve from 0.35428\n",
            "66/66 [==============================] - 0s 4ms/step - loss: 1.1498 - val_loss: 0.4157\n",
            "Epoch 10/100\n",
            "59/66 [=========================>....] - ETA: 0s - loss: 1.1556\n",
            "Epoch 10: val_loss did not improve from 0.35428\n",
            "66/66 [==============================] - 0s 4ms/step - loss: 1.0868 - val_loss: 0.3988\n",
            "Epoch 11/100\n",
            "58/66 [=========================>....] - ETA: 0s - loss: 1.2158\n",
            "Epoch 11: val_loss improved from 0.35428 to 0.30842, saving model to model_checkpoint.weights.h5\n",
            "66/66 [==============================] - 0s 4ms/step - loss: 1.1271 - val_loss: 0.3084\n",
            "Epoch 12/100\n",
            "60/66 [==========================>...] - ETA: 0s - loss: 1.0621\n",
            "Epoch 12: val_loss did not improve from 0.30842\n",
            "66/66 [==============================] - 0s 4ms/step - loss: 1.0436 - val_loss: 0.4327\n",
            "Epoch 13/100\n",
            "57/66 [========================>.....] - ETA: 0s - loss: 0.9483\n",
            "Epoch 13: val_loss did not improve from 0.30842\n",
            "66/66 [==============================] - 0s 4ms/step - loss: 0.9930 - val_loss: 0.8335\n",
            "Epoch 14/100\n",
            "62/66 [===========================>..] - ETA: 0s - loss: 0.9547\n",
            "Epoch 14: val_loss did not improve from 0.30842\n",
            "66/66 [==============================] - 0s 5ms/step - loss: 1.0101 - val_loss: 0.9565\n",
            "Epoch 15/100\n",
            "60/66 [==========================>...] - ETA: 0s - loss: 1.3380\n",
            "Epoch 15: val_loss did not improve from 0.30842\n",
            "66/66 [==============================] - 0s 4ms/step - loss: 1.3015 - val_loss: 0.3426\n",
            "Epoch 16/100\n",
            "62/66 [===========================>..] - ETA: 0s - loss: 0.9700\n",
            "Epoch 16: val_loss did not improve from 0.30842\n",
            "66/66 [==============================] - 0s 4ms/step - loss: 0.9754 - val_loss: 0.6085\n"
          ]
        }
      ],
      "source": [
        "early_stopping = EarlyStopping(monitor=\"val_loss\", patience=5, restore_best_weights=True)\n",
        "\n",
        "history = baseline_model.fit(train_data, validation_data = val_data,\n",
        "                             epochs=100, verbose=1,\n",
        "                             callbacks=[early_stopping, checkpoint])"
      ]
    },
    {
      "cell_type": "code",
      "execution_count": null,
      "metadata": {
        "colab": {
          "base_uri": "https://localhost:8080/"
        },
        "id": "iF-6-LjpDV1-",
        "outputId": "9b0c2587-fd75-48db-a5c2-efb3da41a080"
      },
      "outputs": [
        {
          "data": {
            "image/png": "[encoded data removed]",
            "text/plain": [
              "<Figure size 640x480 with 1 Axes>"
            ]
          },
          "metadata": {},
          "output_type": "display_data"
        }
      ],
      "source": [
        "def visualize_loss(history, title):\n",
        "    loss = history.history[\"loss\"]\n",
        "    val_loss = history.history[\"val_loss\"]\n",
        "    epochs = range(len(loss))\n",
        "    plt.figure()\n",
        "    plt.plot(epochs, loss, \"b\", label=\"Training loss\")\n",
        "    plt.plot(epochs, val_loss, \"r\", label=\"Validation loss\")\n",
        "    plt.title(title)\n",
        "    plt.xlabel(\"Epochs\")\n",
        "    plt.ylabel(\"Loss\")\n",
        "    plt.legend()\n",
        "    plt.show()\n",
        "\n",
        "\n",
        "visualize_loss(history, \"Training and Validation Loss\")"
      ]
    },
    {
      "cell_type": "markdown",
      "metadata": {
        "id": "LUqbsuwRvmf5"
      },
      "source": [
        "It appears that the model is a good fit, as evidenced by the small gap between the training loss and validation loss. This indicates that the model is performing well."
      ]
    },
    {
      "cell_type": "code",
      "execution_count": null,
      "metadata": {
        "colab": {
          "base_uri": "https://localhost:8080/"
        },
        "id": "HH1od226D3HE",
        "outputId": "a28bd4e4-6843-4d4d-af18-d0a433e022e3"
      },
      "outputs": [
        {
          "name": "stdout",
          "output_type": "stream",
          "text": [
            "5/5 [==============================] - 0s 4ms/step\n"
          ]
        }
      ],
      "source": [
        "y_pred = baseline_model.predict(x_test)\n",
        "\n",
        "y_pred = y_pred.flatten()\n",
        "y_test = y_test.flatten()"
      ]
    },
    {
      "cell_type": "code",
      "execution_count": null,
      "metadata": {
        "colab": {
          "base_uri": "https://localhost:8080/"
        },
        "id": "xKvJ7DU7DqDo",
        "outputId": "0b64adcf-b415-469c-ec4c-987feb9331f1"
      },
      "outputs": [
        {
          "name": "stdout",
          "output_type": "stream",
          "text": [
            "MAE: 0.7524042274012706\n",
            "MSE: 1.1993299184947086\n",
            "RMSE: 1.0951392233386168\n",
            "R²: 0.9786573491348065\n",
            "MAPE: 1.7349064066433173\n"
          ]
        }
      ],
      "source": [
        "mae = mean_absolute_error(y_test, y_pred)\n",
        "mse = mean_squared_error(y_test, y_pred)\n",
        "rmse = np.sqrt(mse)\n",
        "r2 = r2_score(y_test, y_pred)\n",
        "mape = mean_absolute_percentage_error(y_test, y_pred) * 100\n",
        "\n",
        "print(f\"MAE: {mae}\")\n",
        "print(f\"MSE: {mse}\")\n",
        "print(f\"RMSE: {rmse}\")\n",
        "print(f\"R²: {r2}\")\n",
        "print(f\"MAPE: {mape}\")"
      ]
    },
    {
      "cell_type": "markdown",
      "metadata": {
        "id": "JkuO96C54hof"
      },
      "source": [
        "The evaluation of the baseline model above indicates that it performs quite well in predicting the close price of CSCO stock. The MAE value of 0.7524 shows that the model's average prediction error is around 0.75 in stock price units. In 2020, the CSCO stock price was around 30 units, so an error of 0.75 translates to approximately a 2% error in the stock price. Therefore, improving this error would be beneficial, as it relates to stock prices.\n",
        "\n",
        "The R² value of 0.9787 indicates that the model can explain about 97.87% of the variation in CSCO stock price data, which is very high and reflects a good model. Additionally, the MAPE value of 1.7349% suggests that the average relative error is around 1.73%, which is relatively low. Overall, the performance of this model is quite good. However, further reducing the error would be even better, as it concerns stock prices, which are important to many stakeholders."
      ]
    },
    {
      "cell_type": "code",
      "execution_count": null,
      "metadata": {
        "colab": {
          "base_uri": "https://localhost:8080/"
        },
        "id": "HrZxj0lwEcVK",
        "outputId": "ce5d623c-a10b-40fc-85d0-135b57c855ee"
      },
      "outputs": [
        {
          "data": {
            "image/png": "[encoded data removed]",
            "text/plain": [
              "<Figure size 1200x600 with 1 Axes>"
            ]
          },
          "metadata": {},
          "output_type": "display_data"
        }
      ],
      "source": [
        "plt.figure(figsize=(12, 6))\n",
        "plt.plot(range(len(y_test)), y_test, color='blue', label='Actual')\n",
        "plt.plot(range(len(y_pred)), y_pred, color='red', label='Predicted')\n",
        "plt.xlabel('Time')\n",
        "plt.ylabel('Close Price')\n",
        "plt.title('Actual vs Predicted Close Price')\n",
        "plt.legend()\n",
        "plt.show()"
      ]
    },
    {
      "cell_type": "markdown",
      "metadata": {
        "id": "k1m3tDe2wK3f"
      },
      "source": [
        "Based on the plot above, the prediction results are very close to the actual close price, indicating good performance. However, there is still room for improvement when considering the evaluation metrics discussed earlier."
      ]
    },
    {
      "cell_type": "markdown",
      "metadata": {},
      "source": [
        "# Model 2 - Using Hyperparameter Tuning"
      ]
    },
    {
      "cell_type": "markdown",
      "metadata": {
        "id": "yr11eUbow60s"
      },
      "source": [
        "Since the performance of the baseline model is already quite good, I chose to make modifications in the form of hyperparameter tuning. I am tuning the number of LSTM units within a range of 32 to 128, with a step of 32. Additionally, I am tuning the learning rate (1e-2, 1e-3, 1e-4)."
      ]
    },
    {
      "cell_type": "code",
      "execution_count": null,
      "metadata": {
        "id": "nScZ2HYHFOwJ"
      },
      "outputs": [],
      "source": [
        "def build_model(hp):\n",
        "    model = Sequential()\n",
        "    model.add(LSTM(\n",
        "        units=hp.Int('units', min_value=32, max_value=128, step=32),\n",
        "        activation='relu',\n",
        "        input_shape=(x_train.shape[1], 1)\n",
        "    ))\n",
        "    model.add(Dense(1))\n",
        "\n",
        "    model.compile(\n",
        "        optimizer=tf.keras.optimizers.Adam(hp.Choice('learning_rate', values=[1e-2, 1e-3, 1e-4])),\n",
        "        loss='mean_squared_error'\n",
        "    )\n",
        "\n",
        "    return model"
      ]
    },
    {
      "cell_type": "code",
      "execution_count": null,
      "metadata": {
        "colab": {
          "base_uri": "https://localhost:8080/"
        },
        "id": "P8tNcwzOFO5g",
        "outputId": "464d9ce1-945e-4222-d3c8-c5050e7a86c5"
      },
      "outputs": [
        {
          "name": "stdout",
          "output_type": "stream",
          "text": [
            "Reloading Tuner from my_dir/hyperparam_tuning/tuner0.json\n"
          ]
        }
      ],
      "source": [
        "tuner = kt.RandomSearch(build_model, objective='val_loss', max_trials=10,\n",
        "                        executions_per_trial=3, directory='my_dir',\n",
        "                        project_name='hyperparam_tuning')\n",
        "\n",
        "tuner.search(train_data, epochs=50, validation_data=val_data, verbose=1)"
      ]
    },
    {
      "cell_type": "code",
      "execution_count": null,
      "metadata": {
        "colab": {
          "base_uri": "https://localhost:8080/"
        },
        "id": "tgqpNhsZI15V",
        "outputId": "6eef899d-edec-4961-c27d-70ac746745f6"
      },
      "outputs": [
        {
          "name": "stdout",
          "output_type": "stream",
          "text": [
            "Best number of units: 32\n",
            "Best learning rate: 0.01\n"
          ]
        }
      ],
      "source": [
        "best_hps = tuner.get_best_hyperparameters(num_trials=1)[0]\n",
        "\n",
        "print(f\"Best number of units: {best_hps.get('units')}\")\n",
        "print(f\"Best learning rate: {best_hps.get('learning_rate')}\")"
      ]
    },
    {
      "cell_type": "markdown",
      "metadata": {
        "id": "O6rlMVHA2swE"
      },
      "source": [
        "The best hyperparameters obtained are 32 LSTM units and a learning rate of 0.01."
      ]
    },
    {
      "cell_type": "code",
      "execution_count": null,
      "metadata": {
        "id": "WtLFpK8CIUcH"
      },
      "outputs": [],
      "source": [
        "best_model = tuner.hypermodel.build(best_hps)"
      ]
    },
    {
      "cell_type": "code",
      "execution_count": null,
      "metadata": {
        "colab": {
          "base_uri": "https://localhost:8080/"
        },
        "id": "74FVHtTuFO8m",
        "outputId": "2acc6b43-a2ce-4130-e997-8980b101e447"
      },
      "outputs": [
        {
          "name": "stdout",
          "output_type": "stream",
          "text": [
            "Epoch 1/100\n",
            "64/66 [============================>.] - ETA: 0s - loss: 15.7440\n",
            "Epoch 1: val_loss did not improve from 0.30842\n",
            "66/66 [==============================] - 3s 9ms/step - loss: 15.4546 - val_loss: 0.3972\n",
            "Epoch 2/100\n",
            "61/66 [==========================>...] - ETA: 0s - loss: 1.4059\n",
            "Epoch 2: val_loss did not improve from 0.30842\n",
            "66/66 [==============================] - 0s 4ms/step - loss: 1.3917 - val_loss: 1.1243\n",
            "Epoch 3/100\n",
            "64/66 [============================>.] - ETA: 0s - loss: 1.9461\n",
            "Epoch 3: val_loss did not improve from 0.30842\n",
            "66/66 [==============================] - 0s 4ms/step - loss: 1.9195 - val_loss: 0.7816\n",
            "Epoch 4/100\n",
            "51/66 [======================>.......] - ETA: 0s - loss: 1.9211\n",
            "Epoch 4: val_loss did not improve from 0.30842\n",
            "66/66 [==============================] - 0s 3ms/step - loss: 1.7237 - val_loss: 1.5081\n",
            "Epoch 5/100\n",
            "65/66 [============================>.] - ETA: 0s - loss: 1.1017\n",
            "Epoch 5: val_loss did not improve from 0.30842\n",
            "66/66 [==============================] - 0s 4ms/step - loss: 1.0987 - val_loss: 3.4995\n",
            "Epoch 6/100\n",
            "59/66 [=========================>....] - ETA: 0s - loss: 2.1049\n",
            "Epoch 6: val_loss did not improve from 0.30842\n",
            "66/66 [==============================] - 0s 4ms/step - loss: 2.0043 - val_loss: 0.3659\n",
            "Epoch 7/100\n",
            "60/66 [==========================>...] - ETA: 0s - loss: 1.1828\n",
            "Epoch 7: val_loss did not improve from 0.30842\n",
            "66/66 [==============================] - 0s 4ms/step - loss: 1.1914 - val_loss: 1.3941\n",
            "Epoch 8/100\n",
            "66/66 [==============================] - ETA: 0s - loss: 1.5743\n",
            "Epoch 8: val_loss did not improve from 0.30842\n",
            "66/66 [==============================] - 0s 4ms/step - loss: 1.5743 - val_loss: 0.6809\n",
            "Epoch 9/100\n",
            "59/66 [=========================>....] - ETA: 0s - loss: 0.9845\n",
            "Epoch 9: val_loss did not improve from 0.30842\n",
            "66/66 [==============================] - 0s 4ms/step - loss: 0.9280 - val_loss: 1.1046\n",
            "Epoch 10/100\n",
            "51/66 [======================>.......] - ETA: 0s - loss: 0.9726\n",
            "Epoch 10: val_loss improved from 0.30842 to 0.29139, saving model to model_checkpoint.weights.h5\n",
            "66/66 [==============================] - 0s 4ms/step - loss: 1.0022 - val_loss: 0.2914\n",
            "Epoch 11/100\n",
            "58/66 [=========================>....] - ETA: 0s - loss: 1.0526\n",
            "Epoch 11: val_loss improved from 0.29139 to 0.21863, saving model to model_checkpoint.weights.h5\n",
            "66/66 [==============================] - 0s 4ms/step - loss: 1.0244 - val_loss: 0.2186\n",
            "Epoch 12/100\n",
            "63/66 [===========================>..] - ETA: 0s - loss: 1.3486\n",
            "Epoch 12: val_loss did not improve from 0.21863\n",
            "66/66 [==============================] - 0s 4ms/step - loss: 1.3309 - val_loss: 0.4038\n",
            "Epoch 13/100\n",
            "60/66 [==========================>...] - ETA: 0s - loss: 1.3375\n",
            "Epoch 13: val_loss did not improve from 0.21863\n",
            "66/66 [==============================] - 0s 4ms/step - loss: 1.3124 - val_loss: 0.4199\n",
            "Epoch 14/100\n",
            "63/66 [===========================>..] - ETA: 0s - loss: 1.2059\n",
            "Epoch 14: val_loss did not improve from 0.21863\n",
            "66/66 [==============================] - 0s 4ms/step - loss: 1.1695 - val_loss: 0.4748\n",
            "Epoch 15/100\n",
            "61/66 [==========================>...] - ETA: 0s - loss: 1.3576\n",
            "Epoch 15: val_loss did not improve from 0.21863\n",
            "66/66 [==============================] - 0s 4ms/step - loss: 1.3128 - val_loss: 0.2579\n",
            "Epoch 16/100\n",
            "55/66 [========================>.....] - ETA: 0s - loss: 1.0283\n",
            "Epoch 16: val_loss did not improve from 0.21863\n",
            "66/66 [==============================] - 0s 4ms/step - loss: 1.0500 - val_loss: 0.3321\n"
          ]
        }
      ],
      "source": [
        "history = best_model.fit(train_data, validation_data = val_data,\n",
        "                         epochs=100, verbose=1,\n",
        "                         callbacks=[early_stopping, checkpoint])"
      ]
    },
    {
      "cell_type": "code",
      "execution_count": null,
      "metadata": {
        "colab": {
          "base_uri": "https://localhost:8080/"
        },
        "id": "uUtNNX3OJnLZ",
        "outputId": "baa63f62-196f-4a6c-9009-5d5b988e8cbd"
      },
      "outputs": [
        {
          "name": "stdout",
          "output_type": "stream",
          "text": [
            "5/5 [==============================] - 0s 3ms/step\n"
          ]
        }
      ],
      "source": [
        "y_pred = best_model.predict(x_test)\n",
        "\n",
        "y_pred = y_pred.flatten()\n",
        "y_test = y_test.flatten()"
      ]
    },
    {
      "cell_type": "code",
      "execution_count": null,
      "metadata": {
        "colab": {
          "base_uri": "https://localhost:8080/"
        },
        "id": "u6NXlLMgJZQm",
        "outputId": "c39cebd9-5319-4fe5-c9f9-b192b32f9c8d"
      },
      "outputs": [
        {
          "name": "stdout",
          "output_type": "stream",
          "text": [
            "MAE: 0.6755330779335713\n",
            "MSE: 1.0544957159354442\n",
            "RMSE: 1.026886418225231\n",
            "R²: 0.9812347432036886\n",
            "MAPE: 1.5566528927746677\n"
          ]
        }
      ],
      "source": [
        "mae = mean_absolute_error(y_test, y_pred)\n",
        "mse = mean_squared_error(y_test, y_pred)\n",
        "rmse = np.sqrt(mse)\n",
        "r2 = r2_score(y_test, y_pred)\n",
        "mape = mean_absolute_percentage_error(y_test, y_pred) * 100\n",
        "\n",
        "print(f\"MAE: {mae}\")\n",
        "print(f\"MSE: {mse}\")\n",
        "print(f\"RMSE: {rmse}\")\n",
        "print(f\"R²: {r2}\")\n",
        "print(f\"MAPE: {mape}\")"
      ]
    },
    {
      "cell_type": "markdown",
      "metadata": {
        "id": "Lxbh7pDY3CDV"
      },
      "source": [
        "For the tuned model, the results obtained are better compared to the baseline model, indicating the success of the modified model."
      ]
    },
    {
      "cell_type": "code",
      "execution_count": null,
      "metadata": {
        "colab": {
          "base_uri": "https://localhost:8080/"
        },
        "id": "M-00cWNANZwn",
        "outputId": "1abc184c-ac0e-456d-d837-acf5c33f7f57"
      },
      "outputs": [
        {
          "data": {
            "image/png": "[encoded data removed]",
            "text/plain": [
              "<Figure size 1200x600 with 1 Axes>"
            ]
          },
          "metadata": {},
          "output_type": "display_data"
        }
      ],
      "source": [
        "plt.figure(figsize=(12, 6))\n",
        "plt.plot(range(len(y_test)), y_test, color='blue', label='Actual')\n",
        "plt.plot(range(len(y_pred)), y_pred, color='red', label='Predicted')\n",
        "plt.xlabel('Date')\n",
        "plt.ylabel('Close Price')\n",
        "plt.title('Actual vs Predicted Close Price')\n",
        "plt.legend()\n",
        "plt.show()"
      ]
    },
    {
      "cell_type": "markdown",
      "metadata": {
        "id": "yIJBw2BF7Ycb"
      },
      "source": [
        "Based on the plot above, the prediction results are very close to the actual close price. When compared to the baseline model, there are no significant differences in the prediction plots. However, in terms of evaluation metrics, this modified model outperforms the baseline model."
      ]
    },
    {
      "cell_type": "markdown",
      "metadata": {
        "id": "5mwrGeDKSW6t"
      },
      "source": [
        "# Evaluation & Conclusion"
      ]
    },
    {
      "cell_type": "code",
      "execution_count": null,
      "metadata": {
        "id": "txkWrdq6SYhC"
      },
      "outputs": [],
      "source": [
        "def evaluate_model(model, x_test, y_test):\n",
        "\n",
        "    predictions = model.predict(x_test)\n",
        "\n",
        "    rmse = np.sqrt(mean_squared_error(y_test, predictions))\n",
        "    mae = mean_absolute_error(y_test, predictions)\n",
        "    mape = mean_absolute_percentage_error(y_test, predictions) * 100\n",
        "\n",
        "    return rmse, mae, mape"
      ]
    },
    {
      "cell_type": "code",
      "execution_count": null,
      "metadata": {
        "colab": {
          "base_uri": "https://localhost:8080/"
        },
        "id": "tHtbxUVLSo4_",
        "outputId": "a788678c-a45c-4928-c134-543ddc06023e"
      },
      "outputs": [
        {
          "name": "stdout",
          "output_type": "stream",
          "text": [
            "5/5 [==============================] - 0s 3ms/step\n",
            "5/5 [==============================] - 0s 3ms/step\n"
          ]
        }
      ],
      "source": [
        "baseline_rmse, baseline_mae, baseline_mape = evaluate_model(baseline_model, x_test, y_test)\n",
        "\n",
        "tuned_rmse, tuned_mae, tuned_mape = evaluate_model(best_model, x_test, y_test)"
      ]
    },
    {
      "cell_type": "code",
      "execution_count": null,
      "metadata": {
        "colab": {
          "base_uri": "https://localhost:8080/"
        },
        "id": "_orPFV_rS1vn",
        "outputId": "e903e4a0-f4a7-4e24-c71e-2bdf3f664dba"
      },
      "outputs": [
        {
          "name": "stdout",
          "output_type": "stream",
          "text": [
            "Baseline Model Evaluation:\n",
            "RMSE: 1.0951392233386168\n",
            "MAE: 0.7524042274012706\n",
            "MAPE: 1.7349064066433173%\n",
            "\n",
            "Tuned Model Evaluation:\n",
            "RMSE: 1.026886418225231\n",
            "MAE: 0.6755330779335713\n",
            "MAPE: 1.5566528927746677%\n"
          ]
        }
      ],
      "source": [
        "print(\"Baseline Model Evaluation:\")\n",
        "print(f\"RMSE: {baseline_rmse}\")\n",
        "print(f\"MAE: {baseline_mae}\")\n",
        "print(f\"MAPE: {baseline_mape}%\")\n",
        "\n",
        "print(\"\\nTuned Model Evaluation:\")\n",
        "print(f\"RMSE: {tuned_rmse}\")\n",
        "print(f\"MAE: {tuned_mae}\")\n",
        "print(f\"MAPE: {tuned_mape}%\")"
      ]
    },
    {
      "cell_type": "markdown",
      "metadata": {
        "id": "OMvCmNmLTMQv"
      },
      "source": [
        "From the output above, it is clear that the modified model with hyperparameter tuning shows better performance in predicting the close price compared to the baseline model.\n",
        "\n",
        "### Explanation of RMSE, MAE, and MAPE metrics:\n",
        "\n",
        "- **RMSE** measures the square root of the average squared errors between predicted and actual values. The RMSE value for the tuned model is 1.0269, which is lower than the baseline model's RMSE of 1.0951. This indicates that the tuned model has smaller overall prediction errors, meaning it is more accurate in predicting the close price of CSCO stock.\n",
        "\n",
        "- **MAE** represents the average of the absolute differences between predicted and actual values. The MAE for the tuned model is 0.6755, which is lower than the baseline model's MAE of 0.7524. This shows that the average prediction error of the tuned model is smaller, indicating that its predictions are consistently closer to the actual close price.\n",
        "\n",
        "- **MAPE** measures the average percentage of absolute errors between predicted and actual values. The MAPE for the tuned model is 1.5567%, while the baseline model's MAPE is 1.7349%. This clearly indicates that the tuned model has a smaller relative error, demonstrating better performance in predicting the close price of CSCO stock in terms of percentage error.\n",
        "\n",
        "The decrease in RMSE, MAE, and MAPE values indicates that the model modified through hyperparameter tuning is more accurate in predicting the close price of CSCO stock based on the provided data. This demonstrates that the hyperparameter tuning successfully enhanced the model's accuracy and reliability in the time series prediction of CSCO's close price."
      ]
    }
  ],
  "metadata": {
    "colab": {
      "provenance": []
    },
    "kernelspec": {
      "display_name": "Python 3",
      "name": "python3"
    },
    "language_info": {
      "codemirror_mode": {
        "name": "ipython",
        "version": 3
      },
      "file_extension": ".py",
      "mimetype": "text/x-python",
      "name": "python",
      "nbconvert_exporter": "python",
      "pygments_lexer": "ipython3",
      "version": "3.12.2"
    }
  },
  "nbformat": 4,
  "nbformat_minor": 0
}
